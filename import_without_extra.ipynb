{
 "cells": [
  {
   "cell_type": "code",
   "execution_count": 1,
   "id": "33f60148",
   "metadata": {},
   "outputs": [],
   "source": [
    "import pandas as pd\n",
    "import json\n",
    "import gzip\n",
    "\n",
    "\n",
    "def parse(path):\n",
    "    g = gzip.open(path, \"rb\")\n",
    "    for l in g:\n",
    "        yield json.loads(l)\n",
    "\n",
    "\n",
    "def getDF(path, stop=0):\n",
    "    i = 0\n",
    "    df = {}\n",
    "    for d in parse(path):\n",
    "        df[i] = d\n",
    "        i += 1\n",
    "        if stop > 0 and i == stop:\n",
    "            break\n",
    "    return pd.DataFrame.from_dict(df, orient=\"index\")"
   ]
  },
  {
   "cell_type": "code",
   "execution_count": 2,
   "id": "b0e8dc18",
   "metadata": {},
   "outputs": [],
   "source": [
    "df = pd.DataFrame(columns=[\"overall\", \"verified\", \"reviewText\", \"summary\", \"sentiment\"])"
   ]
  },
  {
   "cell_type": "code",
   "execution_count": 3,
   "id": "2a1a0d10",
   "metadata": {},
   "outputs": [],
   "source": [
    "peek = 1_000_000\n",
    "stop = 1000\n",
    "i = 0\n",
    "\n",
    "for review in parse(\"./data/All_Amazon_Review.json.gz\"):\n",
    "    i += 1\n",
    "    if stop > 0 and stop == i:\n",
    "        break\n",
    "    if i % peek == 0:\n",
    "        print(f\"Processed {i / peek:.2f} million reviews\")\n",
    "\n",
    "    if \"overall\" not in review or \"verified\" not in review or \"reviewText\" not in review or \"summary\" not in review:\n",
    "        continue\n",
    "    df.loc[i] = [review[\"overall\"], review[\"verified\"], review[\"reviewText\"], review[\"summary\"], 0]\n",
    "\n"
   ]
  },
  {
   "cell_type": "code",
   "execution_count": 4,
   "id": "489d7056",
   "metadata": {},
   "outputs": [
    {
     "data": {
      "text/html": [
       "<div>\n",
       "<style scoped>\n",
       "    .dataframe tbody tr th:only-of-type {\n",
       "        vertical-align: middle;\n",
       "    }\n",
       "\n",
       "    .dataframe tbody tr th {\n",
       "        vertical-align: top;\n",
       "    }\n",
       "\n",
       "    .dataframe thead th {\n",
       "        text-align: right;\n",
       "    }\n",
       "</style>\n",
       "<table border=\"1\" class=\"dataframe\">\n",
       "  <thead>\n",
       "    <tr style=\"text-align: right;\">\n",
       "      <th></th>\n",
       "      <th>overall</th>\n",
       "      <th>verified</th>\n",
       "      <th>reviewText</th>\n",
       "      <th>summary</th>\n",
       "      <th>sentiment</th>\n",
       "    </tr>\n",
       "  </thead>\n",
       "  <tbody>\n",
       "    <tr>\n",
       "      <th>1</th>\n",
       "      <td>1.0</td>\n",
       "      <td>False</td>\n",
       "      <td>Alexa is not able to control my lights. If I a...</td>\n",
       "      <td>VERY Buggy, doesn't work.</td>\n",
       "      <td>0</td>\n",
       "    </tr>\n",
       "    <tr>\n",
       "      <th>2</th>\n",
       "      <td>4.0</td>\n",
       "      <td>False</td>\n",
       "      <td>Alexa works great for me so far, but I'm also ...</td>\n",
       "      <td>So Far So Good</td>\n",
       "      <td>0</td>\n",
       "    </tr>\n",
       "    <tr>\n",
       "      <th>3</th>\n",
       "      <td>1.0</td>\n",
       "      <td>False</td>\n",
       "      <td>Weak!!\\n\\nAlexa doesn't even recognize the nam...</td>\n",
       "      <td>Time waster</td>\n",
       "      <td>0</td>\n",
       "    </tr>\n",
       "    <tr>\n",
       "      <th>4</th>\n",
       "      <td>2.0</td>\n",
       "      <td>False</td>\n",
       "      <td>Can only control one of two bulbs from one of ...</td>\n",
       "      <td>Buggy</td>\n",
       "      <td>0</td>\n",
       "    </tr>\n",
       "    <tr>\n",
       "      <th>5</th>\n",
       "      <td>1.0</td>\n",
       "      <td>False</td>\n",
       "      <td>this worked great then randomly stopped. pleas...</td>\n",
       "      <td>stopped working</td>\n",
       "      <td>0</td>\n",
       "    </tr>\n",
       "  </tbody>\n",
       "</table>\n",
       "</div>"
      ],
      "text/plain": [
       "   overall  verified                                         reviewText  \\\n",
       "1      1.0     False  Alexa is not able to control my lights. If I a...   \n",
       "2      4.0     False  Alexa works great for me so far, but I'm also ...   \n",
       "3      1.0     False  Weak!!\\n\\nAlexa doesn't even recognize the nam...   \n",
       "4      2.0     False  Can only control one of two bulbs from one of ...   \n",
       "5      1.0     False  this worked great then randomly stopped. pleas...   \n",
       "\n",
       "                     summary  sentiment  \n",
       "1  VERY Buggy, doesn't work.          0  \n",
       "2             So Far So Good          0  \n",
       "3                Time waster          0  \n",
       "4                      Buggy          0  \n",
       "5            stopped working          0  "
      ]
     },
     "execution_count": 4,
     "metadata": {},
     "output_type": "execute_result"
    }
   ],
   "source": [
    "df.head()"
   ]
  },
  {
   "cell_type": "code",
   "execution_count": 5,
   "id": "81d933ec",
   "metadata": {},
   "outputs": [
    {
     "data": {
      "text/plain": [
       "(997, 5)"
      ]
     },
     "execution_count": 5,
     "metadata": {},
     "output_type": "execute_result"
    }
   ],
   "source": [
    "df.shape"
   ]
  },
  {
   "cell_type": "code",
   "execution_count": 6,
   "id": "d5dc6448",
   "metadata": {},
   "outputs": [
    {
     "name": "stdout",
     "output_type": "stream",
     "text": [
      "size of df in bytes:  40877\n"
     ]
    }
   ],
   "source": [
    "df_size =  df.memory_usage(index=True).sum()\n",
    "print(\"size of df in bytes: \", df_size)"
   ]
  },
  {
   "cell_type": "code",
   "execution_count": 7,
   "id": "b11390fc",
   "metadata": {},
   "outputs": [],
   "source": [
    "df1 = getDF(\"./data/All_Amazon_Review.json.gz\", stop)"
   ]
  },
  {
   "cell_type": "code",
   "execution_count": 8,
   "id": "8ebaf92d",
   "metadata": {},
   "outputs": [
    {
     "data": {
      "text/html": [
       "<div>\n",
       "<style scoped>\n",
       "    .dataframe tbody tr th:only-of-type {\n",
       "        vertical-align: middle;\n",
       "    }\n",
       "\n",
       "    .dataframe tbody tr th {\n",
       "        vertical-align: top;\n",
       "    }\n",
       "\n",
       "    .dataframe thead th {\n",
       "        text-align: right;\n",
       "    }\n",
       "</style>\n",
       "<table border=\"1\" class=\"dataframe\">\n",
       "  <thead>\n",
       "    <tr style=\"text-align: right;\">\n",
       "      <th></th>\n",
       "      <th>overall</th>\n",
       "      <th>verified</th>\n",
       "      <th>reviewTime</th>\n",
       "      <th>reviewerID</th>\n",
       "      <th>asin</th>\n",
       "      <th>reviewerName</th>\n",
       "      <th>reviewText</th>\n",
       "      <th>summary</th>\n",
       "      <th>unixReviewTime</th>\n",
       "      <th>vote</th>\n",
       "    </tr>\n",
       "  </thead>\n",
       "  <tbody>\n",
       "    <tr>\n",
       "      <th>0</th>\n",
       "      <td>1.0</td>\n",
       "      <td>False</td>\n",
       "      <td>12 11, 2015</td>\n",
       "      <td>A27BTSGLXK2C5K</td>\n",
       "      <td>B017O9P72A</td>\n",
       "      <td>Jacob M. Wessler</td>\n",
       "      <td>Alexa is not able to control my lights. If I a...</td>\n",
       "      <td>VERY Buggy, doesn't work.</td>\n",
       "      <td>1449792000</td>\n",
       "      <td>NaN</td>\n",
       "    </tr>\n",
       "    <tr>\n",
       "      <th>1</th>\n",
       "      <td>4.0</td>\n",
       "      <td>False</td>\n",
       "      <td>12 8, 2015</td>\n",
       "      <td>A27ZJ1NCBFP1HZ</td>\n",
       "      <td>B017O9P72A</td>\n",
       "      <td>Greg</td>\n",
       "      <td>Alexa works great for me so far, but I'm also ...</td>\n",
       "      <td>So Far So Good</td>\n",
       "      <td>1449532800</td>\n",
       "      <td>5</td>\n",
       "    </tr>\n",
       "    <tr>\n",
       "      <th>2</th>\n",
       "      <td>1.0</td>\n",
       "      <td>False</td>\n",
       "      <td>12 7, 2015</td>\n",
       "      <td>ACCQIOZMFN4UK</td>\n",
       "      <td>B017O9P72A</td>\n",
       "      <td>Da-Gr8-1</td>\n",
       "      <td>Weak!!\\n\\nAlexa doesn't even recognize the nam...</td>\n",
       "      <td>Time waster</td>\n",
       "      <td>1449446400</td>\n",
       "      <td>11</td>\n",
       "    </tr>\n",
       "    <tr>\n",
       "      <th>3</th>\n",
       "      <td>2.0</td>\n",
       "      <td>False</td>\n",
       "      <td>12 5, 2015</td>\n",
       "      <td>A3KUPJ396OQF78</td>\n",
       "      <td>B017O9P72A</td>\n",
       "      <td>Larry Russlin</td>\n",
       "      <td>Can only control one of two bulbs from one of ...</td>\n",
       "      <td>Buggy</td>\n",
       "      <td>1449273600</td>\n",
       "      <td>NaN</td>\n",
       "    </tr>\n",
       "    <tr>\n",
       "      <th>4</th>\n",
       "      <td>1.0</td>\n",
       "      <td>False</td>\n",
       "      <td>02 2, 2018</td>\n",
       "      <td>A1U1RE1ZI19E1H</td>\n",
       "      <td>B017O9P72A</td>\n",
       "      <td>Rebekah</td>\n",
       "      <td>this worked great then randomly stopped. pleas...</td>\n",
       "      <td>stopped working</td>\n",
       "      <td>1517529600</td>\n",
       "      <td>2</td>\n",
       "    </tr>\n",
       "  </tbody>\n",
       "</table>\n",
       "</div>"
      ],
      "text/plain": [
       "   overall  verified   reviewTime      reviewerID        asin  \\\n",
       "0      1.0     False  12 11, 2015  A27BTSGLXK2C5K  B017O9P72A   \n",
       "1      4.0     False   12 8, 2015  A27ZJ1NCBFP1HZ  B017O9P72A   \n",
       "2      1.0     False   12 7, 2015   ACCQIOZMFN4UK  B017O9P72A   \n",
       "3      2.0     False   12 5, 2015  A3KUPJ396OQF78  B017O9P72A   \n",
       "4      1.0     False   02 2, 2018  A1U1RE1ZI19E1H  B017O9P72A   \n",
       "\n",
       "       reviewerName                                         reviewText  \\\n",
       "0  Jacob M. Wessler  Alexa is not able to control my lights. If I a...   \n",
       "1              Greg  Alexa works great for me so far, but I'm also ...   \n",
       "2          Da-Gr8-1  Weak!!\\n\\nAlexa doesn't even recognize the nam...   \n",
       "3     Larry Russlin  Can only control one of two bulbs from one of ...   \n",
       "4           Rebekah  this worked great then randomly stopped. pleas...   \n",
       "\n",
       "                     summary  unixReviewTime vote  \n",
       "0  VERY Buggy, doesn't work.      1449792000  NaN  \n",
       "1             So Far So Good      1449532800    5  \n",
       "2                Time waster      1449446400   11  \n",
       "3                      Buggy      1449273600  NaN  \n",
       "4            stopped working      1517529600    2  "
      ]
     },
     "execution_count": 8,
     "metadata": {},
     "output_type": "execute_result"
    }
   ],
   "source": [
    "df1.head()"
   ]
  },
  {
   "cell_type": "code",
   "execution_count": 9,
   "id": "387730f1",
   "metadata": {},
   "outputs": [
    {
     "data": {
      "text/plain": [
       "(1000, 10)"
      ]
     },
     "execution_count": 9,
     "metadata": {},
     "output_type": "execute_result"
    }
   ],
   "source": [
    "df1.shape"
   ]
  },
  {
   "cell_type": "code",
   "execution_count": 10,
   "id": "7b268b6f",
   "metadata": {},
   "outputs": [
    {
     "name": "stdout",
     "output_type": "stream",
     "text": [
      "size of df1 in bytes:  81000\n"
     ]
    }
   ],
   "source": [
    "df1_size =  df1.memory_usage(index=True).sum()\n",
    "print(\"size of df1 in bytes: \", df1_size)"
   ]
  },
  {
   "cell_type": "code",
   "execution_count": 11,
   "id": "d61983aa",
   "metadata": {},
   "outputs": [
    {
     "name": "stdout",
     "output_type": "stream",
     "text": [
      "ratio of reading the whole file vs parsing the required columns:  1.9815544193556278\n"
     ]
    }
   ],
   "source": [
    "print(\"ratio of reading the whole file vs parsing the required columns: \", df1_size / df_size)"
   ]
  }
 ],
 "metadata": {
  "kernelspec": {
   "display_name": "Python 3 (ipykernel)",
   "language": "python",
   "name": "python3"
  },
  "language_info": {
   "codemirror_mode": {
    "name": "ipython",
    "version": 3
   },
   "file_extension": ".py",
   "mimetype": "text/x-python",
   "name": "python",
   "nbconvert_exporter": "python",
   "pygments_lexer": "ipython3",
   "version": "3.10.12"
  }
 },
 "nbformat": 4,
 "nbformat_minor": 5
}
