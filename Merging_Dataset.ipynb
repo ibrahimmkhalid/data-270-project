{
  "cells": [
    {
      "cell_type": "code",
      "execution_count": 5,
      "metadata": {
        "id": "tRNPu2rV6vy9"
      },
      "outputs": [],
      "source": [
        "import json\n",
        "import gzip\n",
        "import pandas as pd"
      ]
    },
    {
      "cell_type": "code",
      "execution_count": 6,
      "metadata": {
        "id": "NMpZkf4u5ctq"
      },
      "outputs": [],
      "source": [
        "# Converting json.gz to dataframe.\n",
        "# Code taken from the site the data is from\n",
        "def parse(path):\n",
        "  g = gzip.open(path, 'rb')\n",
        "  for l in g:\n",
        "    yield json.loads(l)\n",
        "\n",
        "def getDF(path):\n",
        "  i = 0\n",
        "  df = {}\n",
        "  for d in parse(path):\n",
        "    df[i] = d\n",
        "    i += 1\n",
        "  return pd.DataFrame.from_dict(df, orient='index')\n",
        "\n",
        "df = getDF('Musical_Instruments_5.json.gz')  # Change to file location\n",
        "df2 = getDF('Arts_Crafts_and_Sewing_5.json.gz')\n",
        "df3 = getDF('All_Beauty_5.json.gz')\n",
        "df4 = getDF('AMAZON_FASHION_5.json.gz')\n",
        "df5 = getDF('Appliances_5.json.gz')\n",
        "df6 = getDF('Software_5.json.gz')"
      ]
    },
    {
      "cell_type": "code",
      "execution_count": 7,
      "metadata": {
        "id": "euaRnrem7E5C"
      },
      "outputs": [],
      "source": [
        "frames = [df, df2, df3, df4, df5, df6]\n",
        "combined = pd.concat(frames)"
      ]
    },
    {
      "cell_type": "code",
      "execution_count": 9,
      "metadata": {
        "id": "k3vtvaLs7o0V"
      },
      "outputs": [],
      "source": [
        "combined.to_csv('combined.csv', index=False)"
      ]
    }
  ],
  "metadata": {
    "colab": {
      "provenance": []
    },
    "kernelspec": {
      "display_name": "Python 3",
      "name": "python3"
    },
    "language_info": {
      "name": "python"
    }
  },
  "nbformat": 4,
  "nbformat_minor": 0
}
