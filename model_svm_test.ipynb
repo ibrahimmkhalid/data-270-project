{
 "cells": [
  {
   "cell_type": "code",
   "execution_count": 70,
   "id": "4a0089b1",
   "metadata": {},
   "outputs": [
    {
     "name": "stderr",
     "output_type": "stream",
     "text": [
      "[nltk_data] Downloading package punkt to /home/ibrahim/nltk_data...\n",
      "[nltk_data]   Package punkt is already up-to-date!\n",
      "[nltk_data] Downloading package stopwords to\n",
      "[nltk_data]     /home/ibrahim/nltk_data...\n",
      "[nltk_data]   Package stopwords is already up-to-date!\n",
      "[nltk_data] Downloading package wordnet to /home/ibrahim/nltk_data...\n",
      "[nltk_data]   Package wordnet is already up-to-date!\n"
     ]
    },
    {
     "data": {
      "text/plain": [
       "True"
      ]
     },
     "execution_count": 70,
     "metadata": {},
     "output_type": "execute_result"
    }
   ],
   "source": [
    "import pandas as pd\n",
    "import nltk\n",
    "import re\n",
    "import random\n",
    "import numpy as np\n",
    "from nltk.stem import PorterStemmer, WordNetLemmatizer\n",
    "from sklearn.model_selection import train_test_split\n",
    "from sklearn.feature_extraction.text import TfidfVectorizer, CountVectorizer\n",
    "from sklearn.svm import SVC\n",
    "from sklearn.metrics import classification_report\n",
    "from sklearn.metrics import f1_score, accuracy_score\n",
    "from nltk.corpus import stopwords\n",
    "from scipy.sparse import hstack\n",
    "import warnings\n",
    "warnings.filterwarnings(\"ignore\")\n",
    "\n",
    "nltk.download(\"punkt\")\n",
    "nltk.download(\"stopwords\")\n",
    "nltk.download(\"wordnet\")"
   ]
  },
  {
   "cell_type": "code",
   "execution_count": 71,
   "id": "7abc39e7",
   "metadata": {},
   "outputs": [],
   "source": [
    "baseline = \"baseline\"\n",
    "stem = \"stem\"\n",
    "lem = \"lem\"\n",
    "bow = \"bow\"\n",
    "tfidf = \"tfidf\"\n",
    "random_state = 42\n",
    "testing_n = 5000\n",
    "random.seed(random_state)\n",
    "data_path = \"./data/combined.csv\""
   ]
  },
  {
   "cell_type": "code",
   "execution_count": 72,
   "id": "659411f8",
   "metadata": {},
   "outputs": [
    {
     "data": {
      "text/html": [
       "<div>\n",
       "<style scoped>\n",
       "    .dataframe tbody tr th:only-of-type {\n",
       "        vertical-align: middle;\n",
       "    }\n",
       "\n",
       "    .dataframe tbody tr th {\n",
       "        vertical-align: top;\n",
       "    }\n",
       "\n",
       "    .dataframe thead th {\n",
       "        text-align: right;\n",
       "    }\n",
       "</style>\n",
       "<table border=\"1\" class=\"dataframe\">\n",
       "  <thead>\n",
       "    <tr style=\"text-align: right;\">\n",
       "      <th></th>\n",
       "      <th>reviewText</th>\n",
       "      <th>verified</th>\n",
       "      <th>sentiment</th>\n",
       "      <th>reviewTextWithSummary</th>\n",
       "    </tr>\n",
       "  </thead>\n",
       "  <tbody>\n",
       "    <tr>\n",
       "      <th>0</th>\n",
       "      <td>As advertised. Reasonably priced</td>\n",
       "      <td>True</td>\n",
       "      <td>1</td>\n",
       "      <td>Five Stars As advertised. Reasonably priced</td>\n",
       "    </tr>\n",
       "    <tr>\n",
       "      <th>1</th>\n",
       "      <td>Like the oder and the feel when I put it on my...</td>\n",
       "      <td>True</td>\n",
       "      <td>1</td>\n",
       "      <td>Good for the face Like the oder and the feel w...</td>\n",
       "    </tr>\n",
       "    <tr>\n",
       "      <th>2</th>\n",
       "      <td>I bought this to smell nice after I shave.  Wh...</td>\n",
       "      <td>True</td>\n",
       "      <td>-1</td>\n",
       "      <td>Smells awful I bought this to smell nice after...</td>\n",
       "    </tr>\n",
       "    <tr>\n",
       "      <th>3</th>\n",
       "      <td>HEY!! I am an Aqua Velva Man and absolutely lo...</td>\n",
       "      <td>False</td>\n",
       "      <td>1</td>\n",
       "      <td>Truth is There IS Nothing Like an AQUA VELVA M...</td>\n",
       "    </tr>\n",
       "    <tr>\n",
       "      <th>4</th>\n",
       "      <td>If you ever want to feel pampered by a shampoo...</td>\n",
       "      <td>True</td>\n",
       "      <td>1</td>\n",
       "      <td>Bvlgari Shampoo If you ever want to feel pampe...</td>\n",
       "    </tr>\n",
       "  </tbody>\n",
       "</table>\n",
       "</div>"
      ],
      "text/plain": [
       "                                          reviewText  verified  sentiment  \\\n",
       "0                   As advertised. Reasonably priced      True          1   \n",
       "1  Like the oder and the feel when I put it on my...      True          1   \n",
       "2  I bought this to smell nice after I shave.  Wh...      True         -1   \n",
       "3  HEY!! I am an Aqua Velva Man and absolutely lo...     False          1   \n",
       "4  If you ever want to feel pampered by a shampoo...      True          1   \n",
       "\n",
       "                               reviewTextWithSummary  \n",
       "0        Five Stars As advertised. Reasonably priced  \n",
       "1  Good for the face Like the oder and the feel w...  \n",
       "2  Smells awful I bought this to smell nice after...  \n",
       "3  Truth is There IS Nothing Like an AQUA VELVA M...  \n",
       "4  Bvlgari Shampoo If you ever want to feel pampe...  "
      ]
     },
     "execution_count": 72,
     "metadata": {},
     "output_type": "execute_result"
    }
   ],
   "source": [
    "df = pd.read_csv(data_path, low_memory=False)\n",
    "df = df[[\"overall\", \"reviewText\", \"summary\", \"verified\"]]\n",
    "df.dropna(inplace=True)\n",
    "df[\"sentiment\"] = df[\"overall\"].apply(lambda x: 1 if x > 3 else -1 if x < 3 else 0)\n",
    "df[\"reviewTextWithSummary\"] = df[\"summary\"] + \" \" + df[\"reviewText\"]\n",
    "df.drop([\"overall\", \"summary\"], axis=1, inplace=True)\n",
    "df.head()"
   ]
  },
  {
   "cell_type": "markdown",
   "id": "46d0dae5",
   "metadata": {},
   "source": [
    "# Model experimentation"
   ]
  },
  {
   "cell_type": "code",
   "execution_count": 73,
   "id": "a98d2c13",
   "metadata": {},
   "outputs": [
    {
     "data": {
      "text/plain": [
       "sentiment\n",
       "-1    5000\n",
       " 0    5000\n",
       " 1    5000\n",
       "Name: count, dtype: int64"
      ]
     },
     "execution_count": 73,
     "metadata": {},
     "output_type": "execute_result"
    }
   ],
   "source": [
    "df_testing = (\n",
    "    df.groupby(\"sentiment\")\n",
    "    .apply(lambda x: x.sample(n=testing_n, random_state=random_state, replace=True))\n",
    "    .reset_index(drop=True)\n",
    ")\n",
    "df_testing[\"sentiment\"].value_counts()"
   ]
  },
  {
   "cell_type": "code",
   "execution_count": 74,
   "id": "128a6242",
   "metadata": {},
   "outputs": [
    {
     "data": {
      "text/html": [
       "<div>\n",
       "<style scoped>\n",
       "    .dataframe tbody tr th:only-of-type {\n",
       "        vertical-align: middle;\n",
       "    }\n",
       "\n",
       "    .dataframe tbody tr th {\n",
       "        vertical-align: top;\n",
       "    }\n",
       "\n",
       "    .dataframe thead th {\n",
       "        text-align: right;\n",
       "    }\n",
       "</style>\n",
       "<table border=\"1\" class=\"dataframe\">\n",
       "  <thead>\n",
       "    <tr style=\"text-align: right;\">\n",
       "      <th></th>\n",
       "      <th>reviewText</th>\n",
       "      <th>verified</th>\n",
       "      <th>sentiment</th>\n",
       "      <th>reviewTextWithSummary</th>\n",
       "    </tr>\n",
       "  </thead>\n",
       "  <tbody>\n",
       "    <tr>\n",
       "      <th>0</th>\n",
       "      <td>Intuit is a despicable company now. This is th...</td>\n",
       "      <td>False</td>\n",
       "      <td>-1</td>\n",
       "      <td>Intuit is One Unethical Company. Any alternati...</td>\n",
       "    </tr>\n",
       "    <tr>\n",
       "      <th>1</th>\n",
       "      <td>Very disappointed guitar came damaged with den...</td>\n",
       "      <td>True</td>\n",
       "      <td>-1</td>\n",
       "      <td>Very disappointed Very disappointed guitar cam...</td>\n",
       "    </tr>\n",
       "    <tr>\n",
       "      <th>2</th>\n",
       "      <td>The rings did not perform as I had hoped. They...</td>\n",
       "      <td>True</td>\n",
       "      <td>-1</td>\n",
       "      <td>Not what I was hoping for The rings did not pe...</td>\n",
       "    </tr>\n",
       "    <tr>\n",
       "      <th>3</th>\n",
       "      <td>My ProFX8 purchased from Amazon in 2015 was po...</td>\n",
       "      <td>False</td>\n",
       "      <td>-1</td>\n",
       "      <td>Mine broke. Very light use. Padded case. Maybe...</td>\n",
       "    </tr>\n",
       "    <tr>\n",
       "      <th>4</th>\n",
       "      <td>Not the greatest, really flimsy.</td>\n",
       "      <td>True</td>\n",
       "      <td>-1</td>\n",
       "      <td>Two Stars Not the greatest, really flimsy.</td>\n",
       "    </tr>\n",
       "  </tbody>\n",
       "</table>\n",
       "</div>"
      ],
      "text/plain": [
       "                                          reviewText  verified  sentiment  \\\n",
       "0  Intuit is a despicable company now. This is th...     False         -1   \n",
       "1  Very disappointed guitar came damaged with den...      True         -1   \n",
       "2  The rings did not perform as I had hoped. They...      True         -1   \n",
       "3  My ProFX8 purchased from Amazon in 2015 was po...     False         -1   \n",
       "4                   Not the greatest, really flimsy.      True         -1   \n",
       "\n",
       "                               reviewTextWithSummary  \n",
       "0  Intuit is One Unethical Company. Any alternati...  \n",
       "1  Very disappointed Very disappointed guitar cam...  \n",
       "2  Not what I was hoping for The rings did not pe...  \n",
       "3  Mine broke. Very light use. Padded case. Maybe...  \n",
       "4         Two Stars Not the greatest, really flimsy.  "
      ]
     },
     "execution_count": 74,
     "metadata": {},
     "output_type": "execute_result"
    }
   ],
   "source": [
    "df_testing.head()"
   ]
  },
  {
   "cell_type": "code",
   "execution_count": 75,
   "id": "29a2229c",
   "metadata": {},
   "outputs": [
    {
     "name": "stdout",
     "output_type": "stream",
     "text": [
      "Dataset size: 15000\n"
     ]
    }
   ],
   "source": [
    "print(\"Dataset size:\", len(df_testing))"
   ]
  },
  {
   "cell_type": "code",
   "execution_count": 76,
   "id": "c6d3a442",
   "metadata": {},
   "outputs": [],
   "source": [
    "STOP_WORDS = set(stopwords.words(\"english\"))"
   ]
  },
  {
   "cell_type": "code",
   "execution_count": 77,
   "id": "e24c7eb7",
   "metadata": {},
   "outputs": [],
   "source": [
    "def preprocess_text(sentence, stop, type_proc=None):\n",
    "    words = []\n",
    "    for word in sentence.lower().strip().split():\n",
    "\n",
    "        word = re.sub(\"\\d\", \"\", word)\n",
    "        word = re.sub(\"[^\\w\\s]\", \"\", word)\n",
    "\n",
    "        if word not in stop and word != \"\":\n",
    "            words.append(preprocess_type(word, type_proc))\n",
    "\n",
    "    return \" \".join(words)"
   ]
  },
  {
   "cell_type": "code",
   "execution_count": 78,
   "id": "3c31c5ea",
   "metadata": {},
   "outputs": [],
   "source": [
    "def preprocess_type(word, type_proc):\n",
    "    if type_proc == baseline:\n",
    "        return word\n",
    "    elif type_proc == stem:\n",
    "        return PorterStemmer().stem(word)\n",
    "    elif type_proc == lem:\n",
    "        return WordNetLemmatizer().lemmatize(word)\n",
    "    else:\n",
    "        raise ValueError(\"Invalid Preprocessing Type\")"
   ]
  },
  {
   "cell_type": "code",
   "execution_count": 79,
   "id": "a4dc149e",
   "metadata": {},
   "outputs": [],
   "source": [
    "def my_train_test_split(cols, test_size, df=df, random_state=random_state):\n",
    "    x_train, x_test, y_train, y_test = train_test_split(\n",
    "        df[cols], df[\"sentiment\"], test_size=test_size, random_state=random_state\n",
    "    )\n",
    "    return x_train, x_test, y_train, y_test"
   ]
  },
  {
   "cell_type": "code",
   "execution_count": 80,
   "id": "c5f55ddf",
   "metadata": {},
   "outputs": [],
   "source": [
    "def apply_preprocessing(proc, x_train, x_test):\n",
    "    if proc is None:\n",
    "        return x_train, x_test\n",
    "    cols = x_train.columns\n",
    "\n",
    "    textcol = \"reviewText\"\n",
    "    if \"reviewText\" not in cols and \"reviewTextWithSummary\" in cols:\n",
    "        textcol = \"reviewTextWithSummary\"\n",
    "    x_train[textcol] = x_train[textcol].apply(\n",
    "        lambda x: preprocess_text(x, STOP_WORDS, proc)\n",
    "    )\n",
    "    x_test[textcol] = x_test[textcol].apply(\n",
    "        lambda x: preprocess_text(x, STOP_WORDS, proc)\n",
    "    )\n",
    "    return x_train, x_test"
   ]
  },
  {
   "cell_type": "code",
   "execution_count": 81,
   "id": "ede20bdf",
   "metadata": {},
   "outputs": [],
   "source": [
    "def add_col(x, col):\n",
    "    col = np.array([col]).T\n",
    "    return hstack([x, col])"
   ]
  },
  {
   "cell_type": "code",
   "execution_count": 82,
   "id": "34142bb9",
   "metadata": {},
   "outputs": [],
   "source": [
    "def pipeline(cols, test_size, proc, vectorizer, df=df, random_state=random_state):\n",
    "    if \"reviewText\" not in cols and \"reviewTextWithSummary\" not in cols:\n",
    "        raise ValueError(\"Must contain reviewText or reviewTextWithSummary\")\n",
    "\n",
    "    textcol = \"reviewText\"\n",
    "    if \"reviewText\" not in cols and \"reviewTextWithSummary\" in cols:\n",
    "        textcol = \"reviewTextWithSummary\"\n",
    "    x_train, x_test, y_train, y_test = my_train_test_split(\n",
    "        cols, test_size, df, random_state\n",
    "    )\n",
    "    x_train, x_test = apply_preprocessing(proc, x_train, x_test)\n",
    "    if vectorizer == bow:\n",
    "        vectorizer = CountVectorizer()\n",
    "    elif vectorizer == tfidf:\n",
    "        vectorizer = TfidfVectorizer()\n",
    "    else:\n",
    "        raise ValueError(\"Invalid Vectorizer\")\n",
    "    x_train_ = vectorizer.fit_transform(x_train[textcol])\n",
    "    x_test_ = vectorizer.transform(x_test[textcol])\n",
    "\n",
    "    if \"verified\" in cols:\n",
    "        x_train = add_col(x_train_, x_train[\"verified\"])\n",
    "        x_test = add_col(x_test_, x_test[\"verified\"])\n",
    "    else:\n",
    "        x_train = x_train_\n",
    "        x_test = x_test_\n",
    "    return x_train, x_test, y_train, y_test"
   ]
  },
  {
   "cell_type": "markdown",
   "id": "9fdca857",
   "metadata": {},
   "source": [
    "## Testing different configs"
   ]
  },
  {
   "cell_type": "code",
   "execution_count": 84,
   "id": "127f4f84",
   "metadata": {},
   "outputs": [],
   "source": [
    "compare_list = pd.DataFrame(\n",
    "    columns=[\"Data config and preprocessing\", \"Accuracy\", \"F1 Score\"]\n",
    ")"
   ]
  },
  {
   "cell_type": "code",
   "execution_count": 85,
   "id": "fd80adab",
   "metadata": {},
   "outputs": [],
   "source": [
    "code_gen = False\n",
    "col_comb = [\n",
    "    [\"reviewText\"],\n",
    "    [\"reviewText\", \"verified\"],\n",
    "    [\"reviewTextWithSummary\"],\n",
    "    [\"reviewTextWithSummary\", \"verified\"],\n",
    "]\n",
    "proc_comb = [None, baseline, stem, lem]\n",
    "vectorizer_comb = [bow, tfidf]\n",
    "if code_gen:\n",
    "    for col in col_comb:\n",
    "        for proc in proc_comb:\n",
    "            for vectorizer in vectorizer_comb:\n",
    "                params = {\n",
    "                    \"col\": col,\n",
    "                    \"proc\": proc,\n",
    "                    \"vectorizer\": vectorizer,\n",
    "                }\n",
    "                print(\n",
    "                    f\"\"\"\n",
    "# %%\n",
    "x_train, x_test, y_train, y_test = pipeline({col}, 0.25, {proc}, {vectorizer}, df_testing)\n",
    "model = SVC()\n",
    "model.fit(x_train, y_train)\n",
    "y_pred = model.predict(x_test)\n",
    "print(classification_report(y_test, y_pred))\n",
    "accuracy = accuracy_score(y_test, y_pred)\n",
    "f1 = f1_score(y_test, y_pred, average=\"weighted\")\n",
    "compare_list.loc[len(compare_list)] = [{params}, accuracy, f1]\n",
    "\"\"\"\n",
    "                )"
   ]
  },
  {
   "cell_type": "code",
   "execution_count": 86,
   "id": "4a550869",
   "metadata": {},
   "outputs": [],
   "source": [
    "# below is code genderated by above cell, to make changes to the code, edit the\n",
    "# above cell and run it, pasting its contents between the markers"
   ]
  },
  {
   "cell_type": "code",
   "execution_count": 87,
   "id": "2b3f056a",
   "metadata": {},
   "outputs": [
    {
     "name": "stdout",
     "output_type": "stream",
     "text": [
      "              precision    recall  f1-score   support\n",
      "\n",
      "          -1       0.70      0.67      0.68      1284\n",
      "           0       0.60      0.55      0.58      1225\n",
      "           1       0.71      0.79      0.75      1241\n",
      "\n",
      "    accuracy                           0.67      3750\n",
      "   macro avg       0.67      0.67      0.67      3750\n",
      "weighted avg       0.67      0.67      0.67      3750\n",
      "\n"
     ]
    }
   ],
   "source": [
    "####### START OF GENERATED CODE #######\n",
    "x_train, x_test, y_train, y_test = pipeline(['reviewText'], 0.25, None, bow, df_testing)\n",
    "model = SVC()\n",
    "model.fit(x_train, y_train)\n",
    "y_pred = model.predict(x_test)\n",
    "print(classification_report(y_test, y_pred))\n",
    "accuracy = accuracy_score(y_test, y_pred)\n",
    "f1 = f1_score(y_test, y_pred, average=\"weighted\")\n",
    "compare_list.loc[len(compare_list)] = [{'col': ['reviewText'], 'proc': None, 'vectorizer': 'bow'}, accuracy, f1]"
   ]
  },
  {
   "cell_type": "code",
   "execution_count": 88,
   "id": "43d5de6a",
   "metadata": {},
   "outputs": [
    {
     "name": "stdout",
     "output_type": "stream",
     "text": [
      "              precision    recall  f1-score   support\n",
      "\n",
      "          -1       0.74      0.74      0.74      1284\n",
      "           0       0.62      0.64      0.63      1225\n",
      "           1       0.82      0.79      0.80      1241\n",
      "\n",
      "    accuracy                           0.72      3750\n",
      "   macro avg       0.73      0.72      0.72      3750\n",
      "weighted avg       0.73      0.72      0.73      3750\n",
      "\n"
     ]
    }
   ],
   "source": [
    "x_train, x_test, y_train, y_test = pipeline(['reviewText'], 0.25, None, tfidf, df_testing)\n",
    "model = SVC()\n",
    "model.fit(x_train, y_train)\n",
    "y_pred = model.predict(x_test)\n",
    "print(classification_report(y_test, y_pred))\n",
    "accuracy = accuracy_score(y_test, y_pred)\n",
    "f1 = f1_score(y_test, y_pred, average=\"weighted\")\n",
    "compare_list.loc[len(compare_list)] = [{'col': ['reviewText'], 'proc': None, 'vectorizer': 'tfidf'}, accuracy, f1]"
   ]
  },
  {
   "cell_type": "code",
   "execution_count": 89,
   "id": "8542b11b",
   "metadata": {},
   "outputs": [
    {
     "name": "stdout",
     "output_type": "stream",
     "text": [
      "              precision    recall  f1-score   support\n",
      "\n",
      "          -1       0.66      0.69      0.68      1284\n",
      "           0       0.59      0.52      0.55      1225\n",
      "           1       0.72      0.77      0.75      1241\n",
      "\n",
      "    accuracy                           0.66      3750\n",
      "   macro avg       0.66      0.66      0.66      3750\n",
      "weighted avg       0.66      0.66      0.66      3750\n",
      "\n"
     ]
    }
   ],
   "source": [
    "x_train, x_test, y_train, y_test = pipeline(['reviewText'], 0.25, baseline, bow, df_testing)\n",
    "model = SVC()\n",
    "model.fit(x_train, y_train)\n",
    "y_pred = model.predict(x_test)\n",
    "print(classification_report(y_test, y_pred))\n",
    "accuracy = accuracy_score(y_test, y_pred)\n",
    "f1 = f1_score(y_test, y_pred, average=\"weighted\")\n",
    "compare_list.loc[len(compare_list)] = [{'col': ['reviewText'], 'proc': 'baseline', 'vectorizer': 'bow'}, accuracy, f1]"
   ]
  },
  {
   "cell_type": "code",
   "execution_count": 90,
   "id": "ccdcc4b2",
   "metadata": {},
   "outputs": [
    {
     "name": "stdout",
     "output_type": "stream",
     "text": [
      "              precision    recall  f1-score   support\n",
      "\n",
      "          -1       0.71      0.71      0.71      1284\n",
      "           0       0.60      0.63      0.61      1225\n",
      "           1       0.80      0.76      0.78      1241\n",
      "\n",
      "    accuracy                           0.70      3750\n",
      "   macro avg       0.70      0.70      0.70      3750\n",
      "weighted avg       0.70      0.70      0.70      3750\n",
      "\n"
     ]
    }
   ],
   "source": [
    "x_train, x_test, y_train, y_test = pipeline(['reviewText'], 0.25, baseline, tfidf, df_testing)\n",
    "model = SVC()\n",
    "model.fit(x_train, y_train)\n",
    "y_pred = model.predict(x_test)\n",
    "print(classification_report(y_test, y_pred))\n",
    "accuracy = accuracy_score(y_test, y_pred)\n",
    "f1 = f1_score(y_test, y_pred, average=\"weighted\")\n",
    "compare_list.loc[len(compare_list)] = [{'col': ['reviewText'], 'proc': 'baseline', 'vectorizer': 'tfidf'}, accuracy, f1]"
   ]
  },
  {
   "cell_type": "code",
   "execution_count": 91,
   "id": "7c87ee7b",
   "metadata": {},
   "outputs": [
    {
     "name": "stdout",
     "output_type": "stream",
     "text": [
      "              precision    recall  f1-score   support\n",
      "\n",
      "          -1       0.66      0.65      0.66      1284\n",
      "           0       0.58      0.56      0.57      1225\n",
      "           1       0.73      0.77      0.75      1241\n",
      "\n",
      "    accuracy                           0.66      3750\n",
      "   macro avg       0.66      0.66      0.66      3750\n",
      "weighted avg       0.66      0.66      0.66      3750\n",
      "\n"
     ]
    }
   ],
   "source": [
    "x_train, x_test, y_train, y_test = pipeline(['reviewText'], 0.25, stem, bow, df_testing)\n",
    "model = SVC()\n",
    "model.fit(x_train, y_train)\n",
    "y_pred = model.predict(x_test)\n",
    "print(classification_report(y_test, y_pred))\n",
    "accuracy = accuracy_score(y_test, y_pred)\n",
    "f1 = f1_score(y_test, y_pred, average=\"weighted\")\n",
    "compare_list.loc[len(compare_list)] = [{'col': ['reviewText'], 'proc': 'stem', 'vectorizer': 'bow'}, accuracy, f1]"
   ]
  },
  {
   "cell_type": "code",
   "execution_count": 92,
   "id": "c1ffc235",
   "metadata": {},
   "outputs": [
    {
     "name": "stdout",
     "output_type": "stream",
     "text": [
      "              precision    recall  f1-score   support\n",
      "\n",
      "          -1       0.70      0.69      0.70      1284\n",
      "           0       0.59      0.63      0.61      1225\n",
      "           1       0.79      0.75      0.77      1241\n",
      "\n",
      "    accuracy                           0.69      3750\n",
      "   macro avg       0.70      0.69      0.69      3750\n",
      "weighted avg       0.70      0.69      0.69      3750\n",
      "\n"
     ]
    }
   ],
   "source": [
    "x_train, x_test, y_train, y_test = pipeline(['reviewText'], 0.25, stem, tfidf, df_testing)\n",
    "model = SVC()\n",
    "model.fit(x_train, y_train)\n",
    "y_pred = model.predict(x_test)\n",
    "print(classification_report(y_test, y_pred))\n",
    "accuracy = accuracy_score(y_test, y_pred)\n",
    "f1 = f1_score(y_test, y_pred, average=\"weighted\")\n",
    "compare_list.loc[len(compare_list)] = [{'col': ['reviewText'], 'proc': 'stem', 'vectorizer': 'tfidf'}, accuracy, f1]"
   ]
  },
  {
   "cell_type": "code",
   "execution_count": 93,
   "id": "05fdcdd4",
   "metadata": {},
   "outputs": [
    {
     "name": "stdout",
     "output_type": "stream",
     "text": [
      "              precision    recall  f1-score   support\n",
      "\n",
      "          -1       0.66      0.66      0.66      1284\n",
      "           0       0.58      0.53      0.55      1225\n",
      "           1       0.71      0.77      0.74      1241\n",
      "\n",
      "    accuracy                           0.65      3750\n",
      "   macro avg       0.65      0.65      0.65      3750\n",
      "weighted avg       0.65      0.65      0.65      3750\n",
      "\n"
     ]
    }
   ],
   "source": [
    "x_train, x_test, y_train, y_test = pipeline(['reviewText'], 0.25, lem, bow, df_testing)\n",
    "model = SVC()\n",
    "model.fit(x_train, y_train)\n",
    "y_pred = model.predict(x_test)\n",
    "print(classification_report(y_test, y_pred))\n",
    "accuracy = accuracy_score(y_test, y_pred)\n",
    "f1 = f1_score(y_test, y_pred, average=\"weighted\")\n",
    "compare_list.loc[len(compare_list)] = [{'col': ['reviewText'], 'proc': 'lem', 'vectorizer': 'bow'}, accuracy, f1]"
   ]
  },
  {
   "cell_type": "code",
   "execution_count": 94,
   "id": "b6e4d804",
   "metadata": {},
   "outputs": [
    {
     "name": "stdout",
     "output_type": "stream",
     "text": [
      "              precision    recall  f1-score   support\n",
      "\n",
      "          -1       0.70      0.70      0.70      1284\n",
      "           0       0.60      0.63      0.61      1225\n",
      "           1       0.79      0.76      0.77      1241\n",
      "\n",
      "    accuracy                           0.69      3750\n",
      "   macro avg       0.70      0.69      0.69      3750\n",
      "weighted avg       0.70      0.69      0.69      3750\n",
      "\n"
     ]
    }
   ],
   "source": [
    "x_train, x_test, y_train, y_test = pipeline(['reviewText'], 0.25, lem, tfidf, df_testing)\n",
    "model = SVC()\n",
    "model.fit(x_train, y_train)\n",
    "y_pred = model.predict(x_test)\n",
    "print(classification_report(y_test, y_pred))\n",
    "accuracy = accuracy_score(y_test, y_pred)\n",
    "f1 = f1_score(y_test, y_pred, average=\"weighted\")\n",
    "compare_list.loc[len(compare_list)] = [{'col': ['reviewText'], 'proc': 'lem', 'vectorizer': 'tfidf'}, accuracy, f1]"
   ]
  },
  {
   "cell_type": "code",
   "execution_count": 95,
   "id": "da1b7ee6",
   "metadata": {},
   "outputs": [
    {
     "name": "stdout",
     "output_type": "stream",
     "text": [
      "              precision    recall  f1-score   support\n",
      "\n",
      "          -1       0.70      0.67      0.68      1284\n",
      "           0       0.60      0.55      0.57      1225\n",
      "           1       0.70      0.79      0.75      1241\n",
      "\n",
      "    accuracy                           0.67      3750\n",
      "   macro avg       0.67      0.67      0.67      3750\n",
      "weighted avg       0.67      0.67      0.67      3750\n",
      "\n"
     ]
    }
   ],
   "source": [
    "x_train, x_test, y_train, y_test = pipeline(['reviewText', 'verified'], 0.25, None, bow, df_testing)\n",
    "model = SVC()\n",
    "model.fit(x_train, y_train)\n",
    "y_pred = model.predict(x_test)\n",
    "print(classification_report(y_test, y_pred))\n",
    "accuracy = accuracy_score(y_test, y_pred)\n",
    "f1 = f1_score(y_test, y_pred, average=\"weighted\")\n",
    "compare_list.loc[len(compare_list)] = [{'col': ['reviewText', 'verified'], 'proc': None, 'vectorizer': 'bow'}, accuracy, f1]"
   ]
  },
  {
   "cell_type": "code",
   "execution_count": 96,
   "id": "807bd3c5",
   "metadata": {},
   "outputs": [
    {
     "name": "stdout",
     "output_type": "stream",
     "text": [
      "              precision    recall  f1-score   support\n",
      "\n",
      "          -1       0.73      0.74      0.73      1284\n",
      "           0       0.61      0.63      0.62      1225\n",
      "           1       0.82      0.79      0.80      1241\n",
      "\n",
      "    accuracy                           0.72      3750\n",
      "   macro avg       0.72      0.72      0.72      3750\n",
      "weighted avg       0.72      0.72      0.72      3750\n",
      "\n"
     ]
    }
   ],
   "source": [
    "x_train, x_test, y_train, y_test = pipeline(['reviewText', 'verified'], 0.25, None, tfidf, df_testing)\n",
    "model = SVC()\n",
    "model.fit(x_train, y_train)\n",
    "y_pred = model.predict(x_test)\n",
    "print(classification_report(y_test, y_pred))\n",
    "accuracy = accuracy_score(y_test, y_pred)\n",
    "f1 = f1_score(y_test, y_pred, average=\"weighted\")\n",
    "compare_list.loc[len(compare_list)] = [{'col': ['reviewText', 'verified'], 'proc': None, 'vectorizer': 'tfidf'}, accuracy, f1]"
   ]
  },
  {
   "cell_type": "code",
   "execution_count": 97,
   "id": "02fd807a",
   "metadata": {},
   "outputs": [
    {
     "name": "stdout",
     "output_type": "stream",
     "text": [
      "              precision    recall  f1-score   support\n",
      "\n",
      "          -1       0.66      0.69      0.68      1284\n",
      "           0       0.59      0.52      0.55      1225\n",
      "           1       0.72      0.77      0.74      1241\n",
      "\n",
      "    accuracy                           0.66      3750\n",
      "   macro avg       0.66      0.66      0.66      3750\n",
      "weighted avg       0.66      0.66      0.66      3750\n",
      "\n"
     ]
    }
   ],
   "source": [
    "x_train, x_test, y_train, y_test = pipeline(['reviewText', 'verified'], 0.25, baseline, bow, df_testing)\n",
    "model = SVC()\n",
    "model.fit(x_train, y_train)\n",
    "y_pred = model.predict(x_test)\n",
    "print(classification_report(y_test, y_pred))\n",
    "accuracy = accuracy_score(y_test, y_pred)\n",
    "f1 = f1_score(y_test, y_pred, average=\"weighted\")\n",
    "compare_list.loc[len(compare_list)] = [{'col': ['reviewText', 'verified'], 'proc': 'baseline', 'vectorizer': 'bow'}, accuracy, f1]"
   ]
  },
  {
   "cell_type": "code",
   "execution_count": 98,
   "id": "40181b47",
   "metadata": {},
   "outputs": [
    {
     "name": "stdout",
     "output_type": "stream",
     "text": [
      "              precision    recall  f1-score   support\n",
      "\n",
      "          -1       0.70      0.71      0.71      1284\n",
      "           0       0.58      0.61      0.60      1225\n",
      "           1       0.80      0.75      0.77      1241\n",
      "\n",
      "    accuracy                           0.69      3750\n",
      "   macro avg       0.69      0.69      0.69      3750\n",
      "weighted avg       0.70      0.69      0.69      3750\n",
      "\n"
     ]
    }
   ],
   "source": [
    "x_train, x_test, y_train, y_test = pipeline(['reviewText', 'verified'], 0.25, baseline, tfidf, df_testing)\n",
    "model = SVC()\n",
    "model.fit(x_train, y_train)\n",
    "y_pred = model.predict(x_test)\n",
    "print(classification_report(y_test, y_pred))\n",
    "accuracy = accuracy_score(y_test, y_pred)\n",
    "f1 = f1_score(y_test, y_pred, average=\"weighted\")\n",
    "compare_list.loc[len(compare_list)] = [{'col': ['reviewText', 'verified'], 'proc': 'baseline', 'vectorizer': 'tfidf'}, accuracy, f1]"
   ]
  },
  {
   "cell_type": "code",
   "execution_count": 99,
   "id": "0c290710",
   "metadata": {},
   "outputs": [
    {
     "name": "stdout",
     "output_type": "stream",
     "text": [
      "              precision    recall  f1-score   support\n",
      "\n",
      "          -1       0.66      0.65      0.66      1284\n",
      "           0       0.58      0.55      0.56      1225\n",
      "           1       0.72      0.77      0.74      1241\n",
      "\n",
      "    accuracy                           0.66      3750\n",
      "   macro avg       0.65      0.66      0.66      3750\n",
      "weighted avg       0.65      0.66      0.66      3750\n",
      "\n"
     ]
    }
   ],
   "source": [
    "x_train, x_test, y_train, y_test = pipeline(['reviewText', 'verified'], 0.25, stem, bow, df_testing)\n",
    "model = SVC()\n",
    "model.fit(x_train, y_train)\n",
    "y_pred = model.predict(x_test)\n",
    "print(classification_report(y_test, y_pred))\n",
    "accuracy = accuracy_score(y_test, y_pred)\n",
    "f1 = f1_score(y_test, y_pred, average=\"weighted\")\n",
    "compare_list.loc[len(compare_list)] = [{'col': ['reviewText', 'verified'], 'proc': 'stem', 'vectorizer': 'bow'}, accuracy, f1]"
   ]
  },
  {
   "cell_type": "code",
   "execution_count": 100,
   "id": "c46c3cb7",
   "metadata": {},
   "outputs": [
    {
     "name": "stdout",
     "output_type": "stream",
     "text": [
      "              precision    recall  f1-score   support\n",
      "\n",
      "          -1       0.70      0.69      0.69      1284\n",
      "           0       0.59      0.63      0.61      1225\n",
      "           1       0.79      0.75      0.77      1241\n",
      "\n",
      "    accuracy                           0.69      3750\n",
      "   macro avg       0.69      0.69      0.69      3750\n",
      "weighted avg       0.69      0.69      0.69      3750\n",
      "\n"
     ]
    }
   ],
   "source": [
    "x_train, x_test, y_train, y_test = pipeline(['reviewText', 'verified'], 0.25, stem, tfidf, df_testing)\n",
    "model = SVC()\n",
    "model.fit(x_train, y_train)\n",
    "y_pred = model.predict(x_test)\n",
    "print(classification_report(y_test, y_pred))\n",
    "accuracy = accuracy_score(y_test, y_pred)\n",
    "f1 = f1_score(y_test, y_pred, average=\"weighted\")\n",
    "compare_list.loc[len(compare_list)] = [{'col': ['reviewText', 'verified'], 'proc': 'stem', 'vectorizer': 'tfidf'}, accuracy, f1]"
   ]
  },
  {
   "cell_type": "code",
   "execution_count": 101,
   "id": "1e78c888",
   "metadata": {},
   "outputs": [
    {
     "name": "stdout",
     "output_type": "stream",
     "text": [
      "              precision    recall  f1-score   support\n",
      "\n",
      "          -1       0.66      0.66      0.66      1284\n",
      "           0       0.58      0.52      0.55      1225\n",
      "           1       0.71      0.77      0.74      1241\n",
      "\n",
      "    accuracy                           0.65      3750\n",
      "   macro avg       0.65      0.65      0.65      3750\n",
      "weighted avg       0.65      0.65      0.65      3750\n",
      "\n"
     ]
    }
   ],
   "source": [
    "x_train, x_test, y_train, y_test = pipeline(['reviewText', 'verified'], 0.25, lem, bow, df_testing)\n",
    "model = SVC()\n",
    "model.fit(x_train, y_train)\n",
    "y_pred = model.predict(x_test)\n",
    "print(classification_report(y_test, y_pred))\n",
    "accuracy = accuracy_score(y_test, y_pred)\n",
    "f1 = f1_score(y_test, y_pred, average=\"weighted\")\n",
    "compare_list.loc[len(compare_list)] = [{'col': ['reviewText', 'verified'], 'proc': 'lem', 'vectorizer': 'bow'}, accuracy, f1]"
   ]
  },
  {
   "cell_type": "code",
   "execution_count": 102,
   "id": "f9b353c4",
   "metadata": {},
   "outputs": [
    {
     "name": "stdout",
     "output_type": "stream",
     "text": [
      "              precision    recall  f1-score   support\n",
      "\n",
      "          -1       0.70      0.70      0.70      1284\n",
      "           0       0.59      0.61      0.60      1225\n",
      "           1       0.79      0.75      0.77      1241\n",
      "\n",
      "    accuracy                           0.69      3750\n",
      "   macro avg       0.69      0.69      0.69      3750\n",
      "weighted avg       0.69      0.69      0.69      3750\n",
      "\n"
     ]
    }
   ],
   "source": [
    "x_train, x_test, y_train, y_test = pipeline(['reviewText', 'verified'], 0.25, lem, tfidf, df_testing)\n",
    "model = SVC()\n",
    "model.fit(x_train, y_train)\n",
    "y_pred = model.predict(x_test)\n",
    "print(classification_report(y_test, y_pred))\n",
    "accuracy = accuracy_score(y_test, y_pred)\n",
    "f1 = f1_score(y_test, y_pred, average=\"weighted\")\n",
    "compare_list.loc[len(compare_list)] = [{'col': ['reviewText', 'verified'], 'proc': 'lem', 'vectorizer': 'tfidf'}, accuracy, f1]"
   ]
  },
  {
   "cell_type": "code",
   "execution_count": 103,
   "id": "e3bddac2",
   "metadata": {},
   "outputs": [
    {
     "name": "stdout",
     "output_type": "stream",
     "text": [
      "              precision    recall  f1-score   support\n",
      "\n",
      "          -1       0.74      0.78      0.76      1284\n",
      "           0       0.69      0.69      0.69      1225\n",
      "           1       0.86      0.82      0.84      1241\n",
      "\n",
      "    accuracy                           0.76      3750\n",
      "   macro avg       0.76      0.76      0.76      3750\n",
      "weighted avg       0.76      0.76      0.76      3750\n",
      "\n"
     ]
    }
   ],
   "source": [
    "x_train, x_test, y_train, y_test = pipeline(['reviewTextWithSummary'], 0.25, None, bow, df_testing)\n",
    "model = SVC()\n",
    "model.fit(x_train, y_train)\n",
    "y_pred = model.predict(x_test)\n",
    "print(classification_report(y_test, y_pred))\n",
    "accuracy = accuracy_score(y_test, y_pred)\n",
    "f1 = f1_score(y_test, y_pred, average=\"weighted\")\n",
    "compare_list.loc[len(compare_list)] = [{'col': ['reviewTextWithSummary'], 'proc': None, 'vectorizer': 'bow'}, accuracy, f1]"
   ]
  },
  {
   "cell_type": "code",
   "execution_count": 104,
   "id": "73e2a3f2",
   "metadata": {},
   "outputs": [
    {
     "name": "stdout",
     "output_type": "stream",
     "text": [
      "              precision    recall  f1-score   support\n",
      "\n",
      "          -1       0.79      0.79      0.79      1284\n",
      "           0       0.70      0.74      0.72      1225\n",
      "           1       0.88      0.84      0.86      1241\n",
      "\n",
      "    accuracy                           0.79      3750\n",
      "   macro avg       0.79      0.79      0.79      3750\n",
      "weighted avg       0.79      0.79      0.79      3750\n",
      "\n"
     ]
    }
   ],
   "source": [
    "x_train, x_test, y_train, y_test = pipeline(['reviewTextWithSummary'], 0.25, None, tfidf, df_testing)\n",
    "model = SVC()\n",
    "model.fit(x_train, y_train)\n",
    "y_pred = model.predict(x_test)\n",
    "print(classification_report(y_test, y_pred))\n",
    "accuracy = accuracy_score(y_test, y_pred)\n",
    "f1 = f1_score(y_test, y_pred, average=\"weighted\")\n",
    "compare_list.loc[len(compare_list)] = [{'col': ['reviewTextWithSummary'], 'proc': None, 'vectorizer': 'tfidf'}, accuracy, f1]"
   ]
  },
  {
   "cell_type": "code",
   "execution_count": 105,
   "id": "cefd85dd",
   "metadata": {},
   "outputs": [
    {
     "name": "stdout",
     "output_type": "stream",
     "text": [
      "              precision    recall  f1-score   support\n",
      "\n",
      "          -1       0.72      0.78      0.75      1284\n",
      "           0       0.69      0.65      0.67      1225\n",
      "           1       0.84      0.80      0.82      1241\n",
      "\n",
      "    accuracy                           0.75      3750\n",
      "   macro avg       0.75      0.74      0.75      3750\n",
      "weighted avg       0.75      0.75      0.75      3750\n",
      "\n"
     ]
    }
   ],
   "source": [
    "x_train, x_test, y_train, y_test = pipeline(['reviewTextWithSummary'], 0.25, baseline, bow, df_testing)\n",
    "model = SVC()\n",
    "model.fit(x_train, y_train)\n",
    "y_pred = model.predict(x_test)\n",
    "print(classification_report(y_test, y_pred))\n",
    "accuracy = accuracy_score(y_test, y_pred)\n",
    "f1 = f1_score(y_test, y_pred, average=\"weighted\")\n",
    "compare_list.loc[len(compare_list)] = [{'col': ['reviewTextWithSummary'], 'proc': 'baseline', 'vectorizer': 'bow'}, accuracy, f1]"
   ]
  },
  {
   "cell_type": "code",
   "execution_count": 106,
   "id": "6d89cc4a",
   "metadata": {},
   "outputs": [
    {
     "name": "stdout",
     "output_type": "stream",
     "text": [
      "              precision    recall  f1-score   support\n",
      "\n",
      "          -1       0.76      0.77      0.77      1284\n",
      "           0       0.69      0.72      0.71      1225\n",
      "           1       0.88      0.82      0.85      1241\n",
      "\n",
      "    accuracy                           0.77      3750\n",
      "   macro avg       0.78      0.77      0.77      3750\n",
      "weighted avg       0.78      0.77      0.77      3750\n",
      "\n"
     ]
    }
   ],
   "source": [
    "x_train, x_test, y_train, y_test = pipeline(['reviewTextWithSummary'], 0.25, baseline, tfidf, df_testing)\n",
    "model = SVC()\n",
    "model.fit(x_train, y_train)\n",
    "y_pred = model.predict(x_test)\n",
    "print(classification_report(y_test, y_pred))\n",
    "accuracy = accuracy_score(y_test, y_pred)\n",
    "f1 = f1_score(y_test, y_pred, average=\"weighted\")\n",
    "compare_list.loc[len(compare_list)] = [{'col': ['reviewTextWithSummary'], 'proc': 'baseline', 'vectorizer': 'tfidf'}, accuracy, f1]"
   ]
  },
  {
   "cell_type": "code",
   "execution_count": 107,
   "id": "9e46f3ea",
   "metadata": {},
   "outputs": [
    {
     "name": "stdout",
     "output_type": "stream",
     "text": [
      "              precision    recall  f1-score   support\n",
      "\n",
      "          -1       0.72      0.76      0.74      1284\n",
      "           0       0.69      0.68      0.68      1225\n",
      "           1       0.84      0.81      0.82      1241\n",
      "\n",
      "    accuracy                           0.75      3750\n",
      "   macro avg       0.75      0.75      0.75      3750\n",
      "weighted avg       0.75      0.75      0.75      3750\n",
      "\n"
     ]
    }
   ],
   "source": [
    "x_train, x_test, y_train, y_test = pipeline(['reviewTextWithSummary'], 0.25, stem, bow, df_testing)\n",
    "model = SVC()\n",
    "model.fit(x_train, y_train)\n",
    "y_pred = model.predict(x_test)\n",
    "print(classification_report(y_test, y_pred))\n",
    "accuracy = accuracy_score(y_test, y_pred)\n",
    "f1 = f1_score(y_test, y_pred, average=\"weighted\")\n",
    "compare_list.loc[len(compare_list)] = [{'col': ['reviewTextWithSummary'], 'proc': 'stem', 'vectorizer': 'bow'}, accuracy, f1]"
   ]
  },
  {
   "cell_type": "code",
   "execution_count": 108,
   "id": "2bba0949",
   "metadata": {},
   "outputs": [
    {
     "name": "stdout",
     "output_type": "stream",
     "text": [
      "              precision    recall  f1-score   support\n",
      "\n",
      "          -1       0.76      0.75      0.76      1284\n",
      "           0       0.68      0.72      0.70      1225\n",
      "           1       0.86      0.82      0.84      1241\n",
      "\n",
      "    accuracy                           0.76      3750\n",
      "   macro avg       0.77      0.76      0.77      3750\n",
      "weighted avg       0.77      0.76      0.77      3750\n",
      "\n"
     ]
    }
   ],
   "source": [
    "x_train, x_test, y_train, y_test = pipeline(['reviewTextWithSummary'], 0.25, stem, tfidf, df_testing)\n",
    "model = SVC()\n",
    "model.fit(x_train, y_train)\n",
    "y_pred = model.predict(x_test)\n",
    "print(classification_report(y_test, y_pred))\n",
    "accuracy = accuracy_score(y_test, y_pred)\n",
    "f1 = f1_score(y_test, y_pred, average=\"weighted\")\n",
    "compare_list.loc[len(compare_list)] = [{'col': ['reviewTextWithSummary'], 'proc': 'stem', 'vectorizer': 'tfidf'}, accuracy, f1]"
   ]
  },
  {
   "cell_type": "code",
   "execution_count": 109,
   "id": "cbbc0d9a",
   "metadata": {},
   "outputs": [
    {
     "name": "stdout",
     "output_type": "stream",
     "text": [
      "              precision    recall  f1-score   support\n",
      "\n",
      "          -1       0.71      0.77      0.74      1284\n",
      "           0       0.68      0.66      0.67      1225\n",
      "           1       0.85      0.80      0.82      1241\n",
      "\n",
      "    accuracy                           0.75      3750\n",
      "   macro avg       0.75      0.74      0.75      3750\n",
      "weighted avg       0.75      0.75      0.75      3750\n",
      "\n"
     ]
    }
   ],
   "source": [
    "x_train, x_test, y_train, y_test = pipeline(['reviewTextWithSummary'], 0.25, lem, bow, df_testing)\n",
    "model = SVC()\n",
    "model.fit(x_train, y_train)\n",
    "y_pred = model.predict(x_test)\n",
    "print(classification_report(y_test, y_pred))\n",
    "accuracy = accuracy_score(y_test, y_pred)\n",
    "f1 = f1_score(y_test, y_pred, average=\"weighted\")\n",
    "compare_list.loc[len(compare_list)] = [{'col': ['reviewTextWithSummary'], 'proc': 'lem', 'vectorizer': 'bow'}, accuracy, f1]"
   ]
  },
  {
   "cell_type": "code",
   "execution_count": 110,
   "id": "b0408370",
   "metadata": {},
   "outputs": [
    {
     "name": "stdout",
     "output_type": "stream",
     "text": [
      "              precision    recall  f1-score   support\n",
      "\n",
      "          -1       0.76      0.77      0.76      1284\n",
      "           0       0.69      0.71      0.70      1225\n",
      "           1       0.87      0.82      0.84      1241\n",
      "\n",
      "    accuracy                           0.77      3750\n",
      "   macro avg       0.77      0.77      0.77      3750\n",
      "weighted avg       0.77      0.77      0.77      3750\n",
      "\n"
     ]
    }
   ],
   "source": [
    "x_train, x_test, y_train, y_test = pipeline(['reviewTextWithSummary'], 0.25, lem, tfidf, df_testing)\n",
    "model = SVC()\n",
    "model.fit(x_train, y_train)\n",
    "y_pred = model.predict(x_test)\n",
    "print(classification_report(y_test, y_pred))\n",
    "accuracy = accuracy_score(y_test, y_pred)\n",
    "f1 = f1_score(y_test, y_pred, average=\"weighted\")\n",
    "compare_list.loc[len(compare_list)] = [{'col': ['reviewTextWithSummary'], 'proc': 'lem', 'vectorizer': 'tfidf'}, accuracy, f1]"
   ]
  },
  {
   "cell_type": "code",
   "execution_count": 111,
   "id": "34124c8e",
   "metadata": {},
   "outputs": [
    {
     "name": "stdout",
     "output_type": "stream",
     "text": [
      "              precision    recall  f1-score   support\n",
      "\n",
      "          -1       0.75      0.78      0.76      1284\n",
      "           0       0.69      0.68      0.69      1225\n",
      "           1       0.86      0.83      0.84      1241\n",
      "\n",
      "    accuracy                           0.76      3750\n",
      "   macro avg       0.76      0.76      0.76      3750\n",
      "weighted avg       0.76      0.76      0.76      3750\n",
      "\n"
     ]
    }
   ],
   "source": [
    "x_train, x_test, y_train, y_test = pipeline(['reviewTextWithSummary', 'verified'], 0.25, None, bow, df_testing)\n",
    "model = SVC()\n",
    "model.fit(x_train, y_train)\n",
    "y_pred = model.predict(x_test)\n",
    "print(classification_report(y_test, y_pred))\n",
    "accuracy = accuracy_score(y_test, y_pred)\n",
    "f1 = f1_score(y_test, y_pred, average=\"weighted\")\n",
    "compare_list.loc[len(compare_list)] = [{'col': ['reviewTextWithSummary', 'verified'], 'proc': None, 'vectorizer': 'bow'}, accuracy, f1]"
   ]
  },
  {
   "cell_type": "code",
   "execution_count": 112,
   "id": "b27fe72f",
   "metadata": {},
   "outputs": [
    {
     "name": "stdout",
     "output_type": "stream",
     "text": [
      "              precision    recall  f1-score   support\n",
      "\n",
      "          -1       0.77      0.78      0.77      1284\n",
      "           0       0.69      0.72      0.70      1225\n",
      "           1       0.89      0.83      0.86      1241\n",
      "\n",
      "    accuracy                           0.78      3750\n",
      "   macro avg       0.78      0.78      0.78      3750\n",
      "weighted avg       0.78      0.78      0.78      3750\n",
      "\n"
     ]
    }
   ],
   "source": [
    "x_train, x_test, y_train, y_test = pipeline(['reviewTextWithSummary', 'verified'], 0.25, None, tfidf, df_testing)\n",
    "model = SVC()\n",
    "model.fit(x_train, y_train)\n",
    "y_pred = model.predict(x_test)\n",
    "print(classification_report(y_test, y_pred))\n",
    "accuracy = accuracy_score(y_test, y_pred)\n",
    "f1 = f1_score(y_test, y_pred, average=\"weighted\")\n",
    "compare_list.loc[len(compare_list)] = [{'col': ['reviewTextWithSummary', 'verified'], 'proc': None, 'vectorizer': 'tfidf'}, accuracy, f1]"
   ]
  },
  {
   "cell_type": "code",
   "execution_count": 113,
   "id": "b2129f20",
   "metadata": {},
   "outputs": [
    {
     "name": "stdout",
     "output_type": "stream",
     "text": [
      "              precision    recall  f1-score   support\n",
      "\n",
      "          -1       0.72      0.78      0.75      1284\n",
      "           0       0.69      0.65      0.67      1225\n",
      "           1       0.84      0.80      0.82      1241\n",
      "\n",
      "    accuracy                           0.75      3750\n",
      "   macro avg       0.75      0.75      0.75      3750\n",
      "weighted avg       0.75      0.75      0.75      3750\n",
      "\n"
     ]
    }
   ],
   "source": [
    "x_train, x_test, y_train, y_test = pipeline(['reviewTextWithSummary', 'verified'], 0.25, baseline, bow, df_testing)\n",
    "model = SVC()\n",
    "model.fit(x_train, y_train)\n",
    "y_pred = model.predict(x_test)\n",
    "print(classification_report(y_test, y_pred))\n",
    "accuracy = accuracy_score(y_test, y_pred)\n",
    "f1 = f1_score(y_test, y_pred, average=\"weighted\")\n",
    "compare_list.loc[len(compare_list)] = [{'col': ['reviewTextWithSummary', 'verified'], 'proc': 'baseline', 'vectorizer': 'bow'}, accuracy, f1]"
   ]
  },
  {
   "cell_type": "code",
   "execution_count": 114,
   "id": "ac8ecbad",
   "metadata": {},
   "outputs": [
    {
     "name": "stdout",
     "output_type": "stream",
     "text": [
      "              precision    recall  f1-score   support\n",
      "\n",
      "          -1       0.76      0.78      0.77      1284\n",
      "           0       0.69      0.72      0.70      1225\n",
      "           1       0.88      0.82      0.85      1241\n",
      "\n",
      "    accuracy                           0.77      3750\n",
      "   macro avg       0.77      0.77      0.77      3750\n",
      "weighted avg       0.77      0.77      0.77      3750\n",
      "\n"
     ]
    }
   ],
   "source": [
    "x_train, x_test, y_train, y_test = pipeline(['reviewTextWithSummary', 'verified'], 0.25, baseline, tfidf, df_testing)\n",
    "model = SVC()\n",
    "model.fit(x_train, y_train)\n",
    "y_pred = model.predict(x_test)\n",
    "print(classification_report(y_test, y_pred))\n",
    "accuracy = accuracy_score(y_test, y_pred)\n",
    "f1 = f1_score(y_test, y_pred, average=\"weighted\")\n",
    "compare_list.loc[len(compare_list)] = [{'col': ['reviewTextWithSummary', 'verified'], 'proc': 'baseline', 'vectorizer': 'tfidf'}, accuracy, f1]"
   ]
  },
  {
   "cell_type": "code",
   "execution_count": 115,
   "id": "5f98c523",
   "metadata": {},
   "outputs": [
    {
     "name": "stdout",
     "output_type": "stream",
     "text": [
      "              precision    recall  f1-score   support\n",
      "\n",
      "          -1       0.72      0.76      0.74      1284\n",
      "           0       0.68      0.67      0.68      1225\n",
      "           1       0.84      0.81      0.82      1241\n",
      "\n",
      "    accuracy                           0.75      3750\n",
      "   macro avg       0.75      0.75      0.75      3750\n",
      "weighted avg       0.75      0.75      0.75      3750\n",
      "\n"
     ]
    }
   ],
   "source": [
    "x_train, x_test, y_train, y_test = pipeline(['reviewTextWithSummary', 'verified'], 0.25, stem, bow, df_testing)\n",
    "model = SVC()\n",
    "model.fit(x_train, y_train)\n",
    "y_pred = model.predict(x_test)\n",
    "print(classification_report(y_test, y_pred))\n",
    "accuracy = accuracy_score(y_test, y_pred)\n",
    "f1 = f1_score(y_test, y_pred, average=\"weighted\")\n",
    "compare_list.loc[len(compare_list)] = [{'col': ['reviewTextWithSummary', 'verified'], 'proc': 'stem', 'vectorizer': 'bow'}, accuracy, f1]"
   ]
  },
  {
   "cell_type": "code",
   "execution_count": 116,
   "id": "10bf43ff",
   "metadata": {},
   "outputs": [
    {
     "name": "stdout",
     "output_type": "stream",
     "text": [
      "              precision    recall  f1-score   support\n",
      "\n",
      "          -1       0.75      0.75      0.75      1284\n",
      "           0       0.67      0.71      0.69      1225\n",
      "           1       0.86      0.81      0.84      1241\n",
      "\n",
      "    accuracy                           0.76      3750\n",
      "   macro avg       0.76      0.76      0.76      3750\n",
      "weighted avg       0.76      0.76      0.76      3750\n",
      "\n"
     ]
    }
   ],
   "source": [
    "x_train, x_test, y_train, y_test = pipeline(['reviewTextWithSummary', 'verified'], 0.25, stem, tfidf, df_testing)\n",
    "model = SVC()\n",
    "model.fit(x_train, y_train)\n",
    "y_pred = model.predict(x_test)\n",
    "print(classification_report(y_test, y_pred))\n",
    "accuracy = accuracy_score(y_test, y_pred)\n",
    "f1 = f1_score(y_test, y_pred, average=\"weighted\")\n",
    "compare_list.loc[len(compare_list)] = [{'col': ['reviewTextWithSummary', 'verified'], 'proc': 'stem', 'vectorizer': 'tfidf'}, accuracy, f1]"
   ]
  },
  {
   "cell_type": "code",
   "execution_count": 117,
   "id": "c83a577a",
   "metadata": {},
   "outputs": [
    {
     "name": "stdout",
     "output_type": "stream",
     "text": [
      "              precision    recall  f1-score   support\n",
      "\n",
      "          -1       0.72      0.77      0.74      1284\n",
      "           0       0.68      0.66      0.67      1225\n",
      "           1       0.84      0.80      0.82      1241\n",
      "\n",
      "    accuracy                           0.75      3750\n",
      "   macro avg       0.75      0.74      0.75      3750\n",
      "weighted avg       0.75      0.75      0.75      3750\n",
      "\n"
     ]
    }
   ],
   "source": [
    "x_train, x_test, y_train, y_test = pipeline(['reviewTextWithSummary', 'verified'], 0.25, lem, bow, df_testing)\n",
    "model = SVC()\n",
    "model.fit(x_train, y_train)\n",
    "y_pred = model.predict(x_test)\n",
    "print(classification_report(y_test, y_pred))\n",
    "accuracy = accuracy_score(y_test, y_pred)\n",
    "f1 = f1_score(y_test, y_pred, average=\"weighted\")\n",
    "compare_list.loc[len(compare_list)] = [{'col': ['reviewTextWithSummary', 'verified'], 'proc': 'lem', 'vectorizer': 'bow'}, accuracy, f1]"
   ]
  },
  {
   "cell_type": "code",
   "execution_count": 118,
   "id": "3db6ad1e",
   "metadata": {},
   "outputs": [
    {
     "name": "stdout",
     "output_type": "stream",
     "text": [
      "              precision    recall  f1-score   support\n",
      "\n",
      "          -1       0.75      0.77      0.76      1284\n",
      "           0       0.68      0.71      0.70      1225\n",
      "           1       0.87      0.82      0.84      1241\n",
      "\n",
      "    accuracy                           0.76      3750\n",
      "   macro avg       0.77      0.76      0.77      3750\n",
      "weighted avg       0.77      0.76      0.77      3750\n",
      "\n"
     ]
    }
   ],
   "source": [
    "x_train, x_test, y_train, y_test = pipeline(['reviewTextWithSummary', 'verified'], 0.25, lem, tfidf, df_testing)\n",
    "model = SVC()\n",
    "model.fit(x_train, y_train)\n",
    "y_pred = model.predict(x_test)\n",
    "print(classification_report(y_test, y_pred))\n",
    "accuracy = accuracy_score(y_test, y_pred)\n",
    "f1 = f1_score(y_test, y_pred, average=\"weighted\")\n",
    "compare_list.loc[len(compare_list)] = [{'col': ['reviewTextWithSummary', 'verified'], 'proc': 'lem', 'vectorizer': 'tfidf'}, accuracy, f1]\n",
    "#######  END OF GENERATED CODE  #######"
   ]
  },
  {
   "cell_type": "code",
   "execution_count": 119,
   "id": "970d6740",
   "metadata": {},
   "outputs": [
    {
     "data": {
      "text/html": [
       "<div>\n",
       "<style scoped>\n",
       "    .dataframe tbody tr th:only-of-type {\n",
       "        vertical-align: middle;\n",
       "    }\n",
       "\n",
       "    .dataframe tbody tr th {\n",
       "        vertical-align: top;\n",
       "    }\n",
       "\n",
       "    .dataframe thead th {\n",
       "        text-align: right;\n",
       "    }\n",
       "</style>\n",
       "<table border=\"1\" class=\"dataframe\">\n",
       "  <thead>\n",
       "    <tr style=\"text-align: right;\">\n",
       "      <th></th>\n",
       "      <th>Data config and preprocessing</th>\n",
       "      <th>Accuracy</th>\n",
       "      <th>F1 Score</th>\n",
       "    </tr>\n",
       "  </thead>\n",
       "  <tbody>\n",
       "    <tr>\n",
       "      <th>0</th>\n",
       "      <td>{'col': ['reviewTextWithSummary'], 'proc': None, 'vectorizer': 'tfidf'}</td>\n",
       "      <td>0.789600</td>\n",
       "      <td>0.790689</td>\n",
       "    </tr>\n",
       "    <tr>\n",
       "      <th>1</th>\n",
       "      <td>{'col': ['reviewTextWithSummary', 'verified'], 'proc': None, 'vectorizer': 'tfidf'}</td>\n",
       "      <td>0.778133</td>\n",
       "      <td>0.779604</td>\n",
       "    </tr>\n",
       "    <tr>\n",
       "      <th>2</th>\n",
       "      <td>{'col': ['reviewTextWithSummary'], 'proc': 'baseline', 'vectorizer': 'tfidf'}</td>\n",
       "      <td>0.772800</td>\n",
       "      <td>0.774090</td>\n",
       "    </tr>\n",
       "    <tr>\n",
       "      <th>3</th>\n",
       "      <td>{'col': ['reviewTextWithSummary', 'verified'], 'proc': 'baseline', 'vectorizer': 'tfidf'}</td>\n",
       "      <td>0.770400</td>\n",
       "      <td>0.771720</td>\n",
       "    </tr>\n",
       "    <tr>\n",
       "      <th>4</th>\n",
       "      <td>{'col': ['reviewTextWithSummary'], 'proc': 'lem', 'vectorizer': 'tfidf'}</td>\n",
       "      <td>0.767733</td>\n",
       "      <td>0.768850</td>\n",
       "    </tr>\n",
       "    <tr>\n",
       "      <th>5</th>\n",
       "      <td>{'col': ['reviewTextWithSummary', 'verified'], 'proc': 'lem', 'vectorizer': 'tfidf'}</td>\n",
       "      <td>0.764533</td>\n",
       "      <td>0.765854</td>\n",
       "    </tr>\n",
       "    <tr>\n",
       "      <th>6</th>\n",
       "      <td>{'col': ['reviewTextWithSummary'], 'proc': 'stem', 'vectorizer': 'tfidf'}</td>\n",
       "      <td>0.764267</td>\n",
       "      <td>0.765399</td>\n",
       "    </tr>\n",
       "    <tr>\n",
       "      <th>7</th>\n",
       "      <td>{'col': ['reviewTextWithSummary'], 'proc': None, 'vectorizer': 'bow'}</td>\n",
       "      <td>0.762933</td>\n",
       "      <td>0.763543</td>\n",
       "    </tr>\n",
       "    <tr>\n",
       "      <th>8</th>\n",
       "      <td>{'col': ['reviewTextWithSummary', 'verified'], 'proc': None, 'vectorizer': 'bow'}</td>\n",
       "      <td>0.762933</td>\n",
       "      <td>0.763422</td>\n",
       "    </tr>\n",
       "    <tr>\n",
       "      <th>9</th>\n",
       "      <td>{'col': ['reviewTextWithSummary', 'verified'], 'proc': 'stem', 'vectorizer': 'tfidf'}</td>\n",
       "      <td>0.758133</td>\n",
       "      <td>0.759533</td>\n",
       "    </tr>\n",
       "    <tr>\n",
       "      <th>10</th>\n",
       "      <td>{'col': ['reviewTextWithSummary'], 'proc': 'stem', 'vectorizer': 'bow'}</td>\n",
       "      <td>0.749067</td>\n",
       "      <td>0.749499</td>\n",
       "    </tr>\n",
       "    <tr>\n",
       "      <th>11</th>\n",
       "      <td>{'col': ['reviewTextWithSummary', 'verified'], 'proc': 'stem', 'vectorizer': 'bow'}</td>\n",
       "      <td>0.747467</td>\n",
       "      <td>0.747871</td>\n",
       "    </tr>\n",
       "    <tr>\n",
       "      <th>12</th>\n",
       "      <td>{'col': ['reviewTextWithSummary', 'verified'], 'proc': 'baseline', 'vectorizer': 'bow'}</td>\n",
       "      <td>0.746133</td>\n",
       "      <td>0.746018</td>\n",
       "    </tr>\n",
       "    <tr>\n",
       "      <th>13</th>\n",
       "      <td>{'col': ['reviewTextWithSummary', 'verified'], 'proc': 'lem', 'vectorizer': 'bow'}</td>\n",
       "      <td>0.745333</td>\n",
       "      <td>0.745687</td>\n",
       "    </tr>\n",
       "    <tr>\n",
       "      <th>14</th>\n",
       "      <td>{'col': ['reviewTextWithSummary'], 'proc': 'lem', 'vectorizer': 'bow'}</td>\n",
       "      <td>0.745067</td>\n",
       "      <td>0.745489</td>\n",
       "    </tr>\n",
       "    <tr>\n",
       "      <th>15</th>\n",
       "      <td>{'col': ['reviewTextWithSummary'], 'proc': 'baseline', 'vectorizer': 'bow'}</td>\n",
       "      <td>0.745333</td>\n",
       "      <td>0.745338</td>\n",
       "    </tr>\n",
       "    <tr>\n",
       "      <th>16</th>\n",
       "      <td>{'col': ['reviewText'], 'proc': None, 'vectorizer': 'tfidf'}</td>\n",
       "      <td>0.724533</td>\n",
       "      <td>0.725332</td>\n",
       "    </tr>\n",
       "    <tr>\n",
       "      <th>17</th>\n",
       "      <td>{'col': ['reviewText', 'verified'], 'proc': None, 'vectorizer': 'tfidf'}</td>\n",
       "      <td>0.718400</td>\n",
       "      <td>0.719389</td>\n",
       "    </tr>\n",
       "    <tr>\n",
       "      <th>18</th>\n",
       "      <td>{'col': ['reviewText'], 'proc': 'baseline', 'vectorizer': 'tfidf'}</td>\n",
       "      <td>0.700267</td>\n",
       "      <td>0.701661</td>\n",
       "    </tr>\n",
       "    <tr>\n",
       "      <th>19</th>\n",
       "      <td>{'col': ['reviewText'], 'proc': 'lem', 'vectorizer': 'tfidf'}</td>\n",
       "      <td>0.693067</td>\n",
       "      <td>0.694277</td>\n",
       "    </tr>\n",
       "    <tr>\n",
       "      <th>20</th>\n",
       "      <td>{'col': ['reviewText'], 'proc': 'stem', 'vectorizer': 'tfidf'}</td>\n",
       "      <td>0.691733</td>\n",
       "      <td>0.693311</td>\n",
       "    </tr>\n",
       "    <tr>\n",
       "      <th>21</th>\n",
       "      <td>{'col': ['reviewText', 'verified'], 'proc': 'baseline', 'vectorizer': 'tfidf'}</td>\n",
       "      <td>0.691733</td>\n",
       "      <td>0.693125</td>\n",
       "    </tr>\n",
       "    <tr>\n",
       "      <th>22</th>\n",
       "      <td>{'col': ['reviewText', 'verified'], 'proc': 'lem', 'vectorizer': 'tfidf'}</td>\n",
       "      <td>0.688533</td>\n",
       "      <td>0.689707</td>\n",
       "    </tr>\n",
       "    <tr>\n",
       "      <th>23</th>\n",
       "      <td>{'col': ['reviewText', 'verified'], 'proc': 'stem', 'vectorizer': 'tfidf'}</td>\n",
       "      <td>0.687467</td>\n",
       "      <td>0.689205</td>\n",
       "    </tr>\n",
       "    <tr>\n",
       "      <th>24</th>\n",
       "      <td>{'col': ['reviewText'], 'proc': None, 'vectorizer': 'bow'}</td>\n",
       "      <td>0.672800</td>\n",
       "      <td>0.670072</td>\n",
       "    </tr>\n",
       "    <tr>\n",
       "      <th>25</th>\n",
       "      <td>{'col': ['reviewText', 'verified'], 'proc': None, 'vectorizer': 'bow'}</td>\n",
       "      <td>0.670933</td>\n",
       "      <td>0.668069</td>\n",
       "    </tr>\n",
       "    <tr>\n",
       "      <th>26</th>\n",
       "      <td>{'col': ['reviewText'], 'proc': 'baseline', 'vectorizer': 'bow'}</td>\n",
       "      <td>0.662667</td>\n",
       "      <td>0.659574</td>\n",
       "    </tr>\n",
       "    <tr>\n",
       "      <th>27</th>\n",
       "      <td>{'col': ['reviewText', 'verified'], 'proc': 'baseline', 'vectorizer': 'bow'}</td>\n",
       "      <td>0.660800</td>\n",
       "      <td>0.657790</td>\n",
       "    </tr>\n",
       "    <tr>\n",
       "      <th>28</th>\n",
       "      <td>{'col': ['reviewText'], 'proc': 'stem', 'vectorizer': 'bow'}</td>\n",
       "      <td>0.658133</td>\n",
       "      <td>0.656705</td>\n",
       "    </tr>\n",
       "    <tr>\n",
       "      <th>29</th>\n",
       "      <td>{'col': ['reviewText', 'verified'], 'proc': 'stem', 'vectorizer': 'bow'}</td>\n",
       "      <td>0.657333</td>\n",
       "      <td>0.655806</td>\n",
       "    </tr>\n",
       "    <tr>\n",
       "      <th>30</th>\n",
       "      <td>{'col': ['reviewText'], 'proc': 'lem', 'vectorizer': 'bow'}</td>\n",
       "      <td>0.652267</td>\n",
       "      <td>0.649551</td>\n",
       "    </tr>\n",
       "    <tr>\n",
       "      <th>31</th>\n",
       "      <td>{'col': ['reviewText', 'verified'], 'proc': 'lem', 'vectorizer': 'bow'}</td>\n",
       "      <td>0.650667</td>\n",
       "      <td>0.647902</td>\n",
       "    </tr>\n",
       "  </tbody>\n",
       "</table>\n",
       "</div>"
      ],
      "text/plain": [
       "                                                                Data config and preprocessing  \\\n",
       "0                     {'col': ['reviewTextWithSummary'], 'proc': None, 'vectorizer': 'tfidf'}   \n",
       "1         {'col': ['reviewTextWithSummary', 'verified'], 'proc': None, 'vectorizer': 'tfidf'}   \n",
       "2               {'col': ['reviewTextWithSummary'], 'proc': 'baseline', 'vectorizer': 'tfidf'}   \n",
       "3   {'col': ['reviewTextWithSummary', 'verified'], 'proc': 'baseline', 'vectorizer': 'tfidf'}   \n",
       "4                    {'col': ['reviewTextWithSummary'], 'proc': 'lem', 'vectorizer': 'tfidf'}   \n",
       "5        {'col': ['reviewTextWithSummary', 'verified'], 'proc': 'lem', 'vectorizer': 'tfidf'}   \n",
       "6                   {'col': ['reviewTextWithSummary'], 'proc': 'stem', 'vectorizer': 'tfidf'}   \n",
       "7                       {'col': ['reviewTextWithSummary'], 'proc': None, 'vectorizer': 'bow'}   \n",
       "8           {'col': ['reviewTextWithSummary', 'verified'], 'proc': None, 'vectorizer': 'bow'}   \n",
       "9       {'col': ['reviewTextWithSummary', 'verified'], 'proc': 'stem', 'vectorizer': 'tfidf'}   \n",
       "10                    {'col': ['reviewTextWithSummary'], 'proc': 'stem', 'vectorizer': 'bow'}   \n",
       "11        {'col': ['reviewTextWithSummary', 'verified'], 'proc': 'stem', 'vectorizer': 'bow'}   \n",
       "12    {'col': ['reviewTextWithSummary', 'verified'], 'proc': 'baseline', 'vectorizer': 'bow'}   \n",
       "13         {'col': ['reviewTextWithSummary', 'verified'], 'proc': 'lem', 'vectorizer': 'bow'}   \n",
       "14                     {'col': ['reviewTextWithSummary'], 'proc': 'lem', 'vectorizer': 'bow'}   \n",
       "15                {'col': ['reviewTextWithSummary'], 'proc': 'baseline', 'vectorizer': 'bow'}   \n",
       "16                               {'col': ['reviewText'], 'proc': None, 'vectorizer': 'tfidf'}   \n",
       "17                   {'col': ['reviewText', 'verified'], 'proc': None, 'vectorizer': 'tfidf'}   \n",
       "18                         {'col': ['reviewText'], 'proc': 'baseline', 'vectorizer': 'tfidf'}   \n",
       "19                              {'col': ['reviewText'], 'proc': 'lem', 'vectorizer': 'tfidf'}   \n",
       "20                             {'col': ['reviewText'], 'proc': 'stem', 'vectorizer': 'tfidf'}   \n",
       "21             {'col': ['reviewText', 'verified'], 'proc': 'baseline', 'vectorizer': 'tfidf'}   \n",
       "22                  {'col': ['reviewText', 'verified'], 'proc': 'lem', 'vectorizer': 'tfidf'}   \n",
       "23                 {'col': ['reviewText', 'verified'], 'proc': 'stem', 'vectorizer': 'tfidf'}   \n",
       "24                                 {'col': ['reviewText'], 'proc': None, 'vectorizer': 'bow'}   \n",
       "25                     {'col': ['reviewText', 'verified'], 'proc': None, 'vectorizer': 'bow'}   \n",
       "26                           {'col': ['reviewText'], 'proc': 'baseline', 'vectorizer': 'bow'}   \n",
       "27               {'col': ['reviewText', 'verified'], 'proc': 'baseline', 'vectorizer': 'bow'}   \n",
       "28                               {'col': ['reviewText'], 'proc': 'stem', 'vectorizer': 'bow'}   \n",
       "29                   {'col': ['reviewText', 'verified'], 'proc': 'stem', 'vectorizer': 'bow'}   \n",
       "30                                {'col': ['reviewText'], 'proc': 'lem', 'vectorizer': 'bow'}   \n",
       "31                    {'col': ['reviewText', 'verified'], 'proc': 'lem', 'vectorizer': 'bow'}   \n",
       "\n",
       "    Accuracy  F1 Score  \n",
       "0   0.789600  0.790689  \n",
       "1   0.778133  0.779604  \n",
       "2   0.772800  0.774090  \n",
       "3   0.770400  0.771720  \n",
       "4   0.767733  0.768850  \n",
       "5   0.764533  0.765854  \n",
       "6   0.764267  0.765399  \n",
       "7   0.762933  0.763543  \n",
       "8   0.762933  0.763422  \n",
       "9   0.758133  0.759533  \n",
       "10  0.749067  0.749499  \n",
       "11  0.747467  0.747871  \n",
       "12  0.746133  0.746018  \n",
       "13  0.745333  0.745687  \n",
       "14  0.745067  0.745489  \n",
       "15  0.745333  0.745338  \n",
       "16  0.724533  0.725332  \n",
       "17  0.718400  0.719389  \n",
       "18  0.700267  0.701661  \n",
       "19  0.693067  0.694277  \n",
       "20  0.691733  0.693311  \n",
       "21  0.691733  0.693125  \n",
       "22  0.688533  0.689707  \n",
       "23  0.687467  0.689205  \n",
       "24  0.672800  0.670072  \n",
       "25  0.670933  0.668069  \n",
       "26  0.662667  0.659574  \n",
       "27  0.660800  0.657790  \n",
       "28  0.658133  0.656705  \n",
       "29  0.657333  0.655806  \n",
       "30  0.652267  0.649551  \n",
       "31  0.650667  0.647902  "
      ]
     },
     "metadata": {},
     "output_type": "display_data"
    }
   ],
   "source": [
    "pd.set_option(\"display.max_colwidth\", None)\n",
    "compare_list = compare_list.sort_values(by=\"F1 Score\", ascending=False).reset_index(drop=True)\n",
    "display(compare_list)"
   ]
  },
  {
   "cell_type": "markdown",
   "id": "bdfe6285",
   "metadata": {},
   "source": [
    "- Further testing can be done on using the \"reviewTextWithSummary\" column over the \"reviewText\" as it is universally better\n",
    "- Of the top 10 configurations, 8 of them use TF-IDF vectorizer\n",
    "- Including the \"verified\" column does not seem to have a significant, if only a slight negative, impact on the model. Will not be used in further tesing\n",
    "- Further testing will be done on all of the preprocessing methods (None, Baseline, Stemming, Lemmatization)\n",
    "- Models for further analysis are as follows:\n",
    "    - reviewTextWithSummary, None, TF-IDF\n",
    "    - reviewTextWithSummary, Baseline, TF-IDF\n",
    "    - reviewTextWithSummary, Stem, TF-IDF\n",
    "    - reviewTextWithSummary, Lem, TF-IDF"
   ]
  }
 ],
 "metadata": {
  "kernelspec": {
   "display_name": "Python 3 (ipykernel)",
   "language": "python",
   "name": "python3"
  },
  "language_info": {
   "codemirror_mode": {
    "name": "ipython",
    "version": 3
   },
   "file_extension": ".py",
   "mimetype": "text/x-python",
   "name": "python",
   "nbconvert_exporter": "python",
   "pygments_lexer": "ipython3",
   "version": "3.10.12"
  },
  "varInspector": {
   "cols": {
    "lenName": 16,
    "lenType": 16,
    "lenVar": 40
   },
   "kernels_config": {
    "python": {
     "delete_cmd_postfix": "",
     "delete_cmd_prefix": "del ",
     "library": "var_list.py",
     "varRefreshCmd": "print(var_dic_list())"
    },
    "r": {
     "delete_cmd_postfix": ") ",
     "delete_cmd_prefix": "rm(",
     "library": "var_list.r",
     "varRefreshCmd": "cat(var_dic_list()) "
    }
   },
   "types_to_exclude": [
    "module",
    "function",
    "builtin_function_or_method",
    "instance",
    "_Feature"
   ],
   "window_display": false
  }
 },
 "nbformat": 4,
 "nbformat_minor": 5
}
