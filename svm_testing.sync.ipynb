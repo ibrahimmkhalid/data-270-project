{
 "cells": [
  {
   "cell_type": "code",
   "execution_count": 8,
   "id": "4a0089b1",
   "metadata": {},
   "outputs": [
    {
     "name": "stderr",
     "output_type": "stream",
     "text": [
      "[nltk_data] Downloading package stopwords to\n",
      "[nltk_data]     /home/ibrahim/nltk_data...\n",
      "[nltk_data]   Package stopwords is already up-to-date!\n"
     ]
    }
   ],
   "source": [
    "import pandas as pd\n",
    "import json\n",
    "import gzip\n",
    "import nltk\n",
    "from nltk.corpus import stopwords\n",
    "nltk.download(\"stopwords\")\n",
    "import re\n",
    "\n",
    "\n",
    "def parse(path):\n",
    "    g = gzip.open(path, \"rb\")\n",
    "    for l in g:\n",
    "        yield json.loads(l)\n",
    "\n",
    "\n",
    "def getDF(path, stop=0):\n",
    "    i = 0\n",
    "    df = {}\n",
    "    for d in parse(path):\n",
    "        df[i] = d\n",
    "        i += 1\n",
    "        if stop > 0 and i == stop:\n",
    "            break\n",
    "    return pd.DataFrame.from_dict(df, orient=\"index\")"
   ]
  },
  {
   "cell_type": "code",
   "execution_count": 9,
   "id": "6c05fa3d",
   "metadata": {},
   "outputs": [],
   "source": [
    "df = pd.DataFrame(columns=[\"verified\", \"text\", \"sentiment\"])"
   ]
  },
  {
   "cell_type": "code",
   "execution_count": null,
   "id": "a3063f3d",
   "metadata": {},
   "outputs": [],
   "source": [
    "peek = 1_000_000\n",
    "stop = peek * 10\n",
    "i = 0\n",
    "\n",
    "for review in parse(\"./data/All_Amazon_Review.json.gz\"):\n",
    "    i += 1\n",
    "    if stop > 0 and stop == i:\n",
    "        break\n",
    "    if i % peek == 0:\n",
    "        print(f\"Processed {i / peek:.2f} million reviews\")\n",
    "\n",
    "    if \"overall\" not in review or \"verified\" not in review or \"reviewText\" not in review or \"summary\" not in review:\n",
    "        continue\n",
    "    text = review[\"summary\"] + \" \" + review[\"reviewText\"]\n",
    "    text = re.sub(r\"[^a-zA-Z\\s]\", \"\", text) # remove non-alphabetic characters\n",
    "    text = text.lower()\n",
    "    # remove stopwords\n",
    "    text = \" \".join([word for word in text.split() if word not in stopwords.words(\"english\")])\n",
    "\n",
    "\n",
    "    df.loc[i] = [\n",
    "        review[\"verified\"],\n",
    "        text,\n",
    "        \"positive\" if review[\"overall\"] > 3 else \"negative\" if review[\"overall\"] < 3 else \"neutral\",\n",
    "    ]"
   ]
  },
  {
   "cell_type": "code",
   "execution_count": null,
   "id": "6dabd25d",
   "metadata": {},
   "outputs": [],
   "source": [
    "df.head()"
   ]
  }
 ],
 "metadata": {
  "kernelspec": {
   "display_name": "Python 3 (ipykernel)",
   "language": "python",
   "name": "python3"
  },
  "language_info": {
   "codemirror_mode": {
    "name": "ipython",
    "version": 3
   },
   "file_extension": ".py",
   "mimetype": "text/x-python",
   "name": "python",
   "nbconvert_exporter": "python",
   "pygments_lexer": "ipython3",
   "version": "3.10.12"
  }
 },
 "nbformat": 4,
 "nbformat_minor": 5
}
