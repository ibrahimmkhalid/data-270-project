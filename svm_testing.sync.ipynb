{
 "cells": [
  {
   "cell_type": "code",
   "execution_count": 1,
   "id": "4a0089b1",
   "metadata": {},
   "outputs": [
    {
     "name": "stderr",
     "output_type": "stream",
     "text": [
      "[nltk_data] Downloading package punkt to /home/ibrahim/nltk_data...\n",
      "[nltk_data]   Package punkt is already up-to-date!\n",
      "[nltk_data] Downloading package stopwords to\n",
      "[nltk_data]     /home/ibrahim/nltk_data...\n",
      "[nltk_data]   Package stopwords is already up-to-date!\n",
      "[nltk_data] Downloading package wordnet to /home/ibrahim/nltk_data...\n",
      "[nltk_data]   Package wordnet is already up-to-date!\n"
     ]
    },
    {
     "data": {
      "text/plain": [
       "True"
      ]
     },
     "execution_count": 1,
     "metadata": {},
     "output_type": "execute_result"
    }
   ],
   "source": [
    "import pandas as pd\n",
    "import nltk\n",
    "import re\n",
    "import random\n",
    "import numpy as np\n",
    "from nltk.stem import PorterStemmer, WordNetLemmatizer\n",
    "from sklearn.model_selection import train_test_split\n",
    "from sklearn.feature_extraction.text import TfidfVectorizer, CountVectorizer\n",
    "from sklearn.svm import SVC\n",
    "from sklearn.metrics import (\n",
    "    classification_report,\n",
    "    accuracy_score,\n",
    "    f1_score,\n",
    "    precision_score,\n",
    "    recall_score,\n",
    ")\n",
    "from sklearn.model_selection import GridSearchCV\n",
    "from nltk.corpus import stopwords\n",
    "from scipy.sparse import hstack\n",
    "\n",
    "nltk.download(\"punkt\")\n",
    "nltk.download(\"stopwords\")\n",
    "nltk.download(\"wordnet\")"
   ]
  },
  {
   "cell_type": "code",
   "execution_count": 2,
   "id": "7abc39e7",
   "metadata": {},
   "outputs": [],
   "source": [
    "baseline = \"baseline\"\n",
    "stem = \"stem\"\n",
    "lem = \"lem\"\n",
    "bow = \"bow\"\n",
    "tfidf = \"tfidf\"\n",
    "random_state = 42\n",
    "small_n = 5000\n",
    "large_n = 40000\n",
    "random.seed(random_state)\n",
    "data_path = \"./data/combined.csv\""
   ]
  },
  {
   "cell_type": "markdown",
   "id": "83d046c3",
   "metadata": {},
   "source": [
    "# EDA and simple preprocessing"
   ]
  },
  {
   "cell_type": "code",
   "execution_count": 3,
   "id": "659411f8",
   "metadata": {},
   "outputs": [
    {
     "name": "stdout",
     "output_type": "stream",
     "text": [
      "overall            0.000000\n",
      "verified           0.000000\n",
      "reviewTime         0.000000\n",
      "reviewerID         0.000000\n",
      "asin               0.000000\n",
      "style             50.710965\n",
      "reviewerName       0.016280\n",
      "reviewText         0.049506\n",
      "summary            0.025620\n",
      "unixReviewTime     0.000000\n",
      "vote              84.972458\n",
      "image             97.894193\n",
      "dtype: float64\n"
     ]
    }
   ],
   "source": [
    "df = pd.read_csv(data_path, low_memory=False)\n",
    "print(df.isna().sum() / len(df) * 100)"
   ]
  },
  {
   "cell_type": "code",
   "execution_count": 4,
   "id": "91610b45",
   "metadata": {},
   "outputs": [
    {
     "name": "stdout",
     "output_type": "stream",
     "text": [
      "overall                0\n",
      "verified               0\n",
      "reviewTime             0\n",
      "reviewerID             0\n",
      "asin                   0\n",
      "style             380030\n",
      "reviewerName         122\n",
      "reviewText           371\n",
      "summary              192\n",
      "unixReviewTime         0\n",
      "vote              636787\n",
      "image             733623\n",
      "dtype: int64\n"
     ]
    }
   ],
   "source": [
    "print(df.isna().sum())"
   ]
  },
  {
   "cell_type": "code",
   "execution_count": 5,
   "id": "aed7e73b",
   "metadata": {},
   "outputs": [
    {
     "name": "stdout",
     "output_type": "stream",
     "text": [
      "19.47241852636673\n"
     ]
    }
   ],
   "source": [
    "shpae = df.shape\n",
    "print(df.isna().sum().sum() / (shpae[0] * shpae[1]) * 100)"
   ]
  },
  {
   "cell_type": "code",
   "execution_count": 6,
   "id": "63c344f7",
   "metadata": {},
   "outputs": [
    {
     "data": {
      "text/html": [
       "<div>\n",
       "<style scoped>\n",
       "    .dataframe tbody tr th:only-of-type {\n",
       "        vertical-align: middle;\n",
       "    }\n",
       "\n",
       "    .dataframe tbody tr th {\n",
       "        vertical-align: top;\n",
       "    }\n",
       "\n",
       "    .dataframe thead th {\n",
       "        text-align: right;\n",
       "    }\n",
       "</style>\n",
       "<table border=\"1\" class=\"dataframe\">\n",
       "  <thead>\n",
       "    <tr style=\"text-align: right;\">\n",
       "      <th></th>\n",
       "      <th>overall</th>\n",
       "      <th>verified</th>\n",
       "      <th>reviewTime</th>\n",
       "      <th>reviewerID</th>\n",
       "      <th>asin</th>\n",
       "      <th>style</th>\n",
       "      <th>reviewerName</th>\n",
       "      <th>reviewText</th>\n",
       "      <th>summary</th>\n",
       "      <th>unixReviewTime</th>\n",
       "      <th>vote</th>\n",
       "      <th>image</th>\n",
       "    </tr>\n",
       "  </thead>\n",
       "  <tbody>\n",
       "    <tr>\n",
       "      <th>0</th>\n",
       "      <td>5.0</td>\n",
       "      <td>True</td>\n",
       "      <td>09 1, 2016</td>\n",
       "      <td>A3CIUOJXQ5VDQ2</td>\n",
       "      <td>B0000530HU</td>\n",
       "      <td>{'Size:': ' 7.0 oz', 'Flavor:': ' Classic Ice ...</td>\n",
       "      <td>Shelly F</td>\n",
       "      <td>As advertised. Reasonably priced</td>\n",
       "      <td>Five Stars</td>\n",
       "      <td>1472688000</td>\n",
       "      <td>NaN</td>\n",
       "      <td>NaN</td>\n",
       "    </tr>\n",
       "    <tr>\n",
       "      <th>1</th>\n",
       "      <td>5.0</td>\n",
       "      <td>True</td>\n",
       "      <td>11 14, 2013</td>\n",
       "      <td>A3H7T87S984REU</td>\n",
       "      <td>B0000530HU</td>\n",
       "      <td>{'Size:': ' 7.0 oz', 'Flavor:': ' Classic Ice ...</td>\n",
       "      <td>houserules18</td>\n",
       "      <td>Like the oder and the feel when I put it on my...</td>\n",
       "      <td>Good for the face</td>\n",
       "      <td>1384387200</td>\n",
       "      <td>NaN</td>\n",
       "      <td>NaN</td>\n",
       "    </tr>\n",
       "    <tr>\n",
       "      <th>2</th>\n",
       "      <td>1.0</td>\n",
       "      <td>True</td>\n",
       "      <td>08 18, 2013</td>\n",
       "      <td>A3J034YH7UG4KT</td>\n",
       "      <td>B0000530HU</td>\n",
       "      <td>{'Size:': ' 7.0 oz', 'Flavor:': ' Classic Ice ...</td>\n",
       "      <td>Adam</td>\n",
       "      <td>I bought this to smell nice after I shave.  Wh...</td>\n",
       "      <td>Smells awful</td>\n",
       "      <td>1376784000</td>\n",
       "      <td>NaN</td>\n",
       "      <td>NaN</td>\n",
       "    </tr>\n",
       "    <tr>\n",
       "      <th>3</th>\n",
       "      <td>5.0</td>\n",
       "      <td>False</td>\n",
       "      <td>05 3, 2011</td>\n",
       "      <td>A2UEO5XR3598GI</td>\n",
       "      <td>B0000530HU</td>\n",
       "      <td>{'Size:': ' 7.0 oz', 'Flavor:': ' Classic Ice ...</td>\n",
       "      <td>Rich K</td>\n",
       "      <td>HEY!! I am an Aqua Velva Man and absolutely lo...</td>\n",
       "      <td>Truth is There IS Nothing Like an AQUA VELVA MAN.</td>\n",
       "      <td>1304380800</td>\n",
       "      <td>25</td>\n",
       "      <td>NaN</td>\n",
       "    </tr>\n",
       "    <tr>\n",
       "      <th>4</th>\n",
       "      <td>5.0</td>\n",
       "      <td>True</td>\n",
       "      <td>05 6, 2011</td>\n",
       "      <td>A3SFRT223XXWF7</td>\n",
       "      <td>B00006L9LC</td>\n",
       "      <td>{'Size:': ' 200ml/6.7oz'}</td>\n",
       "      <td>C. C. Christian</td>\n",
       "      <td>If you ever want to feel pampered by a shampoo...</td>\n",
       "      <td>Bvlgari Shampoo</td>\n",
       "      <td>1304640000</td>\n",
       "      <td>3</td>\n",
       "      <td>NaN</td>\n",
       "    </tr>\n",
       "  </tbody>\n",
       "</table>\n",
       "</div>"
      ],
      "text/plain": [
       "   overall  verified   reviewTime      reviewerID        asin  \\\n",
       "0      5.0      True   09 1, 2016  A3CIUOJXQ5VDQ2  B0000530HU   \n",
       "1      5.0      True  11 14, 2013  A3H7T87S984REU  B0000530HU   \n",
       "2      1.0      True  08 18, 2013  A3J034YH7UG4KT  B0000530HU   \n",
       "3      5.0     False   05 3, 2011  A2UEO5XR3598GI  B0000530HU   \n",
       "4      5.0      True   05 6, 2011  A3SFRT223XXWF7  B00006L9LC   \n",
       "\n",
       "                                               style     reviewerName  \\\n",
       "0  {'Size:': ' 7.0 oz', 'Flavor:': ' Classic Ice ...         Shelly F   \n",
       "1  {'Size:': ' 7.0 oz', 'Flavor:': ' Classic Ice ...     houserules18   \n",
       "2  {'Size:': ' 7.0 oz', 'Flavor:': ' Classic Ice ...             Adam   \n",
       "3  {'Size:': ' 7.0 oz', 'Flavor:': ' Classic Ice ...           Rich K   \n",
       "4                          {'Size:': ' 200ml/6.7oz'}  C. C. Christian   \n",
       "\n",
       "                                          reviewText  \\\n",
       "0                   As advertised. Reasonably priced   \n",
       "1  Like the oder and the feel when I put it on my...   \n",
       "2  I bought this to smell nice after I shave.  Wh...   \n",
       "3  HEY!! I am an Aqua Velva Man and absolutely lo...   \n",
       "4  If you ever want to feel pampered by a shampoo...   \n",
       "\n",
       "                                             summary  unixReviewTime vote  \\\n",
       "0                                         Five Stars      1472688000  NaN   \n",
       "1                                  Good for the face      1384387200  NaN   \n",
       "2                                       Smells awful      1376784000  NaN   \n",
       "3  Truth is There IS Nothing Like an AQUA VELVA MAN.      1304380800   25   \n",
       "4                                    Bvlgari Shampoo      1304640000    3   \n",
       "\n",
       "  image  \n",
       "0   NaN  \n",
       "1   NaN  \n",
       "2   NaN  \n",
       "3   NaN  \n",
       "4   NaN  "
      ]
     },
     "execution_count": 6,
     "metadata": {},
     "output_type": "execute_result"
    }
   ],
   "source": [
    "df.head()"
   ]
  },
  {
   "cell_type": "code",
   "execution_count": 7,
   "id": "bd8cb098",
   "metadata": {},
   "outputs": [],
   "source": [
    "df = df[[\"overall\", \"reviewText\", \"summary\", \"verified\"]]"
   ]
  },
  {
   "cell_type": "code",
   "execution_count": 8,
   "id": "c8406fde",
   "metadata": {},
   "outputs": [
    {
     "name": "stdout",
     "output_type": "stream",
     "text": [
      "overall       0.000000\n",
      "reviewText    0.049506\n",
      "summary       0.025620\n",
      "verified      0.000000\n",
      "dtype: float64\n"
     ]
    }
   ],
   "source": [
    "print(df.isna().sum() / len(df) * 100)"
   ]
  },
  {
   "cell_type": "code",
   "execution_count": 9,
   "id": "44456fba",
   "metadata": {},
   "outputs": [],
   "source": [
    "df = df.dropna()"
   ]
  },
  {
   "cell_type": "code",
   "execution_count": 10,
   "id": "aba2c603",
   "metadata": {
    "scrolled": true
   },
   "outputs": [
    {
     "name": "stdout",
     "output_type": "stream",
     "text": [
      "overall       0.0\n",
      "reviewText    0.0\n",
      "summary       0.0\n",
      "verified      0.0\n",
      "dtype: float64\n"
     ]
    }
   ],
   "source": [
    "print(df.isna().sum() / len(df) * 100)"
   ]
  },
  {
   "cell_type": "code",
   "execution_count": 11,
   "id": "3321b122",
   "metadata": {},
   "outputs": [
    {
     "data": {
      "text/html": [
       "<div>\n",
       "<style scoped>\n",
       "    .dataframe tbody tr th:only-of-type {\n",
       "        vertical-align: middle;\n",
       "    }\n",
       "\n",
       "    .dataframe tbody tr th {\n",
       "        vertical-align: top;\n",
       "    }\n",
       "\n",
       "    .dataframe thead th {\n",
       "        text-align: right;\n",
       "    }\n",
       "</style>\n",
       "<table border=\"1\" class=\"dataframe\">\n",
       "  <thead>\n",
       "    <tr style=\"text-align: right;\">\n",
       "      <th></th>\n",
       "      <th>reviewText</th>\n",
       "      <th>verified</th>\n",
       "      <th>sentiment</th>\n",
       "      <th>reviewTextWithSummary</th>\n",
       "    </tr>\n",
       "  </thead>\n",
       "  <tbody>\n",
       "    <tr>\n",
       "      <th>0</th>\n",
       "      <td>As advertised. Reasonably priced</td>\n",
       "      <td>True</td>\n",
       "      <td>1</td>\n",
       "      <td>Five Stars As advertised. Reasonably priced</td>\n",
       "    </tr>\n",
       "    <tr>\n",
       "      <th>1</th>\n",
       "      <td>Like the oder and the feel when I put it on my...</td>\n",
       "      <td>True</td>\n",
       "      <td>1</td>\n",
       "      <td>Good for the face Like the oder and the feel w...</td>\n",
       "    </tr>\n",
       "    <tr>\n",
       "      <th>2</th>\n",
       "      <td>I bought this to smell nice after I shave.  Wh...</td>\n",
       "      <td>True</td>\n",
       "      <td>-1</td>\n",
       "      <td>Smells awful I bought this to smell nice after...</td>\n",
       "    </tr>\n",
       "    <tr>\n",
       "      <th>3</th>\n",
       "      <td>HEY!! I am an Aqua Velva Man and absolutely lo...</td>\n",
       "      <td>False</td>\n",
       "      <td>1</td>\n",
       "      <td>Truth is There IS Nothing Like an AQUA VELVA M...</td>\n",
       "    </tr>\n",
       "    <tr>\n",
       "      <th>4</th>\n",
       "      <td>If you ever want to feel pampered by a shampoo...</td>\n",
       "      <td>True</td>\n",
       "      <td>1</td>\n",
       "      <td>Bvlgari Shampoo If you ever want to feel pampe...</td>\n",
       "    </tr>\n",
       "  </tbody>\n",
       "</table>\n",
       "</div>"
      ],
      "text/plain": [
       "                                          reviewText  verified  sentiment  \\\n",
       "0                   As advertised. Reasonably priced      True          1   \n",
       "1  Like the oder and the feel when I put it on my...      True          1   \n",
       "2  I bought this to smell nice after I shave.  Wh...      True         -1   \n",
       "3  HEY!! I am an Aqua Velva Man and absolutely lo...     False          1   \n",
       "4  If you ever want to feel pampered by a shampoo...      True          1   \n",
       "\n",
       "                               reviewTextWithSummary  \n",
       "0        Five Stars As advertised. Reasonably priced  \n",
       "1  Good for the face Like the oder and the feel w...  \n",
       "2  Smells awful I bought this to smell nice after...  \n",
       "3  Truth is There IS Nothing Like an AQUA VELVA M...  \n",
       "4  Bvlgari Shampoo If you ever want to feel pampe...  "
      ]
     },
     "execution_count": 11,
     "metadata": {},
     "output_type": "execute_result"
    }
   ],
   "source": [
    "df[\"sentiment\"] = df[\"overall\"].apply(lambda x: 1 if x > 3 else -1 if x < 3 else 0)\n",
    "df[\"reviewTextWithSummary\"] = df[\"summary\"] + \" \" + df[\"reviewText\"]\n",
    "df.drop([\"overall\", \"summary\"], axis=1, inplace=True)\n",
    "df.head()"
   ]
  },
  {
   "cell_type": "code",
   "execution_count": 12,
   "id": "3fbace13",
   "metadata": {},
   "outputs": [
    {
     "data": {
      "text/plain": [
       "sentiment\n",
       " 1    657241\n",
       " 0     47109\n",
       "-1     44501\n",
       "Name: count, dtype: int64"
      ]
     },
     "execution_count": 12,
     "metadata": {},
     "output_type": "execute_result"
    }
   ],
   "source": [
    "df[\"sentiment\"].value_counts()"
   ]
  },
  {
   "cell_type": "code",
   "execution_count": 13,
   "id": "6dd5e0a9",
   "metadata": {},
   "outputs": [
    {
     "data": {
      "text/html": [
       "<div>\n",
       "<style scoped>\n",
       "    .dataframe tbody tr th:only-of-type {\n",
       "        vertical-align: middle;\n",
       "    }\n",
       "\n",
       "    .dataframe tbody tr th {\n",
       "        vertical-align: top;\n",
       "    }\n",
       "\n",
       "    .dataframe thead th {\n",
       "        text-align: right;\n",
       "    }\n",
       "</style>\n",
       "<table border=\"1\" class=\"dataframe\">\n",
       "  <thead>\n",
       "    <tr style=\"text-align: right;\">\n",
       "      <th></th>\n",
       "      <th>reviewText</th>\n",
       "      <th>verified</th>\n",
       "      <th>sentiment</th>\n",
       "      <th>reviewTextWithSummary</th>\n",
       "    </tr>\n",
       "  </thead>\n",
       "  <tbody>\n",
       "    <tr>\n",
       "      <th>0</th>\n",
       "      <td>As advertised. Reasonably priced</td>\n",
       "      <td>True</td>\n",
       "      <td>1</td>\n",
       "      <td>Five Stars As advertised. Reasonably priced</td>\n",
       "    </tr>\n",
       "    <tr>\n",
       "      <th>1</th>\n",
       "      <td>Like the oder and the feel when I put it on my...</td>\n",
       "      <td>True</td>\n",
       "      <td>1</td>\n",
       "      <td>Good for the face Like the oder and the feel w...</td>\n",
       "    </tr>\n",
       "    <tr>\n",
       "      <th>2</th>\n",
       "      <td>I bought this to smell nice after I shave.  Wh...</td>\n",
       "      <td>True</td>\n",
       "      <td>-1</td>\n",
       "      <td>Smells awful I bought this to smell nice after...</td>\n",
       "    </tr>\n",
       "    <tr>\n",
       "      <th>3</th>\n",
       "      <td>HEY!! I am an Aqua Velva Man and absolutely lo...</td>\n",
       "      <td>False</td>\n",
       "      <td>1</td>\n",
       "      <td>Truth is There IS Nothing Like an AQUA VELVA M...</td>\n",
       "    </tr>\n",
       "    <tr>\n",
       "      <th>4</th>\n",
       "      <td>If you ever want to feel pampered by a shampoo...</td>\n",
       "      <td>True</td>\n",
       "      <td>1</td>\n",
       "      <td>Bvlgari Shampoo If you ever want to feel pampe...</td>\n",
       "    </tr>\n",
       "  </tbody>\n",
       "</table>\n",
       "</div>"
      ],
      "text/plain": [
       "                                          reviewText  verified  sentiment  \\\n",
       "0                   As advertised. Reasonably priced      True          1   \n",
       "1  Like the oder and the feel when I put it on my...      True          1   \n",
       "2  I bought this to smell nice after I shave.  Wh...      True         -1   \n",
       "3  HEY!! I am an Aqua Velva Man and absolutely lo...     False          1   \n",
       "4  If you ever want to feel pampered by a shampoo...      True          1   \n",
       "\n",
       "                               reviewTextWithSummary  \n",
       "0        Five Stars As advertised. Reasonably priced  \n",
       "1  Good for the face Like the oder and the feel w...  \n",
       "2  Smells awful I bought this to smell nice after...  \n",
       "3  Truth is There IS Nothing Like an AQUA VELVA M...  \n",
       "4  Bvlgari Shampoo If you ever want to feel pampe...  "
      ]
     },
     "execution_count": 13,
     "metadata": {},
     "output_type": "execute_result"
    }
   ],
   "source": [
    "df.head()"
   ]
  },
  {
   "cell_type": "markdown",
   "id": "a45fd32f",
   "metadata": {},
   "source": [
    "# Model experimentation"
   ]
  },
  {
   "cell_type": "code",
   "execution_count": 14,
   "id": "a98d2c13",
   "metadata": {},
   "outputs": [
    {
     "data": {
      "text/plain": [
       "sentiment\n",
       "-1    5000\n",
       " 0    5000\n",
       " 1    5000\n",
       "Name: count, dtype: int64"
      ]
     },
     "execution_count": 14,
     "metadata": {},
     "output_type": "execute_result"
    }
   ],
   "source": [
    "df_balanced_small = (\n",
    "    df.groupby(\"sentiment\")\n",
    "    .apply(lambda x: x.sample(n=small_n, random_state=random_state, replace=True))\n",
    "    .reset_index(drop=True)\n",
    ")\n",
    "df_balanced_small[\"sentiment\"].value_counts()"
   ]
  },
  {
   "cell_type": "code",
   "execution_count": 15,
   "id": "128a6242",
   "metadata": {},
   "outputs": [
    {
     "data": {
      "text/html": [
       "<div>\n",
       "<style scoped>\n",
       "    .dataframe tbody tr th:only-of-type {\n",
       "        vertical-align: middle;\n",
       "    }\n",
       "\n",
       "    .dataframe tbody tr th {\n",
       "        vertical-align: top;\n",
       "    }\n",
       "\n",
       "    .dataframe thead th {\n",
       "        text-align: right;\n",
       "    }\n",
       "</style>\n",
       "<table border=\"1\" class=\"dataframe\">\n",
       "  <thead>\n",
       "    <tr style=\"text-align: right;\">\n",
       "      <th></th>\n",
       "      <th>reviewText</th>\n",
       "      <th>verified</th>\n",
       "      <th>sentiment</th>\n",
       "      <th>reviewTextWithSummary</th>\n",
       "    </tr>\n",
       "  </thead>\n",
       "  <tbody>\n",
       "    <tr>\n",
       "      <th>0</th>\n",
       "      <td>Intuit is a despicable company now. This is th...</td>\n",
       "      <td>False</td>\n",
       "      <td>-1</td>\n",
       "      <td>Intuit is One Unethical Company. Any alternati...</td>\n",
       "    </tr>\n",
       "    <tr>\n",
       "      <th>1</th>\n",
       "      <td>Very disappointed guitar came damaged with den...</td>\n",
       "      <td>True</td>\n",
       "      <td>-1</td>\n",
       "      <td>Very disappointed Very disappointed guitar cam...</td>\n",
       "    </tr>\n",
       "    <tr>\n",
       "      <th>2</th>\n",
       "      <td>The rings did not perform as I had hoped. They...</td>\n",
       "      <td>True</td>\n",
       "      <td>-1</td>\n",
       "      <td>Not what I was hoping for The rings did not pe...</td>\n",
       "    </tr>\n",
       "    <tr>\n",
       "      <th>3</th>\n",
       "      <td>My ProFX8 purchased from Amazon in 2015 was po...</td>\n",
       "      <td>False</td>\n",
       "      <td>-1</td>\n",
       "      <td>Mine broke. Very light use. Padded case. Maybe...</td>\n",
       "    </tr>\n",
       "    <tr>\n",
       "      <th>4</th>\n",
       "      <td>Not the greatest, really flimsy.</td>\n",
       "      <td>True</td>\n",
       "      <td>-1</td>\n",
       "      <td>Two Stars Not the greatest, really flimsy.</td>\n",
       "    </tr>\n",
       "  </tbody>\n",
       "</table>\n",
       "</div>"
      ],
      "text/plain": [
       "                                          reviewText  verified  sentiment  \\\n",
       "0  Intuit is a despicable company now. This is th...     False         -1   \n",
       "1  Very disappointed guitar came damaged with den...      True         -1   \n",
       "2  The rings did not perform as I had hoped. They...      True         -1   \n",
       "3  My ProFX8 purchased from Amazon in 2015 was po...     False         -1   \n",
       "4                   Not the greatest, really flimsy.      True         -1   \n",
       "\n",
       "                               reviewTextWithSummary  \n",
       "0  Intuit is One Unethical Company. Any alternati...  \n",
       "1  Very disappointed Very disappointed guitar cam...  \n",
       "2  Not what I was hoping for The rings did not pe...  \n",
       "3  Mine broke. Very light use. Padded case. Maybe...  \n",
       "4         Two Stars Not the greatest, really flimsy.  "
      ]
     },
     "execution_count": 15,
     "metadata": {},
     "output_type": "execute_result"
    }
   ],
   "source": [
    "df_balanced_small.head()"
   ]
  },
  {
   "cell_type": "code",
   "execution_count": 16,
   "id": "c6d3a442",
   "metadata": {},
   "outputs": [],
   "source": [
    "STOP_WORDS = set(stopwords.words(\"english\"))"
   ]
  },
  {
   "cell_type": "code",
   "execution_count": 17,
   "id": "e24c7eb7",
   "metadata": {},
   "outputs": [],
   "source": [
    "def preprocess_text(sentence, stop, type_proc=None):\n",
    "    words = []\n",
    "    for word in sentence.lower().strip().split():\n",
    "\n",
    "        word = re.sub(\"\\d\", \"\", word)\n",
    "        word = re.sub(\"[^\\w\\s]\", \"\", word)\n",
    "\n",
    "        if word not in stop and word != \"\":\n",
    "            words.append(preprocess_type(word, type_proc))\n",
    "\n",
    "    return \" \".join(words)"
   ]
  },
  {
   "cell_type": "code",
   "execution_count": 18,
   "id": "83b1d6e3",
   "metadata": {},
   "outputs": [],
   "source": [
    "def preprocess_type(word, type_proc):\n",
    "    if type_proc == baseline:\n",
    "        return word\n",
    "    elif type_proc == stem:\n",
    "        return PorterStemmer().stem(word)\n",
    "    elif type_proc == lem:\n",
    "        return WordNetLemmatizer().lemmatize(word)\n",
    "    else:\n",
    "        raise ValueError(\"Invalid Preprocessing Type\")"
   ]
  },
  {
   "cell_type": "code",
   "execution_count": 19,
   "id": "a4dc149e",
   "metadata": {},
   "outputs": [],
   "source": [
    "def my_train_test_split(cols, test_size, df=df, random_state=random_state):\n",
    "    x_train, x_test, y_train, y_test = train_test_split(\n",
    "        df[cols], df[\"sentiment\"], test_size=test_size, random_state=random_state\n",
    "    )\n",
    "    return x_train, x_test, y_train, y_test"
   ]
  },
  {
   "cell_type": "code",
   "execution_count": 20,
   "id": "c5f55ddf",
   "metadata": {},
   "outputs": [],
   "source": [
    "def apply_preprocessing(proc, x_train, x_test):\n",
    "    if proc is None:\n",
    "        return x_train, x_test\n",
    "    cols = x_train.columns\n",
    "\n",
    "    textcol = \"reviewText\"\n",
    "    if \"reviewText\" not in cols and \"reviewTextWithSummary\" in cols:\n",
    "        textcol = \"reviewTextWithSummary\"\n",
    "    x_train[textcol] = x_train[textcol].apply(\n",
    "        lambda x: preprocess_text(x, STOP_WORDS, proc)\n",
    "    )\n",
    "    x_test[textcol] = x_test[textcol].apply(\n",
    "        lambda x: preprocess_text(x, STOP_WORDS, proc)\n",
    "    )\n",
    "    return x_train, x_test"
   ]
  },
  {
   "cell_type": "code",
   "execution_count": 21,
   "id": "6e3aff4f",
   "metadata": {},
   "outputs": [],
   "source": [
    "def add_col(x, col):\n",
    "    col = np.array([col]).T\n",
    "    return hstack([x, col])"
   ]
  },
  {
   "cell_type": "code",
   "execution_count": 22,
   "id": "4f392dc1",
   "metadata": {},
   "outputs": [],
   "source": [
    "def pipeline(cols, test_size, proc, vectorizer, df=df, random_state=random_state):\n",
    "    if \"reviewText\" not in cols and \"reviewTextWithSummary\" not in cols:\n",
    "        raise ValueError(\"Must contain reviewText or reviewTextWithSummary\")\n",
    "\n",
    "    textcol = \"reviewText\"\n",
    "    if \"reviewText\" not in cols and \"reviewTextWithSummary\" in cols:\n",
    "        textcol = \"reviewTextWithSummary\"\n",
    "    x_train, x_test, y_train, y_test = my_train_test_split(\n",
    "        cols, test_size, df, random_state\n",
    "    )\n",
    "    x_train, x_test = apply_preprocessing(proc, x_train, x_test)\n",
    "    if vectorizer == bow:\n",
    "        vectorizer = CountVectorizer()\n",
    "    elif vectorizer == tfidf:\n",
    "        vectorizer = TfidfVectorizer()\n",
    "    else:\n",
    "        raise ValueError(\"Invalid Vectorizer\")\n",
    "    x_train_ = vectorizer.fit_transform(x_train[textcol])\n",
    "    x_test_ = vectorizer.transform(x_test[textcol])\n",
    "\n",
    "    if \"verified\" in cols:\n",
    "        x_train = add_col(x_train_, x_train[\"verified\"])\n",
    "        x_test = add_col(x_test_, x_test[\"verified\"])\n",
    "    else:\n",
    "        x_train = x_train_\n",
    "        x_test = x_test_\n",
    "    return x_train, x_test, y_train, y_test"
   ]
  },
  {
   "cell_type": "markdown",
   "id": "56c30b9e",
   "metadata": {},
   "source": [
    "## Small Balanced Dataset"
   ]
  },
  {
   "cell_type": "code",
   "execution_count": 23,
   "id": "d66ed88b",
   "metadata": {},
   "outputs": [],
   "source": [
    "param_grid = {\n",
    "    \"C\": [0.1, 1, 10, 100, 1000],\n",
    "    \"gamma\": [1, 0.1, 0.01, 0.001, 0.0001],\n",
    "    \"kernel\": [\"rbf\", \"linear\"],\n",
    "}\n",
    "n_jobs = -1\n",
    "verbose = 0\n",
    "cv = 3"
   ]
  },
  {
   "cell_type": "code",
   "execution_count": 24,
   "id": "127f4f84",
   "metadata": {},
   "outputs": [],
   "source": [
    "compare_list = pd.DataFrame(columns=[\"Params\", \"Config\", \"Accuracy Score\"])"
   ]
  },
  {
   "cell_type": "code",
   "execution_count": 25,
   "id": "fd80adab",
   "metadata": {},
   "outputs": [],
   "source": [
    "code_gen = False\n",
    "col_comb = [\n",
    "    [\"reviewText\"],\n",
    "    [\"reviewText\", \"verified\"],\n",
    "    [\"reviewTextWithSummary\"],\n",
    "    [\"reviewTextWithSummary\", \"verified\"],\n",
    "]\n",
    "proc_comb = [None, baseline, stem, lem]\n",
    "vectorizer_comb = [bow, tfidf]\n",
    "if code_gen:\n",
    "    for col in col_comb:\n",
    "        for proc in proc_comb:\n",
    "            for vectorizer in vectorizer_comb:\n",
    "                params = {\n",
    "                    \"col\": col,\n",
    "                    \"test_size\": 0.25,\n",
    "                    \"proc\": proc,\n",
    "                    \"vectorizer\": vectorizer,\n",
    "                }\n",
    "                print(\n",
    "                    f\"\"\"\n",
    "# %%\n",
    "x_train, x_test, y_train, y_test = pipeline({col}, 0.25, {proc}, {vectorizer}, df_balanced_small)\n",
    "grid = GridSearchCV(SVC(), param_grid, refit=True, verbose=verbose, n_jobs=n_jobs, cv=cv)\n",
    "grid.fit(x_train, y_train)\n",
    "y_pred = grid.predict(x_test)\n",
    "print(classification_report(y_test, y_pred))\n",
    "accuracy = grid.score(x_test, y_test)\n",
    "compare_list.loc[len(compare_list)] = [grid.best_params_, {params}, accuracy]\n",
    "\"\"\"\n",
    "                )"
   ]
  },
  {
   "cell_type": "code",
   "execution_count": 26,
   "id": "4a550869",
   "metadata": {},
   "outputs": [],
   "source": [
    "# below is code genderated by above cell, to make changes to the code, edit the\n",
    "# above cell and run it, pasting its contents between the markers"
   ]
  },
  {
   "cell_type": "code",
   "execution_count": 27,
   "id": "2b3f056a",
   "metadata": {},
   "outputs": [
    {
     "name": "stdout",
     "output_type": "stream",
     "text": [
      "              precision    recall  f1-score   support\n",
      "\n",
      "          -1       0.72      0.69      0.71      1284\n",
      "           0       0.60      0.56      0.58      1225\n",
      "           1       0.75      0.84      0.79      1241\n",
      "\n",
      "    accuracy                           0.70      3750\n",
      "   macro avg       0.69      0.70      0.69      3750\n",
      "weighted avg       0.69      0.70      0.69      3750\n",
      "\n"
     ]
    }
   ],
   "source": [
    "####### START OF GENERATED CODE #######\n",
    "x_train, x_test, y_train, y_test = pipeline(['reviewText'], 0.25, None, bow, df_balanced_small)\n",
    "grid = GridSearchCV(SVC(), param_grid, refit=True, verbose=verbose, n_jobs=n_jobs, cv=cv)\n",
    "grid.fit(x_train, y_train)\n",
    "y_pred = grid.predict(x_test)\n",
    "print(classification_report(y_test, y_pred))\n",
    "accuracy = grid.score(x_test, y_test)\n",
    "compare_list.loc[len(compare_list)] = [grid.best_params_, {'col': ['reviewText'], 'test_size': 0.25, 'proc': None, 'vectorizer': 'bow'}, accuracy]"
   ]
  },
  {
   "cell_type": "code",
   "execution_count": 28,
   "id": "5eb4be2a",
   "metadata": {},
   "outputs": [
    {
     "name": "stdout",
     "output_type": "stream",
     "text": [
      "              precision    recall  f1-score   support\n",
      "\n",
      "          -1       0.74      0.74      0.74      1284\n",
      "           0       0.62      0.64      0.63      1225\n",
      "           1       0.82      0.79      0.80      1241\n",
      "\n",
      "    accuracy                           0.72      3750\n",
      "   macro avg       0.73      0.72      0.73      3750\n",
      "weighted avg       0.73      0.72      0.73      3750\n",
      "\n"
     ]
    }
   ],
   "source": [
    "x_train, x_test, y_train, y_test = pipeline(['reviewText'], 0.25, None, tfidf, df_balanced_small)\n",
    "grid = GridSearchCV(SVC(), param_grid, refit=True, verbose=verbose, n_jobs=n_jobs, cv=cv)\n",
    "grid.fit(x_train, y_train)\n",
    "y_pred = grid.predict(x_test)\n",
    "print(classification_report(y_test, y_pred))\n",
    "accuracy = grid.score(x_test, y_test)\n",
    "compare_list.loc[len(compare_list)] = [grid.best_params_, {'col': ['reviewText'], 'test_size': 0.25, 'proc': None, 'vectorizer': 'tfidf'}, accuracy]"
   ]
  },
  {
   "cell_type": "code",
   "execution_count": 29,
   "id": "aa3cc518",
   "metadata": {},
   "outputs": [
    {
     "name": "stdout",
     "output_type": "stream",
     "text": [
      "              precision    recall  f1-score   support\n",
      "\n",
      "          -1       0.70      0.68      0.69      1284\n",
      "           0       0.59      0.54      0.56      1225\n",
      "           1       0.71      0.80      0.75      1241\n",
      "\n",
      "    accuracy                           0.67      3750\n",
      "   macro avg       0.67      0.67      0.67      3750\n",
      "weighted avg       0.67      0.67      0.67      3750\n",
      "\n"
     ]
    }
   ],
   "source": [
    "x_train, x_test, y_train, y_test = pipeline(['reviewText'], 0.25, baseline, bow, df_balanced_small)\n",
    "grid = GridSearchCV(SVC(), param_grid, refit=True, verbose=verbose, n_jobs=n_jobs, cv=cv)\n",
    "grid.fit(x_train, y_train)\n",
    "y_pred = grid.predict(x_test)\n",
    "print(classification_report(y_test, y_pred))\n",
    "accuracy = grid.score(x_test, y_test)\n",
    "compare_list.loc[len(compare_list)] = [grid.best_params_, {'col': ['reviewText'], 'test_size': 0.25, 'proc': 'baseline', 'vectorizer': 'bow'}, accuracy]"
   ]
  },
  {
   "cell_type": "code",
   "execution_count": 30,
   "id": "5d73c8df",
   "metadata": {},
   "outputs": [
    {
     "name": "stdout",
     "output_type": "stream",
     "text": [
      "              precision    recall  f1-score   support\n",
      "\n",
      "          -1       0.71      0.71      0.71      1284\n",
      "           0       0.60      0.63      0.61      1225\n",
      "           1       0.80      0.76      0.78      1241\n",
      "\n",
      "    accuracy                           0.70      3750\n",
      "   macro avg       0.70      0.70      0.70      3750\n",
      "weighted avg       0.70      0.70      0.70      3750\n",
      "\n"
     ]
    }
   ],
   "source": [
    "x_train, x_test, y_train, y_test = pipeline(['reviewText'], 0.25, baseline, tfidf, df_balanced_small)\n",
    "grid = GridSearchCV(SVC(), param_grid, refit=True, verbose=verbose, n_jobs=n_jobs, cv=cv)\n",
    "grid.fit(x_train, y_train)\n",
    "y_pred = grid.predict(x_test)\n",
    "print(classification_report(y_test, y_pred))\n",
    "accuracy = grid.score(x_test, y_test)\n",
    "compare_list.loc[len(compare_list)] = [grid.best_params_, {'col': ['reviewText'], 'test_size': 0.25, 'proc': 'baseline', 'vectorizer': 'tfidf'}, accuracy]"
   ]
  },
  {
   "cell_type": "code",
   "execution_count": 31,
   "id": "778b3786",
   "metadata": {},
   "outputs": [
    {
     "name": "stdout",
     "output_type": "stream",
     "text": [
      "              precision    recall  f1-score   support\n",
      "\n",
      "          -1       0.70      0.68      0.69      1284\n",
      "           0       0.59      0.56      0.57      1225\n",
      "           1       0.72      0.78      0.75      1241\n",
      "\n",
      "    accuracy                           0.67      3750\n",
      "   macro avg       0.67      0.67      0.67      3750\n",
      "weighted avg       0.67      0.67      0.67      3750\n",
      "\n"
     ]
    }
   ],
   "source": [
    "x_train, x_test, y_train, y_test = pipeline(['reviewText'], 0.25, stem, bow, df_balanced_small)\n",
    "grid = GridSearchCV(SVC(), param_grid, refit=True, verbose=verbose, n_jobs=n_jobs, cv=cv)\n",
    "grid.fit(x_train, y_train)\n",
    "y_pred = grid.predict(x_test)\n",
    "print(classification_report(y_test, y_pred))\n",
    "accuracy = grid.score(x_test, y_test)\n",
    "compare_list.loc[len(compare_list)] = [grid.best_params_, {'col': ['reviewText'], 'test_size': 0.25, 'proc': 'stem', 'vectorizer': 'bow'}, accuracy]"
   ]
  },
  {
   "cell_type": "code",
   "execution_count": 32,
   "id": "68d8be47",
   "metadata": {},
   "outputs": [
    {
     "name": "stdout",
     "output_type": "stream",
     "text": [
      "              precision    recall  f1-score   support\n",
      "\n",
      "          -1       0.70      0.69      0.70      1284\n",
      "           0       0.59      0.63      0.61      1225\n",
      "           1       0.79      0.75      0.77      1241\n",
      "\n",
      "    accuracy                           0.69      3750\n",
      "   macro avg       0.69      0.69      0.69      3750\n",
      "weighted avg       0.70      0.69      0.69      3750\n",
      "\n"
     ]
    }
   ],
   "source": [
    "x_train, x_test, y_train, y_test = pipeline(['reviewText'], 0.25, stem, tfidf, df_balanced_small)\n",
    "grid = GridSearchCV(SVC(), param_grid, refit=True, verbose=verbose, n_jobs=n_jobs, cv=cv)\n",
    "grid.fit(x_train, y_train)\n",
    "y_pred = grid.predict(x_test)\n",
    "print(classification_report(y_test, y_pred))\n",
    "accuracy = grid.score(x_test, y_test)\n",
    "compare_list.loc[len(compare_list)] = [grid.best_params_, {'col': ['reviewText'], 'test_size': 0.25, 'proc': 'stem', 'vectorizer': 'tfidf'}, accuracy]"
   ]
  },
  {
   "cell_type": "code",
   "execution_count": 33,
   "id": "09a0a188",
   "metadata": {},
   "outputs": [
    {
     "name": "stdout",
     "output_type": "stream",
     "text": [
      "              precision    recall  f1-score   support\n",
      "\n",
      "          -1       0.69      0.64      0.66      1284\n",
      "           0       0.58      0.54      0.56      1225\n",
      "           1       0.71      0.81      0.76      1241\n",
      "\n",
      "    accuracy                           0.66      3750\n",
      "   macro avg       0.66      0.66      0.66      3750\n",
      "weighted avg       0.66      0.66      0.66      3750\n",
      "\n"
     ]
    }
   ],
   "source": [
    "x_train, x_test, y_train, y_test = pipeline(['reviewText'], 0.25, lem, bow, df_balanced_small)\n",
    "grid = GridSearchCV(SVC(), param_grid, refit=True, verbose=verbose, n_jobs=n_jobs, cv=cv)\n",
    "grid.fit(x_train, y_train)\n",
    "y_pred = grid.predict(x_test)\n",
    "print(classification_report(y_test, y_pred))\n",
    "accuracy = grid.score(x_test, y_test)\n",
    "compare_list.loc[len(compare_list)] = [grid.best_params_, {'col': ['reviewText'], 'test_size': 0.25, 'proc': 'lem', 'vectorizer': 'bow'}, accuracy]"
   ]
  },
  {
   "cell_type": "code",
   "execution_count": 34,
   "id": "3da51e76",
   "metadata": {},
   "outputs": [
    {
     "name": "stdout",
     "output_type": "stream",
     "text": [
      "              precision    recall  f1-score   support\n",
      "\n",
      "          -1       0.70      0.70      0.70      1284\n",
      "           0       0.60      0.63      0.61      1225\n",
      "           1       0.79      0.76      0.77      1241\n",
      "\n",
      "    accuracy                           0.69      3750\n",
      "   macro avg       0.70      0.69      0.69      3750\n",
      "weighted avg       0.70      0.69      0.69      3750\n",
      "\n"
     ]
    }
   ],
   "source": [
    "x_train, x_test, y_train, y_test = pipeline(['reviewText'], 0.25, lem, tfidf, df_balanced_small)\n",
    "grid = GridSearchCV(SVC(), param_grid, refit=True, verbose=verbose, n_jobs=n_jobs, cv=cv)\n",
    "grid.fit(x_train, y_train)\n",
    "y_pred = grid.predict(x_test)\n",
    "print(classification_report(y_test, y_pred))\n",
    "accuracy = grid.score(x_test, y_test)\n",
    "compare_list.loc[len(compare_list)] = [grid.best_params_, {'col': ['reviewText'], 'test_size': 0.25, 'proc': 'lem', 'vectorizer': 'tfidf'}, accuracy]"
   ]
  },
  {
   "cell_type": "code",
   "execution_count": 35,
   "id": "37e87662",
   "metadata": {},
   "outputs": [
    {
     "name": "stdout",
     "output_type": "stream",
     "text": [
      "              precision    recall  f1-score   support\n",
      "\n",
      "          -1       0.72      0.70      0.71      1284\n",
      "           0       0.61      0.56      0.58      1225\n",
      "           1       0.76      0.83      0.79      1241\n",
      "\n",
      "    accuracy                           0.70      3750\n",
      "   macro avg       0.69      0.70      0.70      3750\n",
      "weighted avg       0.69      0.70      0.70      3750\n",
      "\n"
     ]
    }
   ],
   "source": [
    "x_train, x_test, y_train, y_test = pipeline(['reviewText', 'verified'], 0.25, None, bow, df_balanced_small)\n",
    "grid = GridSearchCV(SVC(), param_grid, refit=True, verbose=verbose, n_jobs=n_jobs, cv=cv)\n",
    "grid.fit(x_train, y_train)\n",
    "y_pred = grid.predict(x_test)\n",
    "print(classification_report(y_test, y_pred))\n",
    "accuracy = grid.score(x_test, y_test)\n",
    "compare_list.loc[len(compare_list)] = [grid.best_params_, {'col': ['reviewText', 'verified'], 'test_size': 0.25, 'proc': None, 'vectorizer': 'bow'}, accuracy]"
   ]
  },
  {
   "cell_type": "code",
   "execution_count": 36,
   "id": "fbb3cf58",
   "metadata": {},
   "outputs": [
    {
     "name": "stdout",
     "output_type": "stream",
     "text": [
      "              precision    recall  f1-score   support\n",
      "\n",
      "          -1       0.73      0.75      0.74      1284\n",
      "           0       0.62      0.64      0.63      1225\n",
      "           1       0.82      0.78      0.80      1241\n",
      "\n",
      "    accuracy                           0.72      3750\n",
      "   macro avg       0.73      0.72      0.72      3750\n",
      "weighted avg       0.73      0.72      0.72      3750\n",
      "\n"
     ]
    }
   ],
   "source": [
    "x_train, x_test, y_train, y_test = pipeline(['reviewText', 'verified'], 0.25, None, tfidf, df_balanced_small)\n",
    "grid = GridSearchCV(SVC(), param_grid, refit=True, verbose=verbose, n_jobs=n_jobs, cv=cv)\n",
    "grid.fit(x_train, y_train)\n",
    "y_pred = grid.predict(x_test)\n",
    "print(classification_report(y_test, y_pred))\n",
    "accuracy = grid.score(x_test, y_test)\n",
    "compare_list.loc[len(compare_list)] = [grid.best_params_, {'col': ['reviewText', 'verified'], 'test_size': 0.25, 'proc': None, 'vectorizer': 'tfidf'}, accuracy]"
   ]
  },
  {
   "cell_type": "code",
   "execution_count": 37,
   "id": "b81d8873",
   "metadata": {},
   "outputs": [
    {
     "name": "stdout",
     "output_type": "stream",
     "text": [
      "              precision    recall  f1-score   support\n",
      "\n",
      "          -1       0.70      0.69      0.69      1284\n",
      "           0       0.60      0.56      0.58      1225\n",
      "           1       0.73      0.79      0.76      1241\n",
      "\n",
      "    accuracy                           0.68      3750\n",
      "   macro avg       0.67      0.68      0.67      3750\n",
      "weighted avg       0.67      0.68      0.68      3750\n",
      "\n"
     ]
    }
   ],
   "source": [
    "x_train, x_test, y_train, y_test = pipeline(['reviewText', 'verified'], 0.25, baseline, bow, df_balanced_small)\n",
    "grid = GridSearchCV(SVC(), param_grid, refit=True, verbose=verbose, n_jobs=n_jobs, cv=cv)\n",
    "grid.fit(x_train, y_train)\n",
    "y_pred = grid.predict(x_test)\n",
    "print(classification_report(y_test, y_pred))\n",
    "accuracy = grid.score(x_test, y_test)\n",
    "compare_list.loc[len(compare_list)] = [grid.best_params_, {'col': ['reviewText', 'verified'], 'test_size': 0.25, 'proc': 'baseline', 'vectorizer': 'bow'}, accuracy]"
   ]
  },
  {
   "cell_type": "code",
   "execution_count": 38,
   "id": "577ed97a",
   "metadata": {},
   "outputs": [
    {
     "name": "stdout",
     "output_type": "stream",
     "text": [
      "              precision    recall  f1-score   support\n",
      "\n",
      "          -1       0.70      0.72      0.71      1284\n",
      "           0       0.59      0.61      0.60      1225\n",
      "           1       0.80      0.75      0.77      1241\n",
      "\n",
      "    accuracy                           0.69      3750\n",
      "   macro avg       0.70      0.69      0.70      3750\n",
      "weighted avg       0.70      0.69      0.70      3750\n",
      "\n"
     ]
    }
   ],
   "source": [
    "x_train, x_test, y_train, y_test = pipeline(['reviewText', 'verified'], 0.25, baseline, tfidf, df_balanced_small)\n",
    "grid = GridSearchCV(SVC(), param_grid, refit=True, verbose=verbose, n_jobs=n_jobs, cv=cv)\n",
    "grid.fit(x_train, y_train)\n",
    "y_pred = grid.predict(x_test)\n",
    "print(classification_report(y_test, y_pred))\n",
    "accuracy = grid.score(x_test, y_test)\n",
    "compare_list.loc[len(compare_list)] = [grid.best_params_, {'col': ['reviewText', 'verified'], 'test_size': 0.25, 'proc': 'baseline', 'vectorizer': 'tfidf'}, accuracy]"
   ]
  },
  {
   "cell_type": "code",
   "execution_count": 39,
   "id": "1fd73ffb",
   "metadata": {},
   "outputs": [
    {
     "name": "stdout",
     "output_type": "stream",
     "text": [
      "              precision    recall  f1-score   support\n",
      "\n",
      "          -1       0.70      0.68      0.69      1284\n",
      "           0       0.59      0.56      0.57      1225\n",
      "           1       0.73      0.78      0.76      1241\n",
      "\n",
      "    accuracy                           0.67      3750\n",
      "   macro avg       0.67      0.67      0.67      3750\n",
      "weighted avg       0.67      0.67      0.67      3750\n",
      "\n"
     ]
    }
   ],
   "source": [
    "x_train, x_test, y_train, y_test = pipeline(['reviewText', 'verified'], 0.25, stem, bow, df_balanced_small)\n",
    "grid = GridSearchCV(SVC(), param_grid, refit=True, verbose=verbose, n_jobs=n_jobs, cv=cv)\n",
    "grid.fit(x_train, y_train)\n",
    "y_pred = grid.predict(x_test)\n",
    "print(classification_report(y_test, y_pred))\n",
    "accuracy = grid.score(x_test, y_test)\n",
    "compare_list.loc[len(compare_list)] = [grid.best_params_, {'col': ['reviewText', 'verified'], 'test_size': 0.25, 'proc': 'stem', 'vectorizer': 'bow'}, accuracy]"
   ]
  },
  {
   "cell_type": "code",
   "execution_count": 40,
   "id": "1b09810e",
   "metadata": {},
   "outputs": [
    {
     "name": "stdout",
     "output_type": "stream",
     "text": [
      "              precision    recall  f1-score   support\n",
      "\n",
      "          -1       0.70      0.70      0.70      1284\n",
      "           0       0.59      0.63      0.61      1225\n",
      "           1       0.80      0.74      0.77      1241\n",
      "\n",
      "    accuracy                           0.69      3750\n",
      "   macro avg       0.69      0.69      0.69      3750\n",
      "weighted avg       0.70      0.69      0.69      3750\n",
      "\n"
     ]
    }
   ],
   "source": [
    "x_train, x_test, y_train, y_test = pipeline(['reviewText', 'verified'], 0.25, stem, tfidf, df_balanced_small)\n",
    "grid = GridSearchCV(SVC(), param_grid, refit=True, verbose=verbose, n_jobs=n_jobs, cv=cv)\n",
    "grid.fit(x_train, y_train)\n",
    "y_pred = grid.predict(x_test)\n",
    "print(classification_report(y_test, y_pred))\n",
    "accuracy = grid.score(x_test, y_test)\n",
    "compare_list.loc[len(compare_list)] = [grid.best_params_, {'col': ['reviewText', 'verified'], 'test_size': 0.25, 'proc': 'stem', 'vectorizer': 'tfidf'}, accuracy]"
   ]
  },
  {
   "cell_type": "code",
   "execution_count": 41,
   "id": "79acb41e",
   "metadata": {},
   "outputs": [
    {
     "name": "stdout",
     "output_type": "stream",
     "text": [
      "              precision    recall  f1-score   support\n",
      "\n",
      "          -1       0.68      0.67      0.67      1284\n",
      "           0       0.59      0.54      0.56      1225\n",
      "           1       0.72      0.79      0.75      1241\n",
      "\n",
      "    accuracy                           0.67      3750\n",
      "   macro avg       0.66      0.67      0.66      3750\n",
      "weighted avg       0.66      0.67      0.66      3750\n",
      "\n"
     ]
    }
   ],
   "source": [
    "x_train, x_test, y_train, y_test = pipeline(['reviewText', 'verified'], 0.25, lem, bow, df_balanced_small)\n",
    "grid = GridSearchCV(SVC(), param_grid, refit=True, verbose=verbose, n_jobs=n_jobs, cv=cv)\n",
    "grid.fit(x_train, y_train)\n",
    "y_pred = grid.predict(x_test)\n",
    "print(classification_report(y_test, y_pred))\n",
    "accuracy = grid.score(x_test, y_test)\n",
    "compare_list.loc[len(compare_list)] = [grid.best_params_, {'col': ['reviewText', 'verified'], 'test_size': 0.25, 'proc': 'lem', 'vectorizer': 'bow'}, accuracy]"
   ]
  },
  {
   "cell_type": "code",
   "execution_count": 42,
   "id": "25f06dd8",
   "metadata": {},
   "outputs": [
    {
     "name": "stdout",
     "output_type": "stream",
     "text": [
      "              precision    recall  f1-score   support\n",
      "\n",
      "          -1       0.69      0.71      0.70      1284\n",
      "           0       0.59      0.62      0.60      1225\n",
      "           1       0.79      0.75      0.77      1241\n",
      "\n",
      "    accuracy                           0.69      3750\n",
      "   macro avg       0.69      0.69      0.69      3750\n",
      "weighted avg       0.69      0.69      0.69      3750\n",
      "\n"
     ]
    }
   ],
   "source": [
    "x_train, x_test, y_train, y_test = pipeline(['reviewText', 'verified'], 0.25, lem, tfidf, df_balanced_small)\n",
    "grid = GridSearchCV(SVC(), param_grid, refit=True, verbose=verbose, n_jobs=n_jobs, cv=cv)\n",
    "grid.fit(x_train, y_train)\n",
    "y_pred = grid.predict(x_test)\n",
    "print(classification_report(y_test, y_pred))\n",
    "accuracy = grid.score(x_test, y_test)\n",
    "compare_list.loc[len(compare_list)] = [grid.best_params_, {'col': ['reviewText', 'verified'], 'test_size': 0.25, 'proc': 'lem', 'vectorizer': 'tfidf'}, accuracy]"
   ]
  },
  {
   "cell_type": "code",
   "execution_count": 43,
   "id": "04f774e8",
   "metadata": {},
   "outputs": [
    {
     "name": "stdout",
     "output_type": "stream",
     "text": [
      "              precision    recall  f1-score   support\n",
      "\n",
      "          -1       0.77      0.78      0.78      1284\n",
      "           0       0.71      0.69      0.70      1225\n",
      "           1       0.85      0.88      0.86      1241\n",
      "\n",
      "    accuracy                           0.78      3750\n",
      "   macro avg       0.78      0.78      0.78      3750\n",
      "weighted avg       0.78      0.78      0.78      3750\n",
      "\n"
     ]
    }
   ],
   "source": [
    "x_train, x_test, y_train, y_test = pipeline(['reviewTextWithSummary'], 0.25, None, bow, df_balanced_small)\n",
    "grid = GridSearchCV(SVC(), param_grid, refit=True, verbose=verbose, n_jobs=n_jobs, cv=cv)\n",
    "grid.fit(x_train, y_train)\n",
    "y_pred = grid.predict(x_test)\n",
    "print(classification_report(y_test, y_pred))\n",
    "accuracy = grid.score(x_test, y_test)\n",
    "compare_list.loc[len(compare_list)] = [grid.best_params_, {'col': ['reviewTextWithSummary'], 'test_size': 0.25, 'proc': None, 'vectorizer': 'bow'}, accuracy]"
   ]
  },
  {
   "cell_type": "code",
   "execution_count": 44,
   "id": "3a65cb6f",
   "metadata": {},
   "outputs": [
    {
     "name": "stdout",
     "output_type": "stream",
     "text": [
      "              precision    recall  f1-score   support\n",
      "\n",
      "          -1       0.79      0.79      0.79      1284\n",
      "           0       0.70      0.74      0.72      1225\n",
      "           1       0.88      0.84      0.86      1241\n",
      "\n",
      "    accuracy                           0.79      3750\n",
      "   macro avg       0.79      0.79      0.79      3750\n",
      "weighted avg       0.79      0.79      0.79      3750\n",
      "\n"
     ]
    }
   ],
   "source": [
    "x_train, x_test, y_train, y_test = pipeline(['reviewTextWithSummary'], 0.25, None, tfidf, df_balanced_small)\n",
    "grid = GridSearchCV(SVC(), param_grid, refit=True, verbose=verbose, n_jobs=n_jobs, cv=cv)\n",
    "grid.fit(x_train, y_train)\n",
    "y_pred = grid.predict(x_test)\n",
    "print(classification_report(y_test, y_pred))\n",
    "accuracy = grid.score(x_test, y_test)\n",
    "compare_list.loc[len(compare_list)] = [grid.best_params_, {'col': ['reviewTextWithSummary'], 'test_size': 0.25, 'proc': None, 'vectorizer': 'tfidf'}, accuracy]"
   ]
  },
  {
   "cell_type": "code",
   "execution_count": 45,
   "id": "1f7d78c8",
   "metadata": {},
   "outputs": [
    {
     "name": "stdout",
     "output_type": "stream",
     "text": [
      "              precision    recall  f1-score   support\n",
      "\n",
      "          -1       0.74      0.74      0.74      1284\n",
      "           0       0.68      0.66      0.67      1225\n",
      "           1       0.83      0.85      0.84      1241\n",
      "\n",
      "    accuracy                           0.75      3750\n",
      "   macro avg       0.75      0.75      0.75      3750\n",
      "weighted avg       0.75      0.75      0.75      3750\n",
      "\n"
     ]
    }
   ],
   "source": [
    "x_train, x_test, y_train, y_test = pipeline(['reviewTextWithSummary'], 0.25, baseline, bow, df_balanced_small)\n",
    "grid = GridSearchCV(SVC(), param_grid, refit=True, verbose=verbose, n_jobs=n_jobs, cv=cv)\n",
    "grid.fit(x_train, y_train)\n",
    "y_pred = grid.predict(x_test)\n",
    "print(classification_report(y_test, y_pred))\n",
    "accuracy = grid.score(x_test, y_test)\n",
    "compare_list.loc[len(compare_list)] = [grid.best_params_, {'col': ['reviewTextWithSummary'], 'test_size': 0.25, 'proc': 'baseline', 'vectorizer': 'bow'}, accuracy]"
   ]
  },
  {
   "cell_type": "code",
   "execution_count": 46,
   "id": "241b726a",
   "metadata": {},
   "outputs": [
    {
     "name": "stdout",
     "output_type": "stream",
     "text": [
      "              precision    recall  f1-score   support\n",
      "\n",
      "          -1       0.76      0.77      0.77      1284\n",
      "           0       0.69      0.72      0.71      1225\n",
      "           1       0.88      0.82      0.85      1241\n",
      "\n",
      "    accuracy                           0.77      3750\n",
      "   macro avg       0.78      0.77      0.77      3750\n",
      "weighted avg       0.78      0.77      0.77      3750\n",
      "\n"
     ]
    }
   ],
   "source": [
    "x_train, x_test, y_train, y_test = pipeline(['reviewTextWithSummary'], 0.25, baseline, tfidf, df_balanced_small)\n",
    "grid = GridSearchCV(SVC(), param_grid, refit=True, verbose=verbose, n_jobs=n_jobs, cv=cv)\n",
    "grid.fit(x_train, y_train)\n",
    "y_pred = grid.predict(x_test)\n",
    "print(classification_report(y_test, y_pred))\n",
    "accuracy = grid.score(x_test, y_test)\n",
    "compare_list.loc[len(compare_list)] = [grid.best_params_, {'col': ['reviewTextWithSummary'], 'test_size': 0.25, 'proc': 'baseline', 'vectorizer': 'tfidf'}, accuracy]"
   ]
  },
  {
   "cell_type": "code",
   "execution_count": 47,
   "id": "6aa6a3d5",
   "metadata": {},
   "outputs": [
    {
     "name": "stdout",
     "output_type": "stream",
     "text": [
      "              precision    recall  f1-score   support\n",
      "\n",
      "          -1       0.73      0.72      0.73      1284\n",
      "           0       0.67      0.65      0.66      1225\n",
      "           1       0.81      0.85      0.83      1241\n",
      "\n",
      "    accuracy                           0.74      3750\n",
      "   macro avg       0.74      0.74      0.74      3750\n",
      "weighted avg       0.74      0.74      0.74      3750\n",
      "\n"
     ]
    }
   ],
   "source": [
    "x_train, x_test, y_train, y_test = pipeline(['reviewTextWithSummary'], 0.25, stem, bow, df_balanced_small)\n",
    "grid = GridSearchCV(SVC(), param_grid, refit=True, verbose=verbose, n_jobs=n_jobs, cv=cv)\n",
    "grid.fit(x_train, y_train)\n",
    "y_pred = grid.predict(x_test)\n",
    "print(classification_report(y_test, y_pred))\n",
    "accuracy = grid.score(x_test, y_test)\n",
    "compare_list.loc[len(compare_list)] = [grid.best_params_, {'col': ['reviewTextWithSummary'], 'test_size': 0.25, 'proc': 'stem', 'vectorizer': 'bow'}, accuracy]"
   ]
  },
  {
   "cell_type": "code",
   "execution_count": 48,
   "id": "0d219445",
   "metadata": {},
   "outputs": [
    {
     "name": "stdout",
     "output_type": "stream",
     "text": [
      "              precision    recall  f1-score   support\n",
      "\n",
      "          -1       0.76      0.75      0.76      1284\n",
      "           0       0.68      0.72      0.70      1225\n",
      "           1       0.86      0.82      0.84      1241\n",
      "\n",
      "    accuracy                           0.76      3750\n",
      "   macro avg       0.77      0.76      0.77      3750\n",
      "weighted avg       0.77      0.76      0.77      3750\n",
      "\n"
     ]
    }
   ],
   "source": [
    "x_train, x_test, y_train, y_test = pipeline(['reviewTextWithSummary'], 0.25, stem, tfidf, df_balanced_small)\n",
    "grid = GridSearchCV(SVC(), param_grid, refit=True, verbose=verbose, n_jobs=n_jobs, cv=cv)\n",
    "grid.fit(x_train, y_train)\n",
    "y_pred = grid.predict(x_test)\n",
    "print(classification_report(y_test, y_pred))\n",
    "accuracy = grid.score(x_test, y_test)\n",
    "compare_list.loc[len(compare_list)] = [grid.best_params_, {'col': ['reviewTextWithSummary'], 'test_size': 0.25, 'proc': 'stem', 'vectorizer': 'tfidf'}, accuracy]"
   ]
  },
  {
   "cell_type": "code",
   "execution_count": 49,
   "id": "3edb1a97",
   "metadata": {},
   "outputs": [
    {
     "name": "stdout",
     "output_type": "stream",
     "text": [
      "              precision    recall  f1-score   support\n",
      "\n",
      "          -1       0.75      0.73      0.74      1284\n",
      "           0       0.67      0.68      0.68      1225\n",
      "           1       0.83      0.83      0.83      1241\n",
      "\n",
      "    accuracy                           0.75      3750\n",
      "   macro avg       0.75      0.75      0.75      3750\n",
      "weighted avg       0.75      0.75      0.75      3750\n",
      "\n"
     ]
    }
   ],
   "source": [
    "x_train, x_test, y_train, y_test = pipeline(['reviewTextWithSummary'], 0.25, lem, bow, df_balanced_small)\n",
    "grid = GridSearchCV(SVC(), param_grid, refit=True, verbose=verbose, n_jobs=n_jobs, cv=cv)\n",
    "grid.fit(x_train, y_train)\n",
    "y_pred = grid.predict(x_test)\n",
    "print(classification_report(y_test, y_pred))\n",
    "accuracy = grid.score(x_test, y_test)\n",
    "compare_list.loc[len(compare_list)] = [grid.best_params_, {'col': ['reviewTextWithSummary'], 'test_size': 0.25, 'proc': 'lem', 'vectorizer': 'bow'}, accuracy]"
   ]
  },
  {
   "cell_type": "code",
   "execution_count": 50,
   "id": "36a7aee7",
   "metadata": {},
   "outputs": [
    {
     "name": "stdout",
     "output_type": "stream",
     "text": [
      "              precision    recall  f1-score   support\n",
      "\n",
      "          -1       0.76      0.77      0.76      1284\n",
      "           0       0.69      0.71      0.70      1225\n",
      "           1       0.87      0.82      0.84      1241\n",
      "\n",
      "    accuracy                           0.77      3750\n",
      "   macro avg       0.77      0.77      0.77      3750\n",
      "weighted avg       0.77      0.77      0.77      3750\n",
      "\n"
     ]
    }
   ],
   "source": [
    "x_train, x_test, y_train, y_test = pipeline(['reviewTextWithSummary'], 0.25, lem, tfidf, df_balanced_small)\n",
    "grid = GridSearchCV(SVC(), param_grid, refit=True, verbose=verbose, n_jobs=n_jobs, cv=cv)\n",
    "grid.fit(x_train, y_train)\n",
    "y_pred = grid.predict(x_test)\n",
    "print(classification_report(y_test, y_pred))\n",
    "accuracy = grid.score(x_test, y_test)\n",
    "compare_list.loc[len(compare_list)] = [grid.best_params_, {'col': ['reviewTextWithSummary'], 'test_size': 0.25, 'proc': 'lem', 'vectorizer': 'tfidf'}, accuracy]"
   ]
  },
  {
   "cell_type": "code",
   "execution_count": 51,
   "id": "c8093241",
   "metadata": {},
   "outputs": [
    {
     "name": "stdout",
     "output_type": "stream",
     "text": [
      "              precision    recall  f1-score   support\n",
      "\n",
      "          -1       0.78      0.79      0.79      1284\n",
      "           0       0.72      0.70      0.71      1225\n",
      "           1       0.86      0.87      0.86      1241\n",
      "\n",
      "    accuracy                           0.79      3750\n",
      "   macro avg       0.79      0.79      0.79      3750\n",
      "weighted avg       0.79      0.79      0.79      3750\n",
      "\n"
     ]
    }
   ],
   "source": [
    "x_train, x_test, y_train, y_test = pipeline(['reviewTextWithSummary', 'verified'], 0.25, None, bow, df_balanced_small)\n",
    "grid = GridSearchCV(SVC(), param_grid, refit=True, verbose=verbose, n_jobs=n_jobs, cv=cv)\n",
    "grid.fit(x_train, y_train)\n",
    "y_pred = grid.predict(x_test)\n",
    "print(classification_report(y_test, y_pred))\n",
    "accuracy = grid.score(x_test, y_test)\n",
    "compare_list.loc[len(compare_list)] = [grid.best_params_, {'col': ['reviewTextWithSummary', 'verified'], 'test_size': 0.25, 'proc': None, 'vectorizer': 'bow'}, accuracy]"
   ]
  },
  {
   "cell_type": "code",
   "execution_count": 52,
   "id": "90dcdf0f",
   "metadata": {},
   "outputs": [
    {
     "name": "stdout",
     "output_type": "stream",
     "text": [
      "              precision    recall  f1-score   support\n",
      "\n",
      "          -1       0.78      0.79      0.79      1284\n",
      "           0       0.71      0.72      0.71      1225\n",
      "           1       0.88      0.85      0.86      1241\n",
      "\n",
      "    accuracy                           0.79      3750\n",
      "   macro avg       0.79      0.79      0.79      3750\n",
      "weighted avg       0.79      0.79      0.79      3750\n",
      "\n"
     ]
    }
   ],
   "source": [
    "x_train, x_test, y_train, y_test = pipeline(['reviewTextWithSummary', 'verified'], 0.25, None, tfidf, df_balanced_small)\n",
    "grid = GridSearchCV(SVC(), param_grid, refit=True, verbose=verbose, n_jobs=n_jobs, cv=cv)\n",
    "grid.fit(x_train, y_train)\n",
    "y_pred = grid.predict(x_test)\n",
    "print(classification_report(y_test, y_pred))\n",
    "accuracy = grid.score(x_test, y_test)\n",
    "compare_list.loc[len(compare_list)] = [grid.best_params_, {'col': ['reviewTextWithSummary', 'verified'], 'test_size': 0.25, 'proc': None, 'vectorizer': 'tfidf'}, accuracy]"
   ]
  },
  {
   "cell_type": "code",
   "execution_count": 53,
   "id": "e4c71249",
   "metadata": {},
   "outputs": [
    {
     "name": "stdout",
     "output_type": "stream",
     "text": [
      "              precision    recall  f1-score   support\n",
      "\n",
      "          -1       0.74      0.75      0.74      1284\n",
      "           0       0.69      0.66      0.67      1225\n",
      "           1       0.83      0.85      0.84      1241\n",
      "\n",
      "    accuracy                           0.75      3750\n",
      "   macro avg       0.75      0.75      0.75      3750\n",
      "weighted avg       0.75      0.75      0.75      3750\n",
      "\n"
     ]
    }
   ],
   "source": [
    "x_train, x_test, y_train, y_test = pipeline(['reviewTextWithSummary', 'verified'], 0.25, baseline, bow, df_balanced_small)\n",
    "grid = GridSearchCV(SVC(), param_grid, refit=True, verbose=verbose, n_jobs=n_jobs, cv=cv)\n",
    "grid.fit(x_train, y_train)\n",
    "y_pred = grid.predict(x_test)\n",
    "print(classification_report(y_test, y_pred))\n",
    "accuracy = grid.score(x_test, y_test)\n",
    "compare_list.loc[len(compare_list)] = [grid.best_params_, {'col': ['reviewTextWithSummary', 'verified'], 'test_size': 0.25, 'proc': 'baseline', 'vectorizer': 'bow'}, accuracy]"
   ]
  },
  {
   "cell_type": "code",
   "execution_count": 54,
   "id": "e7d29423",
   "metadata": {},
   "outputs": [
    {
     "name": "stdout",
     "output_type": "stream",
     "text": [
      "              precision    recall  f1-score   support\n",
      "\n",
      "          -1       0.76      0.77      0.76      1284\n",
      "           0       0.69      0.71      0.70      1225\n",
      "           1       0.86      0.84      0.85      1241\n",
      "\n",
      "    accuracy                           0.77      3750\n",
      "   macro avg       0.77      0.77      0.77      3750\n",
      "weighted avg       0.77      0.77      0.77      3750\n",
      "\n"
     ]
    }
   ],
   "source": [
    "x_train, x_test, y_train, y_test = pipeline(['reviewTextWithSummary', 'verified'], 0.25, baseline, tfidf, df_balanced_small)\n",
    "grid = GridSearchCV(SVC(), param_grid, refit=True, verbose=verbose, n_jobs=n_jobs, cv=cv)\n",
    "grid.fit(x_train, y_train)\n",
    "y_pred = grid.predict(x_test)\n",
    "print(classification_report(y_test, y_pred))\n",
    "accuracy = grid.score(x_test, y_test)\n",
    "compare_list.loc[len(compare_list)] = [grid.best_params_, {'col': ['reviewTextWithSummary', 'verified'], 'test_size': 0.25, 'proc': 'baseline', 'vectorizer': 'tfidf'}, accuracy]"
   ]
  },
  {
   "cell_type": "code",
   "execution_count": 55,
   "id": "7c119195",
   "metadata": {},
   "outputs": [
    {
     "name": "stdout",
     "output_type": "stream",
     "text": [
      "              precision    recall  f1-score   support\n",
      "\n",
      "          -1       0.73      0.73      0.73      1284\n",
      "           0       0.67      0.65      0.66      1225\n",
      "           1       0.81      0.85      0.83      1241\n",
      "\n",
      "    accuracy                           0.74      3750\n",
      "   macro avg       0.74      0.74      0.74      3750\n",
      "weighted avg       0.74      0.74      0.74      3750\n",
      "\n"
     ]
    }
   ],
   "source": [
    "x_train, x_test, y_train, y_test = pipeline(['reviewTextWithSummary', 'verified'], 0.25, stem, bow, df_balanced_small)\n",
    "grid = GridSearchCV(SVC(), param_grid, refit=True, verbose=verbose, n_jobs=n_jobs, cv=cv)\n",
    "grid.fit(x_train, y_train)\n",
    "y_pred = grid.predict(x_test)\n",
    "print(classification_report(y_test, y_pred))\n",
    "accuracy = grid.score(x_test, y_test)\n",
    "compare_list.loc[len(compare_list)] = [grid.best_params_, {'col': ['reviewTextWithSummary', 'verified'], 'test_size': 0.25, 'proc': 'stem', 'vectorizer': 'bow'}, accuracy]"
   ]
  },
  {
   "cell_type": "code",
   "execution_count": 56,
   "id": "114cfa66",
   "metadata": {},
   "outputs": [
    {
     "name": "stdout",
     "output_type": "stream",
     "text": [
      "              precision    recall  f1-score   support\n",
      "\n",
      "          -1       0.75      0.75      0.75      1284\n",
      "           0       0.68      0.69      0.69      1225\n",
      "           1       0.85      0.83      0.84      1241\n",
      "\n",
      "    accuracy                           0.76      3750\n",
      "   macro avg       0.76      0.76      0.76      3750\n",
      "weighted avg       0.76      0.76      0.76      3750\n",
      "\n"
     ]
    }
   ],
   "source": [
    "x_train, x_test, y_train, y_test = pipeline(['reviewTextWithSummary', 'verified'], 0.25, stem, tfidf, df_balanced_small)\n",
    "grid = GridSearchCV(SVC(), param_grid, refit=True, verbose=verbose, n_jobs=n_jobs, cv=cv)\n",
    "grid.fit(x_train, y_train)\n",
    "y_pred = grid.predict(x_test)\n",
    "print(classification_report(y_test, y_pred))\n",
    "accuracy = grid.score(x_test, y_test)\n",
    "compare_list.loc[len(compare_list)] = [grid.best_params_, {'col': ['reviewTextWithSummary', 'verified'], 'test_size': 0.25, 'proc': 'stem', 'vectorizer': 'tfidf'}, accuracy]"
   ]
  },
  {
   "cell_type": "code",
   "execution_count": 57,
   "id": "ab0a5892",
   "metadata": {},
   "outputs": [
    {
     "name": "stdout",
     "output_type": "stream",
     "text": [
      "              precision    recall  f1-score   support\n",
      "\n",
      "          -1       0.74      0.73      0.73      1284\n",
      "           0       0.67      0.68      0.67      1225\n",
      "           1       0.83      0.83      0.83      1241\n",
      "\n",
      "    accuracy                           0.75      3750\n",
      "   macro avg       0.75      0.75      0.75      3750\n",
      "weighted avg       0.75      0.75      0.75      3750\n",
      "\n"
     ]
    }
   ],
   "source": [
    "x_train, x_test, y_train, y_test = pipeline(['reviewTextWithSummary', 'verified'], 0.25, lem, bow, df_balanced_small)\n",
    "grid = GridSearchCV(SVC(), param_grid, refit=True, verbose=verbose, n_jobs=n_jobs, cv=cv)\n",
    "grid.fit(x_train, y_train)\n",
    "y_pred = grid.predict(x_test)\n",
    "print(classification_report(y_test, y_pred))\n",
    "accuracy = grid.score(x_test, y_test)\n",
    "compare_list.loc[len(compare_list)] = [grid.best_params_, {'col': ['reviewTextWithSummary', 'verified'], 'test_size': 0.25, 'proc': 'lem', 'vectorizer': 'bow'}, accuracy]"
   ]
  },
  {
   "cell_type": "code",
   "execution_count": 58,
   "id": "4c44178f",
   "metadata": {
    "scrolled": true
   },
   "outputs": [
    {
     "name": "stdout",
     "output_type": "stream",
     "text": [
      "              precision    recall  f1-score   support\n",
      "\n",
      "          -1       0.76      0.76      0.76      1284\n",
      "           0       0.69      0.70      0.69      1225\n",
      "           1       0.86      0.83      0.84      1241\n",
      "\n",
      "    accuracy                           0.77      3750\n",
      "   macro avg       0.77      0.76      0.77      3750\n",
      "weighted avg       0.77      0.77      0.77      3750\n",
      "\n"
     ]
    }
   ],
   "source": [
    "x_train, x_test, y_train, y_test = pipeline(['reviewTextWithSummary', 'verified'], 0.25, lem, tfidf, df_balanced_small)\n",
    "grid = GridSearchCV(SVC(), param_grid, refit=True, verbose=verbose, n_jobs=n_jobs, cv=cv)\n",
    "grid.fit(x_train, y_train)\n",
    "y_pred = grid.predict(x_test)\n",
    "print(classification_report(y_test, y_pred))\n",
    "accuracy = grid.score(x_test, y_test)\n",
    "compare_list.loc[len(compare_list)] = [grid.best_params_, {'col': ['reviewTextWithSummary', 'verified'], 'test_size': 0.25, 'proc': 'lem', 'vectorizer': 'tfidf'}, accuracy]\n",
    "#######  END OF GENERATED CODE  #######"
   ]
  },
  {
   "cell_type": "code",
   "execution_count": 59,
   "id": "970d6740",
   "metadata": {},
   "outputs": [
    {
     "data": {
      "text/html": [
       "<div>\n",
       "<style scoped>\n",
       "    .dataframe tbody tr th:only-of-type {\n",
       "        vertical-align: middle;\n",
       "    }\n",
       "\n",
       "    .dataframe tbody tr th {\n",
       "        vertical-align: top;\n",
       "    }\n",
       "\n",
       "    .dataframe thead th {\n",
       "        text-align: right;\n",
       "    }\n",
       "</style>\n",
       "<table border=\"1\" class=\"dataframe\">\n",
       "  <thead>\n",
       "    <tr style=\"text-align: right;\">\n",
       "      <th></th>\n",
       "      <th>Params</th>\n",
       "      <th>Config</th>\n",
       "      <th>Accuracy Score</th>\n",
       "    </tr>\n",
       "  </thead>\n",
       "  <tbody>\n",
       "    <tr>\n",
       "      <th>0</th>\n",
       "      <td>{'C': 1, 'gamma': 1, 'kernel': 'rbf'}</td>\n",
       "      <td>{'col': ['reviewTextWithSummary'], 'test_size'...</td>\n",
       "      <td>0.789600</td>\n",
       "    </tr>\n",
       "    <tr>\n",
       "      <th>1</th>\n",
       "      <td>{'C': 10, 'gamma': 0.001, 'kernel': 'rbf'}</td>\n",
       "      <td>{'col': ['reviewTextWithSummary', 'verified'],...</td>\n",
       "      <td>0.787467</td>\n",
       "    </tr>\n",
       "    <tr>\n",
       "      <th>2</th>\n",
       "      <td>{'C': 10, 'gamma': 1, 'kernel': 'rbf'}</td>\n",
       "      <td>{'col': ['reviewTextWithSummary', 'verified'],...</td>\n",
       "      <td>0.787200</td>\n",
       "    </tr>\n",
       "    <tr>\n",
       "      <th>3</th>\n",
       "      <td>{'C': 100, 'gamma': 0.0001, 'kernel': 'rbf'}</td>\n",
       "      <td>{'col': ['reviewTextWithSummary'], 'test_size'...</td>\n",
       "      <td>0.781600</td>\n",
       "    </tr>\n",
       "    <tr>\n",
       "      <th>4</th>\n",
       "      <td>{'C': 1, 'gamma': 1, 'kernel': 'rbf'}</td>\n",
       "      <td>{'col': ['reviewTextWithSummary'], 'test_size'...</td>\n",
       "      <td>0.772800</td>\n",
       "    </tr>\n",
       "    <tr>\n",
       "      <th>5</th>\n",
       "      <td>{'C': 10, 'gamma': 1, 'kernel': 'rbf'}</td>\n",
       "      <td>{'col': ['reviewTextWithSummary', 'verified'],...</td>\n",
       "      <td>0.770133</td>\n",
       "    </tr>\n",
       "    <tr>\n",
       "      <th>6</th>\n",
       "      <td>{'C': 1, 'gamma': 1, 'kernel': 'rbf'}</td>\n",
       "      <td>{'col': ['reviewTextWithSummary'], 'test_size'...</td>\n",
       "      <td>0.767733</td>\n",
       "    </tr>\n",
       "    <tr>\n",
       "      <th>7</th>\n",
       "      <td>{'C': 10, 'gamma': 1, 'kernel': 'rbf'}</td>\n",
       "      <td>{'col': ['reviewTextWithSummary', 'verified'],...</td>\n",
       "      <td>0.765067</td>\n",
       "    </tr>\n",
       "    <tr>\n",
       "      <th>8</th>\n",
       "      <td>{'C': 1, 'gamma': 1, 'kernel': 'rbf'}</td>\n",
       "      <td>{'col': ['reviewTextWithSummary'], 'test_size'...</td>\n",
       "      <td>0.764267</td>\n",
       "    </tr>\n",
       "    <tr>\n",
       "      <th>9</th>\n",
       "      <td>{'C': 10, 'gamma': 1, 'kernel': 'rbf'}</td>\n",
       "      <td>{'col': ['reviewTextWithSummary', 'verified'],...</td>\n",
       "      <td>0.760800</td>\n",
       "    </tr>\n",
       "    <tr>\n",
       "      <th>10</th>\n",
       "      <td>{'C': 0.1, 'gamma': 1, 'kernel': 'linear'}</td>\n",
       "      <td>{'col': ['reviewTextWithSummary', 'verified'],...</td>\n",
       "      <td>0.753333</td>\n",
       "    </tr>\n",
       "    <tr>\n",
       "      <th>11</th>\n",
       "      <td>{'C': 0.1, 'gamma': 1, 'kernel': 'linear'}</td>\n",
       "      <td>{'col': ['reviewTextWithSummary'], 'test_size'...</td>\n",
       "      <td>0.752267</td>\n",
       "    </tr>\n",
       "    <tr>\n",
       "      <th>12</th>\n",
       "      <td>{'C': 10, 'gamma': 0.01, 'kernel': 'rbf'}</td>\n",
       "      <td>{'col': ['reviewTextWithSummary'], 'test_size'...</td>\n",
       "      <td>0.747200</td>\n",
       "    </tr>\n",
       "    <tr>\n",
       "      <th>13</th>\n",
       "      <td>{'C': 10, 'gamma': 0.01, 'kernel': 'rbf'}</td>\n",
       "      <td>{'col': ['reviewTextWithSummary', 'verified'],...</td>\n",
       "      <td>0.746133</td>\n",
       "    </tr>\n",
       "    <tr>\n",
       "      <th>14</th>\n",
       "      <td>{'C': 0.1, 'gamma': 1, 'kernel': 'linear'}</td>\n",
       "      <td>{'col': ['reviewTextWithSummary', 'verified'],...</td>\n",
       "      <td>0.741600</td>\n",
       "    </tr>\n",
       "    <tr>\n",
       "      <th>15</th>\n",
       "      <td>{'C': 0.1, 'gamma': 1, 'kernel': 'linear'}</td>\n",
       "      <td>{'col': ['reviewTextWithSummary'], 'test_size'...</td>\n",
       "      <td>0.741333</td>\n",
       "    </tr>\n",
       "    <tr>\n",
       "      <th>16</th>\n",
       "      <td>{'C': 1, 'gamma': 1, 'kernel': 'rbf'}</td>\n",
       "      <td>{'col': ['reviewText'], 'test_size': 0.25, 'pr...</td>\n",
       "      <td>0.724800</td>\n",
       "    </tr>\n",
       "    <tr>\n",
       "      <th>17</th>\n",
       "      <td>{'C': 1, 'gamma': 1, 'kernel': 'rbf'}</td>\n",
       "      <td>{'col': ['reviewText', 'verified'], 'test_size...</td>\n",
       "      <td>0.723733</td>\n",
       "    </tr>\n",
       "    <tr>\n",
       "      <th>18</th>\n",
       "      <td>{'C': 1, 'gamma': 1, 'kernel': 'rbf'}</td>\n",
       "      <td>{'col': ['reviewText'], 'test_size': 0.25, 'pr...</td>\n",
       "      <td>0.700533</td>\n",
       "    </tr>\n",
       "    <tr>\n",
       "      <th>19</th>\n",
       "      <td>{'C': 0.1, 'gamma': 1, 'kernel': 'linear'}</td>\n",
       "      <td>{'col': ['reviewText', 'verified'], 'test_size...</td>\n",
       "      <td>0.698667</td>\n",
       "    </tr>\n",
       "    <tr>\n",
       "      <th>20</th>\n",
       "      <td>{'C': 0.1, 'gamma': 1, 'kernel': 'linear'}</td>\n",
       "      <td>{'col': ['reviewText'], 'test_size': 0.25, 'pr...</td>\n",
       "      <td>0.696800</td>\n",
       "    </tr>\n",
       "    <tr>\n",
       "      <th>21</th>\n",
       "      <td>{'C': 1, 'gamma': 1, 'kernel': 'rbf'}</td>\n",
       "      <td>{'col': ['reviewText', 'verified'], 'test_size...</td>\n",
       "      <td>0.694933</td>\n",
       "    </tr>\n",
       "    <tr>\n",
       "      <th>22</th>\n",
       "      <td>{'C': 1, 'gamma': 1, 'kernel': 'rbf'}</td>\n",
       "      <td>{'col': ['reviewText'], 'test_size': 0.25, 'pr...</td>\n",
       "      <td>0.693067</td>\n",
       "    </tr>\n",
       "    <tr>\n",
       "      <th>23</th>\n",
       "      <td>{'C': 1, 'gamma': 1, 'kernel': 'rbf'}</td>\n",
       "      <td>{'col': ['reviewText'], 'test_size': 0.25, 'pr...</td>\n",
       "      <td>0.691467</td>\n",
       "    </tr>\n",
       "    <tr>\n",
       "      <th>24</th>\n",
       "      <td>{'C': 1, 'gamma': 1, 'kernel': 'rbf'}</td>\n",
       "      <td>{'col': ['reviewText', 'verified'], 'test_size...</td>\n",
       "      <td>0.690400</td>\n",
       "    </tr>\n",
       "    <tr>\n",
       "      <th>25</th>\n",
       "      <td>{'C': 1, 'gamma': 1, 'kernel': 'rbf'}</td>\n",
       "      <td>{'col': ['reviewText', 'verified'], 'test_size...</td>\n",
       "      <td>0.690400</td>\n",
       "    </tr>\n",
       "    <tr>\n",
       "      <th>26</th>\n",
       "      <td>{'C': 10, 'gamma': 0.01, 'kernel': 'rbf'}</td>\n",
       "      <td>{'col': ['reviewText', 'verified'], 'test_size...</td>\n",
       "      <td>0.677600</td>\n",
       "    </tr>\n",
       "    <tr>\n",
       "      <th>27</th>\n",
       "      <td>{'C': 10, 'gamma': 0.01, 'kernel': 'rbf'}</td>\n",
       "      <td>{'col': ['reviewText', 'verified'], 'test_size...</td>\n",
       "      <td>0.674667</td>\n",
       "    </tr>\n",
       "    <tr>\n",
       "      <th>28</th>\n",
       "      <td>{'C': 10, 'gamma': 0.01, 'kernel': 'rbf'}</td>\n",
       "      <td>{'col': ['reviewText'], 'test_size': 0.25, 'pr...</td>\n",
       "      <td>0.672267</td>\n",
       "    </tr>\n",
       "    <tr>\n",
       "      <th>29</th>\n",
       "      <td>{'C': 100, 'gamma': 0.001, 'kernel': 'rbf'}</td>\n",
       "      <td>{'col': ['reviewText'], 'test_size': 0.25, 'pr...</td>\n",
       "      <td>0.671733</td>\n",
       "    </tr>\n",
       "    <tr>\n",
       "      <th>30</th>\n",
       "      <td>{'C': 10, 'gamma': 0.01, 'kernel': 'rbf'}</td>\n",
       "      <td>{'col': ['reviewText', 'verified'], 'test_size...</td>\n",
       "      <td>0.666933</td>\n",
       "    </tr>\n",
       "    <tr>\n",
       "      <th>31</th>\n",
       "      <td>{'C': 1000, 'gamma': 0.0001, 'kernel': 'rbf'}</td>\n",
       "      <td>{'col': ['reviewText'], 'test_size': 0.25, 'pr...</td>\n",
       "      <td>0.663467</td>\n",
       "    </tr>\n",
       "  </tbody>\n",
       "</table>\n",
       "</div>"
      ],
      "text/plain": [
       "                                           Params  \\\n",
       "0           {'C': 1, 'gamma': 1, 'kernel': 'rbf'}   \n",
       "1      {'C': 10, 'gamma': 0.001, 'kernel': 'rbf'}   \n",
       "2          {'C': 10, 'gamma': 1, 'kernel': 'rbf'}   \n",
       "3    {'C': 100, 'gamma': 0.0001, 'kernel': 'rbf'}   \n",
       "4           {'C': 1, 'gamma': 1, 'kernel': 'rbf'}   \n",
       "5          {'C': 10, 'gamma': 1, 'kernel': 'rbf'}   \n",
       "6           {'C': 1, 'gamma': 1, 'kernel': 'rbf'}   \n",
       "7          {'C': 10, 'gamma': 1, 'kernel': 'rbf'}   \n",
       "8           {'C': 1, 'gamma': 1, 'kernel': 'rbf'}   \n",
       "9          {'C': 10, 'gamma': 1, 'kernel': 'rbf'}   \n",
       "10     {'C': 0.1, 'gamma': 1, 'kernel': 'linear'}   \n",
       "11     {'C': 0.1, 'gamma': 1, 'kernel': 'linear'}   \n",
       "12      {'C': 10, 'gamma': 0.01, 'kernel': 'rbf'}   \n",
       "13      {'C': 10, 'gamma': 0.01, 'kernel': 'rbf'}   \n",
       "14     {'C': 0.1, 'gamma': 1, 'kernel': 'linear'}   \n",
       "15     {'C': 0.1, 'gamma': 1, 'kernel': 'linear'}   \n",
       "16          {'C': 1, 'gamma': 1, 'kernel': 'rbf'}   \n",
       "17          {'C': 1, 'gamma': 1, 'kernel': 'rbf'}   \n",
       "18          {'C': 1, 'gamma': 1, 'kernel': 'rbf'}   \n",
       "19     {'C': 0.1, 'gamma': 1, 'kernel': 'linear'}   \n",
       "20     {'C': 0.1, 'gamma': 1, 'kernel': 'linear'}   \n",
       "21          {'C': 1, 'gamma': 1, 'kernel': 'rbf'}   \n",
       "22          {'C': 1, 'gamma': 1, 'kernel': 'rbf'}   \n",
       "23          {'C': 1, 'gamma': 1, 'kernel': 'rbf'}   \n",
       "24          {'C': 1, 'gamma': 1, 'kernel': 'rbf'}   \n",
       "25          {'C': 1, 'gamma': 1, 'kernel': 'rbf'}   \n",
       "26      {'C': 10, 'gamma': 0.01, 'kernel': 'rbf'}   \n",
       "27      {'C': 10, 'gamma': 0.01, 'kernel': 'rbf'}   \n",
       "28      {'C': 10, 'gamma': 0.01, 'kernel': 'rbf'}   \n",
       "29    {'C': 100, 'gamma': 0.001, 'kernel': 'rbf'}   \n",
       "30      {'C': 10, 'gamma': 0.01, 'kernel': 'rbf'}   \n",
       "31  {'C': 1000, 'gamma': 0.0001, 'kernel': 'rbf'}   \n",
       "\n",
       "                                               Config  Accuracy Score  \n",
       "0   {'col': ['reviewTextWithSummary'], 'test_size'...        0.789600  \n",
       "1   {'col': ['reviewTextWithSummary', 'verified'],...        0.787467  \n",
       "2   {'col': ['reviewTextWithSummary', 'verified'],...        0.787200  \n",
       "3   {'col': ['reviewTextWithSummary'], 'test_size'...        0.781600  \n",
       "4   {'col': ['reviewTextWithSummary'], 'test_size'...        0.772800  \n",
       "5   {'col': ['reviewTextWithSummary', 'verified'],...        0.770133  \n",
       "6   {'col': ['reviewTextWithSummary'], 'test_size'...        0.767733  \n",
       "7   {'col': ['reviewTextWithSummary', 'verified'],...        0.765067  \n",
       "8   {'col': ['reviewTextWithSummary'], 'test_size'...        0.764267  \n",
       "9   {'col': ['reviewTextWithSummary', 'verified'],...        0.760800  \n",
       "10  {'col': ['reviewTextWithSummary', 'verified'],...        0.753333  \n",
       "11  {'col': ['reviewTextWithSummary'], 'test_size'...        0.752267  \n",
       "12  {'col': ['reviewTextWithSummary'], 'test_size'...        0.747200  \n",
       "13  {'col': ['reviewTextWithSummary', 'verified'],...        0.746133  \n",
       "14  {'col': ['reviewTextWithSummary', 'verified'],...        0.741600  \n",
       "15  {'col': ['reviewTextWithSummary'], 'test_size'...        0.741333  \n",
       "16  {'col': ['reviewText'], 'test_size': 0.25, 'pr...        0.724800  \n",
       "17  {'col': ['reviewText', 'verified'], 'test_size...        0.723733  \n",
       "18  {'col': ['reviewText'], 'test_size': 0.25, 'pr...        0.700533  \n",
       "19  {'col': ['reviewText', 'verified'], 'test_size...        0.698667  \n",
       "20  {'col': ['reviewText'], 'test_size': 0.25, 'pr...        0.696800  \n",
       "21  {'col': ['reviewText', 'verified'], 'test_size...        0.694933  \n",
       "22  {'col': ['reviewText'], 'test_size': 0.25, 'pr...        0.693067  \n",
       "23  {'col': ['reviewText'], 'test_size': 0.25, 'pr...        0.691467  \n",
       "24  {'col': ['reviewText', 'verified'], 'test_size...        0.690400  \n",
       "25  {'col': ['reviewText', 'verified'], 'test_size...        0.690400  \n",
       "26  {'col': ['reviewText', 'verified'], 'test_size...        0.677600  \n",
       "27  {'col': ['reviewText', 'verified'], 'test_size...        0.674667  \n",
       "28  {'col': ['reviewText'], 'test_size': 0.25, 'pr...        0.672267  \n",
       "29  {'col': ['reviewText'], 'test_size': 0.25, 'pr...        0.671733  \n",
       "30  {'col': ['reviewText', 'verified'], 'test_size...        0.666933  \n",
       "31  {'col': ['reviewText'], 'test_size': 0.25, 'pr...        0.663467  "
      ]
     },
     "metadata": {},
     "output_type": "display_data"
    }
   ],
   "source": [
    "compare_list = compare_list.sort_values(\n",
    "    by=\"Accuracy Score\", ascending=False\n",
    ").reset_index(drop=True)\n",
    "display(compare_list)"
   ]
  },
  {
   "cell_type": "code",
   "execution_count": 60,
   "id": "f6d8d872",
   "metadata": {},
   "outputs": [
    {
     "name": "stdout",
     "output_type": "stream",
     "text": [
      "Best Configuration on small balnaced dataset\n",
      "Score ::  0.7896\n",
      "SVC   ::  {'C': 1, 'gamma': 1, 'kernel': 'rbf'}\n",
      "data  ::  {'col': ['reviewTextWithSummary'], 'test_size': 0.25, 'proc': None, 'vectorizer': 'tfidf'}\n"
     ]
    }
   ],
   "source": [
    "print(\"Best Configuration on small balnaced dataset\")\n",
    "print(\"Score :: \", compare_list.loc[0][\"Accuracy Score\"])\n",
    "print(\"SVC   :: \", compare_list.loc[0][\"Params\"])\n",
    "print(\"data  :: \", compare_list.loc[0][\"Config\"])"
   ]
  },
  {
   "cell_type": "code",
   "execution_count": 61,
   "id": "723bed09",
   "metadata": {},
   "outputs": [],
   "source": [
    "compare_list.to_csv(\"./results/svm_compare_list_small_balanced.csv\", index=False)"
   ]
  },
  {
   "cell_type": "markdown",
   "id": "4e618883",
   "metadata": {},
   "source": [
    "- Across all tests, reviewText with summary performed better than reviewText without summary.\n",
    "- The RBF kernel performed better than the linear kernel in almost all cases.\n",
    "- The top configuration was as follows:\n",
    "  - Data::\n",
    "    - Columns used: reviewTextWithSummary\n",
    "    - Text preprocessing step: None\n",
    "    - Text vectorizer: tfidf\n",
    "  - SVC:: \n",
    "    - C=1\n",
    "    - gamma=1\n",
    "    - kernel=rbf"
   ]
  },
  {
   "cell_type": "code",
   "execution_count": 62,
   "id": "c5bd23a8",
   "metadata": {},
   "outputs": [
    {
     "data": {
      "text/plain": [
       "sentiment\n",
       " 1    13238\n",
       " 0      905\n",
       "-1      857\n",
       "Name: count, dtype: int64"
      ]
     },
     "execution_count": 62,
     "metadata": {},
     "output_type": "execute_result"
    }
   ],
   "source": [
    "# 3 times the small_n to create an unbalanced dataset of the same size as the balanced dataset\n",
    "df_unbalanced_small = df.sample(n=3 * small_n, random_state=random_state, replace=True)\n",
    "df_unbalanced_small[\"sentiment\"].value_counts()"
   ]
  },
  {
   "cell_type": "markdown",
   "id": "73ad8f73",
   "metadata": {},
   "source": [
    "## Small Unbalanced Dataset"
   ]
  },
  {
   "cell_type": "code",
   "execution_count": 63,
   "id": "816675d4",
   "metadata": {},
   "outputs": [],
   "source": [
    "param_grid = {\n",
    "    \"C\": [0.1, 1, 10, 100, 1000],\n",
    "    \"gamma\": [1, 0.1, 0.01, 0.001, 0.0001],\n",
    "    \"kernel\": [\"rbf\", \"linear\"],\n",
    "}\n",
    "n_jobs = -1\n",
    "verbose = 0\n",
    "cv = 3"
   ]
  },
  {
   "cell_type": "code",
   "execution_count": 64,
   "id": "900ffb9c",
   "metadata": {},
   "outputs": [],
   "source": [
    "compare_list = pd.DataFrame(columns=[\"Params\", \"Config\", \"Accuracy Score\"])"
   ]
  },
  {
   "cell_type": "code",
   "execution_count": 65,
   "id": "6da339bc",
   "metadata": {},
   "outputs": [],
   "source": [
    "code_gen = False\n",
    "col_comb = [\n",
    "    [\"reviewText\"],\n",
    "    [\"reviewText\", \"verified\"],\n",
    "    [\"reviewTextWithSummary\"],\n",
    "    [\"reviewTextWithSummary\", \"verified\"],\n",
    "]\n",
    "proc_comb = [None, baseline, stem, lem]\n",
    "vectorizer_comb = [bow, tfidf]\n",
    "if code_gen:\n",
    "    for col in col_comb:\n",
    "        for proc in proc_comb:\n",
    "            for vectorizer in vectorizer_comb:\n",
    "                params = {\n",
    "                    \"col\": col,\n",
    "                    \"test_size\": 0.25,\n",
    "                    \"proc\": proc,\n",
    "                    \"vectorizer\": vectorizer,\n",
    "                }\n",
    "                print(\n",
    "                    f\"\"\"\n",
    "# %%\n",
    "x_train, x_test, y_train, y_test = pipeline({col}, 0.25, {proc}, {vectorizer}, df_unbalanced_small)\n",
    "grid = GridSearchCV(SVC(), param_grid, refit=True, verbose=verbose, n_jobs=n_jobs, cv=cv)\n",
    "grid.fit(x_train, y_train)\n",
    "y_pred = grid.predict(x_test)\n",
    "print(classification_report(y_test, y_pred))\n",
    "accuracy = grid.score(x_test, y_test)\n",
    "compare_list.loc[len(compare_list)] = [grid.best_params_, {params}, accuracy]\n",
    "\"\"\"\n",
    "                )"
   ]
  },
  {
   "cell_type": "code",
   "execution_count": 66,
   "id": "77c3fca0",
   "metadata": {},
   "outputs": [],
   "source": [
    "# below is code genderated by above cell, to make changes to the code, edit the\n",
    "# above cell and run it, pasting its contents between the markers"
   ]
  },
  {
   "cell_type": "code",
   "execution_count": 67,
   "id": "18f8415d",
   "metadata": {},
   "outputs": [
    {
     "name": "stdout",
     "output_type": "stream",
     "text": [
      "              precision    recall  f1-score   support\n",
      "\n",
      "          -1       0.63      0.25      0.36       228\n",
      "           0       0.42      0.10      0.16       221\n",
      "           1       0.91      0.99      0.95      3301\n",
      "\n",
      "    accuracy                           0.89      3750\n",
      "   macro avg       0.65      0.45      0.49      3750\n",
      "weighted avg       0.86      0.89      0.86      3750\n",
      "\n"
     ]
    }
   ],
   "source": [
    "\n",
    "####### START OF GENERATED CODE #######\n",
    "x_train, x_test, y_train, y_test = pipeline(['reviewText'], 0.25, None, bow, df_unbalanced_small)\n",
    "grid = GridSearchCV(SVC(), param_grid, refit=True, verbose=verbose, n_jobs=n_jobs, cv=cv)\n",
    "grid.fit(x_train, y_train)\n",
    "y_pred = grid.predict(x_test)\n",
    "print(classification_report(y_test, y_pred))\n",
    "accuracy = grid.score(x_test, y_test)\n",
    "compare_list.loc[len(compare_list)] = [grid.best_params_, {'col': ['reviewText'], 'test_size': 0.25, 'proc': None, 'vectorizer': 'bow'}, accuracy]"
   ]
  },
  {
   "cell_type": "code",
   "execution_count": 68,
   "id": "056bb1d5",
   "metadata": {},
   "outputs": [
    {
     "name": "stdout",
     "output_type": "stream",
     "text": [
      "              precision    recall  f1-score   support\n",
      "\n",
      "          -1       0.69      0.39      0.49       228\n",
      "           0       0.36      0.07      0.12       221\n",
      "           1       0.91      0.99      0.95      3301\n",
      "\n",
      "    accuracy                           0.90      3750\n",
      "   macro avg       0.65      0.48      0.52      3750\n",
      "weighted avg       0.87      0.90      0.87      3750\n",
      "\n"
     ]
    }
   ],
   "source": [
    "x_train, x_test, y_train, y_test = pipeline(['reviewText'], 0.25, None, tfidf, df_unbalanced_small)\n",
    "grid = GridSearchCV(SVC(), param_grid, refit=True, verbose=verbose, n_jobs=n_jobs, cv=cv)\n",
    "grid.fit(x_train, y_train)\n",
    "y_pred = grid.predict(x_test)\n",
    "print(classification_report(y_test, y_pred))\n",
    "accuracy = grid.score(x_test, y_test)\n",
    "compare_list.loc[len(compare_list)] = [grid.best_params_, {'col': ['reviewText'], 'test_size': 0.25, 'proc': None, 'vectorizer': 'tfidf'}, accuracy]"
   ]
  },
  {
   "cell_type": "code",
   "execution_count": 69,
   "id": "8474d30d",
   "metadata": {},
   "outputs": [
    {
     "name": "stdout",
     "output_type": "stream",
     "text": [
      "              precision    recall  f1-score   support\n",
      "\n",
      "          -1       0.69      0.27      0.38       228\n",
      "           0       0.29      0.08      0.13       221\n",
      "           1       0.91      0.99      0.94      3301\n",
      "\n",
      "    accuracy                           0.89      3750\n",
      "   macro avg       0.63      0.45      0.49      3750\n",
      "weighted avg       0.86      0.89      0.86      3750\n",
      "\n"
     ]
    }
   ],
   "source": [
    "x_train, x_test, y_train, y_test = pipeline(['reviewText'], 0.25, baseline, bow, df_unbalanced_small)\n",
    "grid = GridSearchCV(SVC(), param_grid, refit=True, verbose=verbose, n_jobs=n_jobs, cv=cv)\n",
    "grid.fit(x_train, y_train)\n",
    "y_pred = grid.predict(x_test)\n",
    "print(classification_report(y_test, y_pred))\n",
    "accuracy = grid.score(x_test, y_test)\n",
    "compare_list.loc[len(compare_list)] = [grid.best_params_, {'col': ['reviewText'], 'test_size': 0.25, 'proc': 'baseline', 'vectorizer': 'bow'}, accuracy]"
   ]
  },
  {
   "cell_type": "code",
   "execution_count": 70,
   "id": "a58951bb",
   "metadata": {},
   "outputs": [
    {
     "name": "stdout",
     "output_type": "stream",
     "text": [
      "              precision    recall  f1-score   support\n",
      "\n",
      "          -1       0.66      0.31      0.42       228\n",
      "           0       0.40      0.08      0.13       221\n",
      "           1       0.91      0.99      0.95      3301\n",
      "\n",
      "    accuracy                           0.90      3750\n",
      "   macro avg       0.65      0.46      0.50      3750\n",
      "weighted avg       0.86      0.90      0.87      3750\n",
      "\n"
     ]
    }
   ],
   "source": [
    "x_train, x_test, y_train, y_test = pipeline(['reviewText'], 0.25, baseline, tfidf, df_unbalanced_small)\n",
    "grid = GridSearchCV(SVC(), param_grid, refit=True, verbose=verbose, n_jobs=n_jobs, cv=cv)\n",
    "grid.fit(x_train, y_train)\n",
    "y_pred = grid.predict(x_test)\n",
    "print(classification_report(y_test, y_pred))\n",
    "accuracy = grid.score(x_test, y_test)\n",
    "compare_list.loc[len(compare_list)] = [grid.best_params_, {'col': ['reviewText'], 'test_size': 0.25, 'proc': 'baseline', 'vectorizer': 'tfidf'}, accuracy]"
   ]
  },
  {
   "cell_type": "code",
   "execution_count": 71,
   "id": "f381f0a0",
   "metadata": {},
   "outputs": [
    {
     "name": "stdout",
     "output_type": "stream",
     "text": [
      "              precision    recall  f1-score   support\n",
      "\n",
      "          -1       0.66      0.29      0.40       228\n",
      "           0       0.27      0.06      0.10       221\n",
      "           1       0.91      0.99      0.95      3301\n",
      "\n",
      "    accuracy                           0.89      3750\n",
      "   macro avg       0.61      0.44      0.48      3750\n",
      "weighted avg       0.85      0.89      0.86      3750\n",
      "\n"
     ]
    }
   ],
   "source": [
    "x_train, x_test, y_train, y_test = pipeline(['reviewText'], 0.25, stem, bow, df_unbalanced_small)\n",
    "grid = GridSearchCV(SVC(), param_grid, refit=True, verbose=verbose, n_jobs=n_jobs, cv=cv)\n",
    "grid.fit(x_train, y_train)\n",
    "y_pred = grid.predict(x_test)\n",
    "print(classification_report(y_test, y_pred))\n",
    "accuracy = grid.score(x_test, y_test)\n",
    "compare_list.loc[len(compare_list)] = [grid.best_params_, {'col': ['reviewText'], 'test_size': 0.25, 'proc': 'stem', 'vectorizer': 'bow'}, accuracy]"
   ]
  },
  {
   "cell_type": "code",
   "execution_count": 72,
   "id": "3a37d3e3",
   "metadata": {},
   "outputs": [
    {
     "name": "stdout",
     "output_type": "stream",
     "text": [
      "              precision    recall  f1-score   support\n",
      "\n",
      "          -1       0.68      0.32      0.43       228\n",
      "           0       0.35      0.05      0.09       221\n",
      "           1       0.90      0.99      0.95      3301\n",
      "\n",
      "    accuracy                           0.89      3750\n",
      "   macro avg       0.65      0.45      0.49      3750\n",
      "weighted avg       0.86      0.89      0.86      3750\n",
      "\n"
     ]
    }
   ],
   "source": [
    "x_train, x_test, y_train, y_test = pipeline(['reviewText'], 0.25, stem, tfidf, df_unbalanced_small)\n",
    "grid = GridSearchCV(SVC(), param_grid, refit=True, verbose=verbose, n_jobs=n_jobs, cv=cv)\n",
    "grid.fit(x_train, y_train)\n",
    "y_pred = grid.predict(x_test)\n",
    "print(classification_report(y_test, y_pred))\n",
    "accuracy = grid.score(x_test, y_test)\n",
    "compare_list.loc[len(compare_list)] = [grid.best_params_, {'col': ['reviewText'], 'test_size': 0.25, 'proc': 'stem', 'vectorizer': 'tfidf'}, accuracy]"
   ]
  },
  {
   "cell_type": "code",
   "execution_count": 73,
   "id": "ad43bb30",
   "metadata": {},
   "outputs": [
    {
     "name": "stdout",
     "output_type": "stream",
     "text": [
      "              precision    recall  f1-score   support\n",
      "\n",
      "          -1       0.65      0.25      0.36       228\n",
      "           0       0.28      0.07      0.12       221\n",
      "           1       0.90      0.99      0.94      3301\n",
      "\n",
      "    accuracy                           0.89      3750\n",
      "   macro avg       0.61      0.44      0.47      3750\n",
      "weighted avg       0.85      0.89      0.86      3750\n",
      "\n"
     ]
    }
   ],
   "source": [
    "x_train, x_test, y_train, y_test = pipeline(['reviewText'], 0.25, lem, bow, df_unbalanced_small)\n",
    "grid = GridSearchCV(SVC(), param_grid, refit=True, verbose=verbose, n_jobs=n_jobs, cv=cv)\n",
    "grid.fit(x_train, y_train)\n",
    "y_pred = grid.predict(x_test)\n",
    "print(classification_report(y_test, y_pred))\n",
    "accuracy = grid.score(x_test, y_test)\n",
    "compare_list.loc[len(compare_list)] = [grid.best_params_, {'col': ['reviewText'], 'test_size': 0.25, 'proc': 'lem', 'vectorizer': 'bow'}, accuracy]"
   ]
  },
  {
   "cell_type": "code",
   "execution_count": 74,
   "id": "6f77f053",
   "metadata": {},
   "outputs": [
    {
     "name": "stdout",
     "output_type": "stream",
     "text": [
      "              precision    recall  f1-score   support\n",
      "\n",
      "          -1       0.67      0.33      0.44       228\n",
      "           0       0.44      0.07      0.12       221\n",
      "           1       0.91      0.99      0.95      3301\n",
      "\n",
      "    accuracy                           0.90      3750\n",
      "   macro avg       0.67      0.46      0.50      3750\n",
      "weighted avg       0.87      0.90      0.87      3750\n",
      "\n"
     ]
    }
   ],
   "source": [
    "x_train, x_test, y_train, y_test = pipeline(['reviewText'], 0.25, lem, tfidf, df_unbalanced_small)\n",
    "grid = GridSearchCV(SVC(), param_grid, refit=True, verbose=verbose, n_jobs=n_jobs, cv=cv)\n",
    "grid.fit(x_train, y_train)\n",
    "y_pred = grid.predict(x_test)\n",
    "print(classification_report(y_test, y_pred))\n",
    "accuracy = grid.score(x_test, y_test)\n",
    "compare_list.loc[len(compare_list)] = [grid.best_params_, {'col': ['reviewText'], 'test_size': 0.25, 'proc': 'lem', 'vectorizer': 'tfidf'}, accuracy]"
   ]
  },
  {
   "cell_type": "code",
   "execution_count": 75,
   "id": "20244d45",
   "metadata": {},
   "outputs": [
    {
     "name": "stdout",
     "output_type": "stream",
     "text": [
      "              precision    recall  f1-score   support\n",
      "\n",
      "          -1       0.60      0.24      0.34       228\n",
      "           0       0.42      0.10      0.16       221\n",
      "           1       0.91      0.99      0.95      3301\n",
      "\n",
      "    accuracy                           0.89      3750\n",
      "   macro avg       0.64      0.44      0.48      3750\n",
      "weighted avg       0.86      0.89      0.86      3750\n",
      "\n"
     ]
    }
   ],
   "source": [
    "x_train, x_test, y_train, y_test = pipeline(['reviewText', 'verified'], 0.25, None, bow, df_unbalanced_small)\n",
    "grid = GridSearchCV(SVC(), param_grid, refit=True, verbose=verbose, n_jobs=n_jobs, cv=cv)\n",
    "grid.fit(x_train, y_train)\n",
    "y_pred = grid.predict(x_test)\n",
    "print(classification_report(y_test, y_pred))\n",
    "accuracy = grid.score(x_test, y_test)\n",
    "compare_list.loc[len(compare_list)] = [grid.best_params_, {'col': ['reviewText', 'verified'], 'test_size': 0.25, 'proc': None, 'vectorizer': 'bow'}, accuracy]"
   ]
  },
  {
   "cell_type": "code",
   "execution_count": 76,
   "id": "e1a4753f",
   "metadata": {},
   "outputs": [
    {
     "name": "stdout",
     "output_type": "stream",
     "text": [
      "              precision    recall  f1-score   support\n",
      "\n",
      "          -1       0.69      0.39      0.50       228\n",
      "           0       0.38      0.07      0.12       221\n",
      "           1       0.91      0.99      0.95      3301\n",
      "\n",
      "    accuracy                           0.90      3750\n",
      "   macro avg       0.66      0.49      0.52      3750\n",
      "weighted avg       0.87      0.90      0.87      3750\n",
      "\n"
     ]
    }
   ],
   "source": [
    "x_train, x_test, y_train, y_test = pipeline(['reviewText', 'verified'], 0.25, None, tfidf, df_unbalanced_small)\n",
    "grid = GridSearchCV(SVC(), param_grid, refit=True, verbose=verbose, n_jobs=n_jobs, cv=cv)\n",
    "grid.fit(x_train, y_train)\n",
    "y_pred = grid.predict(x_test)\n",
    "print(classification_report(y_test, y_pred))\n",
    "accuracy = grid.score(x_test, y_test)\n",
    "compare_list.loc[len(compare_list)] = [grid.best_params_, {'col': ['reviewText', 'verified'], 'test_size': 0.25, 'proc': None, 'vectorizer': 'tfidf'}, accuracy]"
   ]
  },
  {
   "cell_type": "code",
   "execution_count": 77,
   "id": "6eadfa10",
   "metadata": {},
   "outputs": [
    {
     "name": "stdout",
     "output_type": "stream",
     "text": [
      "              precision    recall  f1-score   support\n",
      "\n",
      "          -1       0.68      0.27      0.39       228\n",
      "           0       0.30      0.08      0.13       221\n",
      "           1       0.91      0.99      0.95      3301\n",
      "\n",
      "    accuracy                           0.89      3750\n",
      "   macro avg       0.63      0.45      0.49      3750\n",
      "weighted avg       0.86      0.89      0.86      3750\n",
      "\n"
     ]
    }
   ],
   "source": [
    "x_train, x_test, y_train, y_test = pipeline(['reviewText', 'verified'], 0.25, baseline, bow, df_unbalanced_small)\n",
    "grid = GridSearchCV(SVC(), param_grid, refit=True, verbose=verbose, n_jobs=n_jobs, cv=cv)\n",
    "grid.fit(x_train, y_train)\n",
    "y_pred = grid.predict(x_test)\n",
    "print(classification_report(y_test, y_pred))\n",
    "accuracy = grid.score(x_test, y_test)\n",
    "compare_list.loc[len(compare_list)] = [grid.best_params_, {'col': ['reviewText', 'verified'], 'test_size': 0.25, 'proc': 'baseline', 'vectorizer': 'bow'}, accuracy]"
   ]
  },
  {
   "cell_type": "code",
   "execution_count": 78,
   "id": "55486545",
   "metadata": {},
   "outputs": [
    {
     "name": "stdout",
     "output_type": "stream",
     "text": [
      "              precision    recall  f1-score   support\n",
      "\n",
      "          -1       0.66      0.31      0.42       228\n",
      "           0       0.40      0.08      0.13       221\n",
      "           1       0.91      0.99      0.95      3301\n",
      "\n",
      "    accuracy                           0.89      3750\n",
      "   macro avg       0.65      0.46      0.50      3750\n",
      "weighted avg       0.86      0.89      0.87      3750\n",
      "\n"
     ]
    }
   ],
   "source": [
    "x_train, x_test, y_train, y_test = pipeline(['reviewText', 'verified'], 0.25, baseline, tfidf, df_unbalanced_small)\n",
    "grid = GridSearchCV(SVC(), param_grid, refit=True, verbose=verbose, n_jobs=n_jobs, cv=cv)\n",
    "grid.fit(x_train, y_train)\n",
    "y_pred = grid.predict(x_test)\n",
    "print(classification_report(y_test, y_pred))\n",
    "accuracy = grid.score(x_test, y_test)\n",
    "compare_list.loc[len(compare_list)] = [grid.best_params_, {'col': ['reviewText', 'verified'], 'test_size': 0.25, 'proc': 'baseline', 'vectorizer': 'tfidf'}, accuracy]"
   ]
  },
  {
   "cell_type": "code",
   "execution_count": 79,
   "id": "6e725420",
   "metadata": {},
   "outputs": [
    {
     "name": "stdout",
     "output_type": "stream",
     "text": [
      "              precision    recall  f1-score   support\n",
      "\n",
      "          -1       0.66      0.29      0.40       228\n",
      "           0       0.27      0.06      0.10       221\n",
      "           1       0.91      0.99      0.95      3301\n",
      "\n",
      "    accuracy                           0.89      3750\n",
      "   macro avg       0.61      0.44      0.48      3750\n",
      "weighted avg       0.85      0.89      0.86      3750\n",
      "\n"
     ]
    }
   ],
   "source": [
    "x_train, x_test, y_train, y_test = pipeline(['reviewText', 'verified'], 0.25, stem, bow, df_unbalanced_small)\n",
    "grid = GridSearchCV(SVC(), param_grid, refit=True, verbose=verbose, n_jobs=n_jobs, cv=cv)\n",
    "grid.fit(x_train, y_train)\n",
    "y_pred = grid.predict(x_test)\n",
    "print(classification_report(y_test, y_pred))\n",
    "accuracy = grid.score(x_test, y_test)\n",
    "compare_list.loc[len(compare_list)] = [grid.best_params_, {'col': ['reviewText', 'verified'], 'test_size': 0.25, 'proc': 'stem', 'vectorizer': 'bow'}, accuracy]"
   ]
  },
  {
   "cell_type": "code",
   "execution_count": 80,
   "id": "e24297a1",
   "metadata": {},
   "outputs": [
    {
     "name": "stdout",
     "output_type": "stream",
     "text": [
      "              precision    recall  f1-score   support\n",
      "\n",
      "          -1       0.70      0.32      0.44       228\n",
      "           0       0.36      0.05      0.09       221\n",
      "           1       0.91      0.99      0.95      3301\n",
      "\n",
      "    accuracy                           0.90      3750\n",
      "   macro avg       0.66      0.46      0.49      3750\n",
      "weighted avg       0.86      0.90      0.87      3750\n",
      "\n"
     ]
    }
   ],
   "source": [
    "x_train, x_test, y_train, y_test = pipeline(['reviewText', 'verified'], 0.25, stem, tfidf, df_unbalanced_small)\n",
    "grid = GridSearchCV(SVC(), param_grid, refit=True, verbose=verbose, n_jobs=n_jobs, cv=cv)\n",
    "grid.fit(x_train, y_train)\n",
    "y_pred = grid.predict(x_test)\n",
    "print(classification_report(y_test, y_pred))\n",
    "accuracy = grid.score(x_test, y_test)\n",
    "compare_list.loc[len(compare_list)] = [grid.best_params_, {'col': ['reviewText', 'verified'], 'test_size': 0.25, 'proc': 'stem', 'vectorizer': 'tfidf'}, accuracy]"
   ]
  },
  {
   "cell_type": "code",
   "execution_count": 81,
   "id": "b3b3aaa3",
   "metadata": {},
   "outputs": [
    {
     "name": "stdout",
     "output_type": "stream",
     "text": [
      "              precision    recall  f1-score   support\n",
      "\n",
      "          -1       0.64      0.25      0.36       228\n",
      "           0       0.29      0.07      0.12       221\n",
      "           1       0.90      0.99      0.94      3301\n",
      "\n",
      "    accuracy                           0.89      3750\n",
      "   macro avg       0.61      0.44      0.47      3750\n",
      "weighted avg       0.85      0.89      0.86      3750\n",
      "\n"
     ]
    }
   ],
   "source": [
    "x_train, x_test, y_train, y_test = pipeline(['reviewText', 'verified'], 0.25, lem, bow, df_unbalanced_small)\n",
    "grid = GridSearchCV(SVC(), param_grid, refit=True, verbose=verbose, n_jobs=n_jobs, cv=cv)\n",
    "grid.fit(x_train, y_train)\n",
    "y_pred = grid.predict(x_test)\n",
    "print(classification_report(y_test, y_pred))\n",
    "accuracy = grid.score(x_test, y_test)\n",
    "compare_list.loc[len(compare_list)] = [grid.best_params_, {'col': ['reviewText', 'verified'], 'test_size': 0.25, 'proc': 'lem', 'vectorizer': 'bow'}, accuracy]"
   ]
  },
  {
   "cell_type": "code",
   "execution_count": 82,
   "id": "f3044749",
   "metadata": {},
   "outputs": [
    {
     "name": "stdout",
     "output_type": "stream",
     "text": [
      "              precision    recall  f1-score   support\n",
      "\n",
      "          -1       0.68      0.32      0.44       228\n",
      "           0       0.44      0.07      0.12       221\n",
      "           1       0.91      0.99      0.95      3301\n",
      "\n",
      "    accuracy                           0.90      3750\n",
      "   macro avg       0.68      0.46      0.50      3750\n",
      "weighted avg       0.87      0.90      0.87      3750\n",
      "\n"
     ]
    }
   ],
   "source": [
    "x_train, x_test, y_train, y_test = pipeline(['reviewText', 'verified'], 0.25, lem, tfidf, df_unbalanced_small)\n",
    "grid = GridSearchCV(SVC(), param_grid, refit=True, verbose=verbose, n_jobs=n_jobs, cv=cv)\n",
    "grid.fit(x_train, y_train)\n",
    "y_pred = grid.predict(x_test)\n",
    "print(classification_report(y_test, y_pred))\n",
    "accuracy = grid.score(x_test, y_test)\n",
    "compare_list.loc[len(compare_list)] = [grid.best_params_, {'col': ['reviewText', 'verified'], 'test_size': 0.25, 'proc': 'lem', 'vectorizer': 'tfidf'}, accuracy]"
   ]
  },
  {
   "cell_type": "code",
   "execution_count": 83,
   "id": "806e3ff1",
   "metadata": {},
   "outputs": [
    {
     "name": "stdout",
     "output_type": "stream",
     "text": [
      "              precision    recall  f1-score   support\n",
      "\n",
      "          -1       0.78      0.44      0.56       228\n",
      "           0       0.70      0.36      0.48       221\n",
      "           1       0.93      0.99      0.96      3301\n",
      "\n",
      "    accuracy                           0.92      3750\n",
      "   macro avg       0.80      0.60      0.67      3750\n",
      "weighted avg       0.91      0.92      0.91      3750\n",
      "\n"
     ]
    }
   ],
   "source": [
    "x_train, x_test, y_train, y_test = pipeline(['reviewTextWithSummary'], 0.25, None, bow, df_unbalanced_small)\n",
    "grid = GridSearchCV(SVC(), param_grid, refit=True, verbose=verbose, n_jobs=n_jobs, cv=cv)\n",
    "grid.fit(x_train, y_train)\n",
    "y_pred = grid.predict(x_test)\n",
    "print(classification_report(y_test, y_pred))\n",
    "accuracy = grid.score(x_test, y_test)\n",
    "compare_list.loc[len(compare_list)] = [grid.best_params_, {'col': ['reviewTextWithSummary'], 'test_size': 0.25, 'proc': None, 'vectorizer': 'bow'}, accuracy]"
   ]
  },
  {
   "cell_type": "code",
   "execution_count": 84,
   "id": "5bb7c7f2",
   "metadata": {},
   "outputs": [
    {
     "name": "stdout",
     "output_type": "stream",
     "text": [
      "              precision    recall  f1-score   support\n",
      "\n",
      "          -1       0.79      0.51      0.62       228\n",
      "           0       0.68      0.36      0.47       221\n",
      "           1       0.94      0.99      0.96      3301\n",
      "\n",
      "    accuracy                           0.92      3750\n",
      "   macro avg       0.80      0.62      0.68      3750\n",
      "weighted avg       0.91      0.92      0.91      3750\n",
      "\n"
     ]
    }
   ],
   "source": [
    "x_train, x_test, y_train, y_test = pipeline(['reviewTextWithSummary'], 0.25, None, tfidf, df_unbalanced_small)\n",
    "grid = GridSearchCV(SVC(), param_grid, refit=True, verbose=verbose, n_jobs=n_jobs, cv=cv)\n",
    "grid.fit(x_train, y_train)\n",
    "y_pred = grid.predict(x_test)\n",
    "print(classification_report(y_test, y_pred))\n",
    "accuracy = grid.score(x_test, y_test)\n",
    "compare_list.loc[len(compare_list)] = [grid.best_params_, {'col': ['reviewTextWithSummary'], 'test_size': 0.25, 'proc': None, 'vectorizer': 'tfidf'}, accuracy]"
   ]
  },
  {
   "cell_type": "code",
   "execution_count": 85,
   "id": "108d9735",
   "metadata": {},
   "outputs": [
    {
     "name": "stdout",
     "output_type": "stream",
     "text": [
      "              precision    recall  f1-score   support\n",
      "\n",
      "          -1       0.70      0.45      0.55       228\n",
      "           0       0.61      0.33      0.42       221\n",
      "           1       0.93      0.99      0.96      3301\n",
      "\n",
      "    accuracy                           0.91      3750\n",
      "   macro avg       0.75      0.59      0.64      3750\n",
      "weighted avg       0.90      0.91      0.90      3750\n",
      "\n"
     ]
    }
   ],
   "source": [
    "x_train, x_test, y_train, y_test = pipeline(['reviewTextWithSummary'], 0.25, baseline, bow, df_unbalanced_small)\n",
    "grid = GridSearchCV(SVC(), param_grid, refit=True, verbose=verbose, n_jobs=n_jobs, cv=cv)\n",
    "grid.fit(x_train, y_train)\n",
    "y_pred = grid.predict(x_test)\n",
    "print(classification_report(y_test, y_pred))\n",
    "accuracy = grid.score(x_test, y_test)\n",
    "compare_list.loc[len(compare_list)] = [grid.best_params_, {'col': ['reviewTextWithSummary'], 'test_size': 0.25, 'proc': 'baseline', 'vectorizer': 'bow'}, accuracy]"
   ]
  },
  {
   "cell_type": "code",
   "execution_count": 86,
   "id": "d1fcc603",
   "metadata": {},
   "outputs": [
    {
     "name": "stdout",
     "output_type": "stream",
     "text": [
      "              precision    recall  f1-score   support\n",
      "\n",
      "          -1       0.77      0.44      0.56       228\n",
      "           0       0.67      0.33      0.44       221\n",
      "           1       0.93      0.99      0.96      3301\n",
      "\n",
      "    accuracy                           0.92      3750\n",
      "   macro avg       0.79      0.59      0.65      3750\n",
      "weighted avg       0.91      0.92      0.90      3750\n",
      "\n"
     ]
    }
   ],
   "source": [
    "x_train, x_test, y_train, y_test = pipeline(['reviewTextWithSummary'], 0.25, baseline, tfidf, df_unbalanced_small)\n",
    "grid = GridSearchCV(SVC(), param_grid, refit=True, verbose=verbose, n_jobs=n_jobs, cv=cv)\n",
    "grid.fit(x_train, y_train)\n",
    "y_pred = grid.predict(x_test)\n",
    "print(classification_report(y_test, y_pred))\n",
    "accuracy = grid.score(x_test, y_test)\n",
    "compare_list.loc[len(compare_list)] = [grid.best_params_, {'col': ['reviewTextWithSummary'], 'test_size': 0.25, 'proc': 'baseline', 'vectorizer': 'tfidf'}, accuracy]"
   ]
  },
  {
   "cell_type": "code",
   "execution_count": 87,
   "id": "480b9a05",
   "metadata": {},
   "outputs": [
    {
     "name": "stdout",
     "output_type": "stream",
     "text": [
      "              precision    recall  f1-score   support\n",
      "\n",
      "          -1       0.70      0.43      0.54       228\n",
      "           0       0.62      0.34      0.44       221\n",
      "           1       0.93      0.98      0.96      3301\n",
      "\n",
      "    accuracy                           0.91      3750\n",
      "   macro avg       0.75      0.59      0.65      3750\n",
      "weighted avg       0.90      0.91      0.90      3750\n",
      "\n"
     ]
    }
   ],
   "source": [
    "x_train, x_test, y_train, y_test = pipeline(['reviewTextWithSummary'], 0.25, stem, bow, df_unbalanced_small)\n",
    "grid = GridSearchCV(SVC(), param_grid, refit=True, verbose=verbose, n_jobs=n_jobs, cv=cv)\n",
    "grid.fit(x_train, y_train)\n",
    "y_pred = grid.predict(x_test)\n",
    "print(classification_report(y_test, y_pred))\n",
    "accuracy = grid.score(x_test, y_test)\n",
    "compare_list.loc[len(compare_list)] = [grid.best_params_, {'col': ['reviewTextWithSummary'], 'test_size': 0.25, 'proc': 'stem', 'vectorizer': 'bow'}, accuracy]"
   ]
  },
  {
   "cell_type": "code",
   "execution_count": 88,
   "id": "6ac2a58e",
   "metadata": {},
   "outputs": [
    {
     "name": "stdout",
     "output_type": "stream",
     "text": [
      "              precision    recall  f1-score   support\n",
      "\n",
      "          -1       0.76      0.41      0.53       228\n",
      "           0       0.66      0.32      0.43       221\n",
      "           1       0.93      0.99      0.96      3301\n",
      "\n",
      "    accuracy                           0.91      3750\n",
      "   macro avg       0.78      0.57      0.64      3750\n",
      "weighted avg       0.90      0.91      0.90      3750\n",
      "\n"
     ]
    }
   ],
   "source": [
    "x_train, x_test, y_train, y_test = pipeline(['reviewTextWithSummary'], 0.25, stem, tfidf, df_unbalanced_small)\n",
    "grid = GridSearchCV(SVC(), param_grid, refit=True, verbose=verbose, n_jobs=n_jobs, cv=cv)\n",
    "grid.fit(x_train, y_train)\n",
    "y_pred = grid.predict(x_test)\n",
    "print(classification_report(y_test, y_pred))\n",
    "accuracy = grid.score(x_test, y_test)\n",
    "compare_list.loc[len(compare_list)] = [grid.best_params_, {'col': ['reviewTextWithSummary'], 'test_size': 0.25, 'proc': 'stem', 'vectorizer': 'tfidf'}, accuracy]"
   ]
  },
  {
   "cell_type": "code",
   "execution_count": 89,
   "id": "bd5b55df",
   "metadata": {},
   "outputs": [
    {
     "name": "stdout",
     "output_type": "stream",
     "text": [
      "              precision    recall  f1-score   support\n",
      "\n",
      "          -1       0.70      0.43      0.53       228\n",
      "           0       0.63      0.33      0.43       221\n",
      "           1       0.93      0.98      0.96      3301\n",
      "\n",
      "    accuracy                           0.91      3750\n",
      "   macro avg       0.75      0.58      0.64      3750\n",
      "weighted avg       0.90      0.91      0.90      3750\n",
      "\n"
     ]
    }
   ],
   "source": [
    "x_train, x_test, y_train, y_test = pipeline(['reviewTextWithSummary'], 0.25, lem, bow, df_unbalanced_small)\n",
    "grid = GridSearchCV(SVC(), param_grid, refit=True, verbose=verbose, n_jobs=n_jobs, cv=cv)\n",
    "grid.fit(x_train, y_train)\n",
    "y_pred = grid.predict(x_test)\n",
    "print(classification_report(y_test, y_pred))\n",
    "accuracy = grid.score(x_test, y_test)\n",
    "compare_list.loc[len(compare_list)] = [grid.best_params_, {'col': ['reviewTextWithSummary'], 'test_size': 0.25, 'proc': 'lem', 'vectorizer': 'bow'}, accuracy]"
   ]
  },
  {
   "cell_type": "code",
   "execution_count": 90,
   "id": "c448dcee",
   "metadata": {},
   "outputs": [
    {
     "name": "stdout",
     "output_type": "stream",
     "text": [
      "              precision    recall  f1-score   support\n",
      "\n",
      "          -1       0.78      0.39      0.52       228\n",
      "           0       0.68      0.33      0.44       221\n",
      "           1       0.93      0.99      0.96      3301\n",
      "\n",
      "    accuracy                           0.91      3750\n",
      "   macro avg       0.79      0.57      0.64      3750\n",
      "weighted avg       0.90      0.91      0.90      3750\n",
      "\n"
     ]
    }
   ],
   "source": [
    "x_train, x_test, y_train, y_test = pipeline(['reviewTextWithSummary'], 0.25, lem, tfidf, df_unbalanced_small)\n",
    "grid = GridSearchCV(SVC(), param_grid, refit=True, verbose=verbose, n_jobs=n_jobs, cv=cv)\n",
    "grid.fit(x_train, y_train)\n",
    "y_pred = grid.predict(x_test)\n",
    "print(classification_report(y_test, y_pred))\n",
    "accuracy = grid.score(x_test, y_test)\n",
    "compare_list.loc[len(compare_list)] = [grid.best_params_, {'col': ['reviewTextWithSummary'], 'test_size': 0.25, 'proc': 'lem', 'vectorizer': 'tfidf'}, accuracy]"
   ]
  },
  {
   "cell_type": "code",
   "execution_count": 91,
   "id": "5251e0a7",
   "metadata": {},
   "outputs": [
    {
     "name": "stdout",
     "output_type": "stream",
     "text": [
      "              precision    recall  f1-score   support\n",
      "\n",
      "          -1       0.78      0.44      0.56       228\n",
      "           0       0.70      0.36      0.48       221\n",
      "           1       0.93      0.99      0.96      3301\n",
      "\n",
      "    accuracy                           0.92      3750\n",
      "   macro avg       0.80      0.60      0.67      3750\n",
      "weighted avg       0.91      0.92      0.91      3750\n",
      "\n"
     ]
    }
   ],
   "source": [
    "x_train, x_test, y_train, y_test = pipeline(['reviewTextWithSummary', 'verified'], 0.25, None, bow, df_unbalanced_small)\n",
    "grid = GridSearchCV(SVC(), param_grid, refit=True, verbose=verbose, n_jobs=n_jobs, cv=cv)\n",
    "grid.fit(x_train, y_train)\n",
    "y_pred = grid.predict(x_test)\n",
    "print(classification_report(y_test, y_pred))\n",
    "accuracy = grid.score(x_test, y_test)\n",
    "compare_list.loc[len(compare_list)] = [grid.best_params_, {'col': ['reviewTextWithSummary', 'verified'], 'test_size': 0.25, 'proc': None, 'vectorizer': 'bow'}, accuracy]"
   ]
  },
  {
   "cell_type": "code",
   "execution_count": 92,
   "id": "e211c8ba",
   "metadata": {},
   "outputs": [
    {
     "name": "stdout",
     "output_type": "stream",
     "text": [
      "              precision    recall  f1-score   support\n",
      "\n",
      "          -1       0.77      0.50      0.60       228\n",
      "           0       0.68      0.35      0.46       221\n",
      "           1       0.94      0.99      0.96      3301\n",
      "\n",
      "    accuracy                           0.92      3750\n",
      "   macro avg       0.79      0.61      0.68      3750\n",
      "weighted avg       0.91      0.92      0.91      3750\n",
      "\n"
     ]
    }
   ],
   "source": [
    "x_train, x_test, y_train, y_test = pipeline(['reviewTextWithSummary', 'verified'], 0.25, None, tfidf, df_unbalanced_small)\n",
    "grid = GridSearchCV(SVC(), param_grid, refit=True, verbose=verbose, n_jobs=n_jobs, cv=cv)\n",
    "grid.fit(x_train, y_train)\n",
    "y_pred = grid.predict(x_test)\n",
    "print(classification_report(y_test, y_pred))\n",
    "accuracy = grid.score(x_test, y_test)\n",
    "compare_list.loc[len(compare_list)] = [grid.best_params_, {'col': ['reviewTextWithSummary', 'verified'], 'test_size': 0.25, 'proc': None, 'vectorizer': 'tfidf'}, accuracy]"
   ]
  },
  {
   "cell_type": "code",
   "execution_count": 93,
   "id": "85cbeae1",
   "metadata": {},
   "outputs": [
    {
     "name": "stdout",
     "output_type": "stream",
     "text": [
      "              precision    recall  f1-score   support\n",
      "\n",
      "          -1       0.71      0.45      0.55       228\n",
      "           0       0.62      0.33      0.43       221\n",
      "           1       0.93      0.99      0.96      3301\n",
      "\n",
      "    accuracy                           0.91      3750\n",
      "   macro avg       0.75      0.59      0.65      3750\n",
      "weighted avg       0.90      0.91      0.90      3750\n",
      "\n"
     ]
    }
   ],
   "source": [
    "x_train, x_test, y_train, y_test = pipeline(['reviewTextWithSummary', 'verified'], 0.25, baseline, bow, df_unbalanced_small)\n",
    "grid = GridSearchCV(SVC(), param_grid, refit=True, verbose=verbose, n_jobs=n_jobs, cv=cv)\n",
    "grid.fit(x_train, y_train)\n",
    "y_pred = grid.predict(x_test)\n",
    "print(classification_report(y_test, y_pred))\n",
    "accuracy = grid.score(x_test, y_test)\n",
    "compare_list.loc[len(compare_list)] = [grid.best_params_, {'col': ['reviewTextWithSummary', 'verified'], 'test_size': 0.25, 'proc': 'baseline', 'vectorizer': 'bow'}, accuracy]"
   ]
  },
  {
   "cell_type": "code",
   "execution_count": 94,
   "id": "b06f24fe",
   "metadata": {},
   "outputs": [
    {
     "name": "stdout",
     "output_type": "stream",
     "text": [
      "              precision    recall  f1-score   support\n",
      "\n",
      "          -1       0.75      0.44      0.56       228\n",
      "           0       0.68      0.33      0.44       221\n",
      "           1       0.93      0.99      0.96      3301\n",
      "\n",
      "    accuracy                           0.92      3750\n",
      "   macro avg       0.79      0.59      0.65      3750\n",
      "weighted avg       0.91      0.92      0.90      3750\n",
      "\n"
     ]
    }
   ],
   "source": [
    "x_train, x_test, y_train, y_test = pipeline(['reviewTextWithSummary', 'verified'], 0.25, baseline, tfidf, df_unbalanced_small)\n",
    "grid = GridSearchCV(SVC(), param_grid, refit=True, verbose=verbose, n_jobs=n_jobs, cv=cv)\n",
    "grid.fit(x_train, y_train)\n",
    "y_pred = grid.predict(x_test)\n",
    "print(classification_report(y_test, y_pred))\n",
    "accuracy = grid.score(x_test, y_test)\n",
    "compare_list.loc[len(compare_list)] = [grid.best_params_, {'col': ['reviewTextWithSummary', 'verified'], 'test_size': 0.25, 'proc': 'baseline', 'vectorizer': 'tfidf'}, accuracy]"
   ]
  },
  {
   "cell_type": "code",
   "execution_count": 95,
   "id": "fe58a74d",
   "metadata": {},
   "outputs": [
    {
     "name": "stdout",
     "output_type": "stream",
     "text": [
      "              precision    recall  f1-score   support\n",
      "\n",
      "          -1       0.70      0.43      0.53       228\n",
      "           0       0.63      0.34      0.44       221\n",
      "           1       0.93      0.98      0.96      3301\n",
      "\n",
      "    accuracy                           0.91      3750\n",
      "   macro avg       0.75      0.59      0.64      3750\n",
      "weighted avg       0.90      0.91      0.90      3750\n",
      "\n"
     ]
    }
   ],
   "source": [
    "x_train, x_test, y_train, y_test = pipeline(['reviewTextWithSummary', 'verified'], 0.25, stem, bow, df_unbalanced_small)\n",
    "grid = GridSearchCV(SVC(), param_grid, refit=True, verbose=verbose, n_jobs=n_jobs, cv=cv)\n",
    "grid.fit(x_train, y_train)\n",
    "y_pred = grid.predict(x_test)\n",
    "print(classification_report(y_test, y_pred))\n",
    "accuracy = grid.score(x_test, y_test)\n",
    "compare_list.loc[len(compare_list)] = [grid.best_params_, {'col': ['reviewTextWithSummary', 'verified'], 'test_size': 0.25, 'proc': 'stem', 'vectorizer': 'bow'}, accuracy]"
   ]
  },
  {
   "cell_type": "code",
   "execution_count": 96,
   "id": "35c676e9",
   "metadata": {},
   "outputs": [
    {
     "name": "stdout",
     "output_type": "stream",
     "text": [
      "              precision    recall  f1-score   support\n",
      "\n",
      "          -1       0.75      0.41      0.53       228\n",
      "           0       0.65      0.32      0.43       221\n",
      "           1       0.93      0.99      0.96      3301\n",
      "\n",
      "    accuracy                           0.91      3750\n",
      "   macro avg       0.78      0.57      0.64      3750\n",
      "weighted avg       0.90      0.91      0.90      3750\n",
      "\n"
     ]
    }
   ],
   "source": [
    "x_train, x_test, y_train, y_test = pipeline(['reviewTextWithSummary', 'verified'], 0.25, stem, tfidf, df_unbalanced_small)\n",
    "grid = GridSearchCV(SVC(), param_grid, refit=True, verbose=verbose, n_jobs=n_jobs, cv=cv)\n",
    "grid.fit(x_train, y_train)\n",
    "y_pred = grid.predict(x_test)\n",
    "print(classification_report(y_test, y_pred))\n",
    "accuracy = grid.score(x_test, y_test)\n",
    "compare_list.loc[len(compare_list)] = [grid.best_params_, {'col': ['reviewTextWithSummary', 'verified'], 'test_size': 0.25, 'proc': 'stem', 'vectorizer': 'tfidf'}, accuracy]"
   ]
  },
  {
   "cell_type": "code",
   "execution_count": 97,
   "id": "47da70fb",
   "metadata": {},
   "outputs": [
    {
     "name": "stdout",
     "output_type": "stream",
     "text": [
      "              precision    recall  f1-score   support\n",
      "\n",
      "          -1       0.71      0.43      0.54       228\n",
      "           0       0.63      0.33      0.43       221\n",
      "           1       0.93      0.98      0.96      3301\n",
      "\n",
      "    accuracy                           0.91      3750\n",
      "   macro avg       0.76      0.58      0.64      3750\n",
      "weighted avg       0.90      0.91      0.90      3750\n",
      "\n"
     ]
    }
   ],
   "source": [
    "x_train, x_test, y_train, y_test = pipeline(['reviewTextWithSummary', 'verified'], 0.25, lem, bow, df_unbalanced_small)\n",
    "grid = GridSearchCV(SVC(), param_grid, refit=True, verbose=verbose, n_jobs=n_jobs, cv=cv)\n",
    "grid.fit(x_train, y_train)\n",
    "y_pred = grid.predict(x_test)\n",
    "print(classification_report(y_test, y_pred))\n",
    "accuracy = grid.score(x_test, y_test)\n",
    "compare_list.loc[len(compare_list)] = [grid.best_params_, {'col': ['reviewTextWithSummary', 'verified'], 'test_size': 0.25, 'proc': 'lem', 'vectorizer': 'bow'}, accuracy]"
   ]
  },
  {
   "cell_type": "code",
   "execution_count": 98,
   "id": "5303e2ee",
   "metadata": {},
   "outputs": [
    {
     "name": "stdout",
     "output_type": "stream",
     "text": [
      "              precision    recall  f1-score   support\n",
      "\n",
      "          -1       0.73      0.41      0.53       228\n",
      "           0       0.64      0.34      0.45       221\n",
      "           1       0.93      0.99      0.96      3301\n",
      "\n",
      "    accuracy                           0.91      3750\n",
      "   macro avg       0.77      0.58      0.64      3750\n",
      "weighted avg       0.90      0.91      0.90      3750\n",
      "\n"
     ]
    }
   ],
   "source": [
    "x_train, x_test, y_train, y_test = pipeline(['reviewTextWithSummary', 'verified'], 0.25, lem, tfidf, df_unbalanced_small)\n",
    "grid = GridSearchCV(SVC(), param_grid, refit=True, verbose=verbose, n_jobs=n_jobs, cv=cv)\n",
    "grid.fit(x_train, y_train)\n",
    "y_pred = grid.predict(x_test)\n",
    "print(classification_report(y_test, y_pred))\n",
    "accuracy = grid.score(x_test, y_test)\n",
    "compare_list.loc[len(compare_list)] = [grid.best_params_, {'col': ['reviewTextWithSummary', 'verified'], 'test_size': 0.25, 'proc': 'lem', 'vectorizer': 'tfidf'}, accuracy]\n",
    "#######  END OF GENERATED CODE  #######"
   ]
  },
  {
   "cell_type": "code",
   "execution_count": 99,
   "id": "843f8c74",
   "metadata": {},
   "outputs": [
    {
     "data": {
      "text/html": [
       "<div>\n",
       "<style scoped>\n",
       "    .dataframe tbody tr th:only-of-type {\n",
       "        vertical-align: middle;\n",
       "    }\n",
       "\n",
       "    .dataframe tbody tr th {\n",
       "        vertical-align: top;\n",
       "    }\n",
       "\n",
       "    .dataframe thead th {\n",
       "        text-align: right;\n",
       "    }\n",
       "</style>\n",
       "<table border=\"1\" class=\"dataframe\">\n",
       "  <thead>\n",
       "    <tr style=\"text-align: right;\">\n",
       "      <th></th>\n",
       "      <th>Params</th>\n",
       "      <th>Config</th>\n",
       "      <th>Accuracy Score</th>\n",
       "    </tr>\n",
       "  </thead>\n",
       "  <tbody>\n",
       "    <tr>\n",
       "      <th>0</th>\n",
       "      <td>{'C': 10, 'gamma': 0.1, 'kernel': 'rbf'}</td>\n",
       "      <td>{'col': ['reviewTextWithSummary'], 'test_size'...</td>\n",
       "      <td>0.923733</td>\n",
       "    </tr>\n",
       "    <tr>\n",
       "      <th>1</th>\n",
       "      <td>{'C': 10, 'gamma': 0.1, 'kernel': 'rbf'}</td>\n",
       "      <td>{'col': ['reviewTextWithSummary', 'verified'],...</td>\n",
       "      <td>0.922133</td>\n",
       "    </tr>\n",
       "    <tr>\n",
       "      <th>2</th>\n",
       "      <td>{'C': 10, 'gamma': 0.01, 'kernel': 'rbf'}</td>\n",
       "      <td>{'col': ['reviewTextWithSummary'], 'test_size'...</td>\n",
       "      <td>0.919733</td>\n",
       "    </tr>\n",
       "    <tr>\n",
       "      <th>3</th>\n",
       "      <td>{'C': 10, 'gamma': 0.01, 'kernel': 'rbf'}</td>\n",
       "      <td>{'col': ['reviewTextWithSummary', 'verified'],...</td>\n",
       "      <td>0.919733</td>\n",
       "    </tr>\n",
       "    <tr>\n",
       "      <th>4</th>\n",
       "      <td>{'C': 10, 'gamma': 0.1, 'kernel': 'rbf'}</td>\n",
       "      <td>{'col': ['reviewTextWithSummary', 'verified'],...</td>\n",
       "      <td>0.917600</td>\n",
       "    </tr>\n",
       "    <tr>\n",
       "      <th>5</th>\n",
       "      <td>{'C': 10, 'gamma': 0.1, 'kernel': 'rbf'}</td>\n",
       "      <td>{'col': ['reviewTextWithSummary'], 'test_size'...</td>\n",
       "      <td>0.917600</td>\n",
       "    </tr>\n",
       "    <tr>\n",
       "      <th>6</th>\n",
       "      <td>{'C': 10, 'gamma': 0.01, 'kernel': 'rbf'}</td>\n",
       "      <td>{'col': ['reviewTextWithSummary', 'verified'],...</td>\n",
       "      <td>0.914933</td>\n",
       "    </tr>\n",
       "    <tr>\n",
       "      <th>7</th>\n",
       "      <td>{'C': 10, 'gamma': 0.01, 'kernel': 'rbf'}</td>\n",
       "      <td>{'col': ['reviewTextWithSummary'], 'test_size'...</td>\n",
       "      <td>0.914667</td>\n",
       "    </tr>\n",
       "    <tr>\n",
       "      <th>8</th>\n",
       "      <td>{'C': 10, 'gamma': 0.1, 'kernel': 'rbf'}</td>\n",
       "      <td>{'col': ['reviewTextWithSummary'], 'test_size'...</td>\n",
       "      <td>0.914133</td>\n",
       "    </tr>\n",
       "    <tr>\n",
       "      <th>9</th>\n",
       "      <td>{'C': 10, 'gamma': 0.1, 'kernel': 'rbf'}</td>\n",
       "      <td>{'col': ['reviewTextWithSummary'], 'test_size'...</td>\n",
       "      <td>0.913867</td>\n",
       "    </tr>\n",
       "    <tr>\n",
       "      <th>10</th>\n",
       "      <td>{'C': 10, 'gamma': 0.1, 'kernel': 'rbf'}</td>\n",
       "      <td>{'col': ['reviewTextWithSummary', 'verified'],...</td>\n",
       "      <td>0.913600</td>\n",
       "    </tr>\n",
       "    <tr>\n",
       "      <th>11</th>\n",
       "      <td>{'C': 10, 'gamma': 0.01, 'kernel': 'rbf'}</td>\n",
       "      <td>{'col': ['reviewTextWithSummary'], 'test_size'...</td>\n",
       "      <td>0.913600</td>\n",
       "    </tr>\n",
       "    <tr>\n",
       "      <th>12</th>\n",
       "      <td>{'C': 10, 'gamma': 0.01, 'kernel': 'rbf'}</td>\n",
       "      <td>{'col': ['reviewTextWithSummary', 'verified'],...</td>\n",
       "      <td>0.913333</td>\n",
       "    </tr>\n",
       "    <tr>\n",
       "      <th>13</th>\n",
       "      <td>{'C': 100, 'gamma': 0.01, 'kernel': 'rbf'}</td>\n",
       "      <td>{'col': ['reviewTextWithSummary', 'verified'],...</td>\n",
       "      <td>0.913067</td>\n",
       "    </tr>\n",
       "    <tr>\n",
       "      <th>14</th>\n",
       "      <td>{'C': 10, 'gamma': 0.01, 'kernel': 'rbf'}</td>\n",
       "      <td>{'col': ['reviewTextWithSummary', 'verified'],...</td>\n",
       "      <td>0.912267</td>\n",
       "    </tr>\n",
       "    <tr>\n",
       "      <th>15</th>\n",
       "      <td>{'C': 10, 'gamma': 0.01, 'kernel': 'rbf'}</td>\n",
       "      <td>{'col': ['reviewTextWithSummary'], 'test_size'...</td>\n",
       "      <td>0.911733</td>\n",
       "    </tr>\n",
       "    <tr>\n",
       "      <th>16</th>\n",
       "      <td>{'C': 10, 'gamma': 0.1, 'kernel': 'rbf'}</td>\n",
       "      <td>{'col': ['reviewText', 'verified'], 'test_size...</td>\n",
       "      <td>0.900000</td>\n",
       "    </tr>\n",
       "    <tr>\n",
       "      <th>17</th>\n",
       "      <td>{'C': 10, 'gamma': 0.1, 'kernel': 'rbf'}</td>\n",
       "      <td>{'col': ['reviewText'], 'test_size': 0.25, 'pr...</td>\n",
       "      <td>0.898933</td>\n",
       "    </tr>\n",
       "    <tr>\n",
       "      <th>18</th>\n",
       "      <td>{'C': 10, 'gamma': 0.1, 'kernel': 'rbf'}</td>\n",
       "      <td>{'col': ['reviewText', 'verified'], 'test_size...</td>\n",
       "      <td>0.896800</td>\n",
       "    </tr>\n",
       "    <tr>\n",
       "      <th>19</th>\n",
       "      <td>{'C': 10, 'gamma': 0.1, 'kernel': 'rbf'}</td>\n",
       "      <td>{'col': ['reviewText'], 'test_size': 0.25, 'pr...</td>\n",
       "      <td>0.896533</td>\n",
       "    </tr>\n",
       "    <tr>\n",
       "      <th>20</th>\n",
       "      <td>{'C': 10, 'gamma': 0.1, 'kernel': 'rbf'}</td>\n",
       "      <td>{'col': ['reviewText', 'verified'], 'test_size...</td>\n",
       "      <td>0.895467</td>\n",
       "    </tr>\n",
       "    <tr>\n",
       "      <th>21</th>\n",
       "      <td>{'C': 10, 'gamma': 0.1, 'kernel': 'rbf'}</td>\n",
       "      <td>{'col': ['reviewText'], 'test_size': 0.25, 'pr...</td>\n",
       "      <td>0.895200</td>\n",
       "    </tr>\n",
       "    <tr>\n",
       "      <th>22</th>\n",
       "      <td>{'C': 10, 'gamma': 0.1, 'kernel': 'rbf'}</td>\n",
       "      <td>{'col': ['reviewText', 'verified'], 'test_size...</td>\n",
       "      <td>0.894933</td>\n",
       "    </tr>\n",
       "    <tr>\n",
       "      <th>23</th>\n",
       "      <td>{'C': 10, 'gamma': 0.1, 'kernel': 'rbf'}</td>\n",
       "      <td>{'col': ['reviewText'], 'test_size': 0.25, 'pr...</td>\n",
       "      <td>0.893600</td>\n",
       "    </tr>\n",
       "    <tr>\n",
       "      <th>24</th>\n",
       "      <td>{'C': 10, 'gamma': 0.01, 'kernel': 'rbf'}</td>\n",
       "      <td>{'col': ['reviewText'], 'test_size': 0.25, 'pr...</td>\n",
       "      <td>0.892800</td>\n",
       "    </tr>\n",
       "    <tr>\n",
       "      <th>25</th>\n",
       "      <td>{'C': 10, 'gamma': 0.01, 'kernel': 'rbf'}</td>\n",
       "      <td>{'col': ['reviewText', 'verified'], 'test_size...</td>\n",
       "      <td>0.892267</td>\n",
       "    </tr>\n",
       "    <tr>\n",
       "      <th>26</th>\n",
       "      <td>{'C': 10, 'gamma': 0.01, 'kernel': 'rbf'}</td>\n",
       "      <td>{'col': ['reviewText'], 'test_size': 0.25, 'pr...</td>\n",
       "      <td>0.890933</td>\n",
       "    </tr>\n",
       "    <tr>\n",
       "      <th>27</th>\n",
       "      <td>{'C': 10, 'gamma': 0.01, 'kernel': 'rbf'}</td>\n",
       "      <td>{'col': ['reviewText', 'verified'], 'test_size...</td>\n",
       "      <td>0.890933</td>\n",
       "    </tr>\n",
       "    <tr>\n",
       "      <th>28</th>\n",
       "      <td>{'C': 10, 'gamma': 0.01, 'kernel': 'rbf'}</td>\n",
       "      <td>{'col': ['reviewText', 'verified'], 'test_size...</td>\n",
       "      <td>0.890933</td>\n",
       "    </tr>\n",
       "    <tr>\n",
       "      <th>29</th>\n",
       "      <td>{'C': 10, 'gamma': 0.01, 'kernel': 'rbf'}</td>\n",
       "      <td>{'col': ['reviewText'], 'test_size': 0.25, 'pr...</td>\n",
       "      <td>0.890400</td>\n",
       "    </tr>\n",
       "    <tr>\n",
       "      <th>30</th>\n",
       "      <td>{'C': 10, 'gamma': 0.01, 'kernel': 'rbf'}</td>\n",
       "      <td>{'col': ['reviewText'], 'test_size': 0.25, 'pr...</td>\n",
       "      <td>0.889333</td>\n",
       "    </tr>\n",
       "    <tr>\n",
       "      <th>31</th>\n",
       "      <td>{'C': 10, 'gamma': 0.01, 'kernel': 'rbf'}</td>\n",
       "      <td>{'col': ['reviewText', 'verified'], 'test_size...</td>\n",
       "      <td>0.889333</td>\n",
       "    </tr>\n",
       "  </tbody>\n",
       "</table>\n",
       "</div>"
      ],
      "text/plain": [
       "                                        Params  \\\n",
       "0     {'C': 10, 'gamma': 0.1, 'kernel': 'rbf'}   \n",
       "1     {'C': 10, 'gamma': 0.1, 'kernel': 'rbf'}   \n",
       "2    {'C': 10, 'gamma': 0.01, 'kernel': 'rbf'}   \n",
       "3    {'C': 10, 'gamma': 0.01, 'kernel': 'rbf'}   \n",
       "4     {'C': 10, 'gamma': 0.1, 'kernel': 'rbf'}   \n",
       "5     {'C': 10, 'gamma': 0.1, 'kernel': 'rbf'}   \n",
       "6    {'C': 10, 'gamma': 0.01, 'kernel': 'rbf'}   \n",
       "7    {'C': 10, 'gamma': 0.01, 'kernel': 'rbf'}   \n",
       "8     {'C': 10, 'gamma': 0.1, 'kernel': 'rbf'}   \n",
       "9     {'C': 10, 'gamma': 0.1, 'kernel': 'rbf'}   \n",
       "10    {'C': 10, 'gamma': 0.1, 'kernel': 'rbf'}   \n",
       "11   {'C': 10, 'gamma': 0.01, 'kernel': 'rbf'}   \n",
       "12   {'C': 10, 'gamma': 0.01, 'kernel': 'rbf'}   \n",
       "13  {'C': 100, 'gamma': 0.01, 'kernel': 'rbf'}   \n",
       "14   {'C': 10, 'gamma': 0.01, 'kernel': 'rbf'}   \n",
       "15   {'C': 10, 'gamma': 0.01, 'kernel': 'rbf'}   \n",
       "16    {'C': 10, 'gamma': 0.1, 'kernel': 'rbf'}   \n",
       "17    {'C': 10, 'gamma': 0.1, 'kernel': 'rbf'}   \n",
       "18    {'C': 10, 'gamma': 0.1, 'kernel': 'rbf'}   \n",
       "19    {'C': 10, 'gamma': 0.1, 'kernel': 'rbf'}   \n",
       "20    {'C': 10, 'gamma': 0.1, 'kernel': 'rbf'}   \n",
       "21    {'C': 10, 'gamma': 0.1, 'kernel': 'rbf'}   \n",
       "22    {'C': 10, 'gamma': 0.1, 'kernel': 'rbf'}   \n",
       "23    {'C': 10, 'gamma': 0.1, 'kernel': 'rbf'}   \n",
       "24   {'C': 10, 'gamma': 0.01, 'kernel': 'rbf'}   \n",
       "25   {'C': 10, 'gamma': 0.01, 'kernel': 'rbf'}   \n",
       "26   {'C': 10, 'gamma': 0.01, 'kernel': 'rbf'}   \n",
       "27   {'C': 10, 'gamma': 0.01, 'kernel': 'rbf'}   \n",
       "28   {'C': 10, 'gamma': 0.01, 'kernel': 'rbf'}   \n",
       "29   {'C': 10, 'gamma': 0.01, 'kernel': 'rbf'}   \n",
       "30   {'C': 10, 'gamma': 0.01, 'kernel': 'rbf'}   \n",
       "31   {'C': 10, 'gamma': 0.01, 'kernel': 'rbf'}   \n",
       "\n",
       "                                               Config  Accuracy Score  \n",
       "0   {'col': ['reviewTextWithSummary'], 'test_size'...        0.923733  \n",
       "1   {'col': ['reviewTextWithSummary', 'verified'],...        0.922133  \n",
       "2   {'col': ['reviewTextWithSummary'], 'test_size'...        0.919733  \n",
       "3   {'col': ['reviewTextWithSummary', 'verified'],...        0.919733  \n",
       "4   {'col': ['reviewTextWithSummary', 'verified'],...        0.917600  \n",
       "5   {'col': ['reviewTextWithSummary'], 'test_size'...        0.917600  \n",
       "6   {'col': ['reviewTextWithSummary', 'verified'],...        0.914933  \n",
       "7   {'col': ['reviewTextWithSummary'], 'test_size'...        0.914667  \n",
       "8   {'col': ['reviewTextWithSummary'], 'test_size'...        0.914133  \n",
       "9   {'col': ['reviewTextWithSummary'], 'test_size'...        0.913867  \n",
       "10  {'col': ['reviewTextWithSummary', 'verified'],...        0.913600  \n",
       "11  {'col': ['reviewTextWithSummary'], 'test_size'...        0.913600  \n",
       "12  {'col': ['reviewTextWithSummary', 'verified'],...        0.913333  \n",
       "13  {'col': ['reviewTextWithSummary', 'verified'],...        0.913067  \n",
       "14  {'col': ['reviewTextWithSummary', 'verified'],...        0.912267  \n",
       "15  {'col': ['reviewTextWithSummary'], 'test_size'...        0.911733  \n",
       "16  {'col': ['reviewText', 'verified'], 'test_size...        0.900000  \n",
       "17  {'col': ['reviewText'], 'test_size': 0.25, 'pr...        0.898933  \n",
       "18  {'col': ['reviewText', 'verified'], 'test_size...        0.896800  \n",
       "19  {'col': ['reviewText'], 'test_size': 0.25, 'pr...        0.896533  \n",
       "20  {'col': ['reviewText', 'verified'], 'test_size...        0.895467  \n",
       "21  {'col': ['reviewText'], 'test_size': 0.25, 'pr...        0.895200  \n",
       "22  {'col': ['reviewText', 'verified'], 'test_size...        0.894933  \n",
       "23  {'col': ['reviewText'], 'test_size': 0.25, 'pr...        0.893600  \n",
       "24  {'col': ['reviewText'], 'test_size': 0.25, 'pr...        0.892800  \n",
       "25  {'col': ['reviewText', 'verified'], 'test_size...        0.892267  \n",
       "26  {'col': ['reviewText'], 'test_size': 0.25, 'pr...        0.890933  \n",
       "27  {'col': ['reviewText', 'verified'], 'test_size...        0.890933  \n",
       "28  {'col': ['reviewText', 'verified'], 'test_size...        0.890933  \n",
       "29  {'col': ['reviewText'], 'test_size': 0.25, 'pr...        0.890400  \n",
       "30  {'col': ['reviewText'], 'test_size': 0.25, 'pr...        0.889333  \n",
       "31  {'col': ['reviewText', 'verified'], 'test_size...        0.889333  "
      ]
     },
     "metadata": {},
     "output_type": "display_data"
    }
   ],
   "source": [
    "compare_list = compare_list.sort_values(\n",
    "    by=\"Accuracy Score\", ascending=False\n",
    ").reset_index(drop=True)\n",
    "display(compare_list)"
   ]
  },
  {
   "cell_type": "code",
   "execution_count": 100,
   "id": "978517a4",
   "metadata": {},
   "outputs": [],
   "source": [
    "compare_list.to_csv(\"./results/svm_compare_list_small_unbalanced.csv\", index=False)"
   ]
  },
  {
   "cell_type": "code",
   "execution_count": 101,
   "id": "39f24554",
   "metadata": {},
   "outputs": [
    {
     "name": "stdout",
     "output_type": "stream",
     "text": [
      "Best Configuration on small unbalanced dataset\n",
      "Score ::  0.9237333333333333\n",
      "SVC   ::  {'C': 10, 'gamma': 0.1, 'kernel': 'rbf'}\n",
      "data  ::  {'col': ['reviewTextWithSummary'], 'test_size': 0.25, 'proc': None, 'vectorizer': 'tfidf'}\n"
     ]
    }
   ],
   "source": [
    "print(\"Best Configuration on small unbalanced dataset\")\n",
    "print(\"Score :: \", compare_list.loc[0][\"Accuracy Score\"])\n",
    "print(\"SVC   :: \", compare_list.loc[0][\"Params\"])\n",
    "print(\"data  :: \", compare_list.loc[0][\"Config\"])"
   ]
  },
  {
   "cell_type": "markdown",
   "id": "07ae3106",
   "metadata": {},
   "source": [
    "- Across all tests, reviewText with summary performed better than reviewText without summary.\n",
    "- The RBF kernel performed better than the linear kernel in every case with the unbalanced dataset.\n",
    "- The top configuration was as follows:\n",
    "  - Data::\n",
    "    - Columns used: reviewTextWithSummary\n",
    "    - Text preprocessing step: None\n",
    "    - Text vectorizer: tfidf\n",
    "  - SVC:: \n",
    "    - C=10\n",
    "    - gamma=0.1\n",
    "    - kernel=rbf\n",
    "\n"
   ]
  },
  {
   "cell_type": "markdown",
   "id": "c860dbe4",
   "metadata": {},
   "source": [
    "## Comparing the best models from each experiment on the full dataset"
   ]
  },
  {
   "cell_type": "code",
   "execution_count": null,
   "id": "a5a6d766",
   "metadata": {},
   "outputs": [],
   "source": [
    "df_balanced_large = (\n",
    "    df.groupby(\"sentiment\")\n",
    "    .apply(lambda x: x.sample(n=large_n, random_state=random_state, replace=True))\n",
    "    .reset_index(drop=True)\n",
    ")"
   ]
  },
  {
   "cell_type": "code",
   "execution_count": null,
   "id": "cd6aaba0",
   "metadata": {},
   "outputs": [],
   "source": [
    "df_unbalanced_large = df.sample(n=3 * large_n, random_state=random_state, replace=True)"
   ]
  },
  {
   "cell_type": "code",
   "execution_count": null,
   "id": "5ef46f87",
   "metadata": {},
   "outputs": [],
   "source": [
    "svc_balanced_small = SVC(C=1, gamma=1, kernel=\"rbf\")\n",
    "x_balanced_train, x_balanced_test, y_balanced_train, y_balanced_test = pipeline(\n",
    "    [\"reviewTextWithSummary\"], 0.25, None, tfidf, df_balanced_large\n",
    ")\n",
    "svc_balanced_small.fit(x_balanced_train, y_balanced_train)\n",
    "y_balanced_pred = svc_balanced_small.predict(x_balanced_test)\n",
    "print(classification_report(y_balanced_test, y_balanced_pred))\n",
    "accuracy = accuracy_score(y_balanced_test, y_balanced_pred)\n",
    "precision = precision_score(y_balanced_test, y_balanced_pred, average=\"weighted\")\n",
    "recall = recall_score(y_balanced_test, y_balanced_pred, average=\"weighted\")\n",
    "f1 = f1_score(y_balanced_test, y_balanced_pred, average=\"weighted\")"
   ]
  },
  {
   "cell_type": "code",
   "execution_count": 102,
   "id": "df6dec26",
   "metadata": {},
   "outputs": [],
   "source": [
    "svc_unbalanced_small = SVC(C=10, gamma=0.01, kernel=\"rbf\")\n",
    "x_unbalanced_small_train, x_unbalanced_small_test, y_unbalanced_small_train, y_unbalanced_small_test = pipeline(\n",
    "    [\"reviewTextWithSummary\"], 0.25, None, tfidf, df_unbalanced_large\n",
    ")\n",
    "svc_unbalanced_small.fit(x_unbalanced_small_train, y_unbalanced_small_train)\n",
    "y_unbalanced_small_pred = svc_unbalanced_small.predict(x_unbalanced_small_test)\n",
    "print(classification_report(y_unbalanced_small_test, y_unbalanced_small_pred))\n",
    "accuracy = accuracy_score(y_unbalanced_small_test, y_unbalanced_small_pred)\n",
    "precision = precision_score(y_unbalanced_small_test, y_unbalanced_small_pred, average=\"weighted\")\n",
    "recall = recall_score(y_unbalanced_small_test, y_unbalanced_small_pred, average=\"weighted\")\n",
    "f1 = f1_score(y_unbalanced_small_test, y_unbalanced_small_pred, average=\"weighted\")\n",
    "\n",
    "# # %% [markdown]\n",
    "# # Using svc_balanced_small\n",
    "#\n",
    "# # %%\n",
    "# x_train, x_test, y_train, y_test = my_train_test_split([\"reviewTextWithSummary\"], 0.25, df, random_state)\n",
    "# vectorizer = TfidfVectorizer()\n",
    "# x_train = vectorizer.fit_transform(x_train)\n",
    "# x_test = vectorizer.transform(x_test)"
   ]
  }
 ],
 "metadata": {
  "kernelspec": {
   "display_name": "Python 3 (ipykernel)",
   "language": "python",
   "name": "python3"
  },
  "language_info": {
   "codemirror_mode": {
    "name": "ipython",
    "version": 3
   },
   "file_extension": ".py",
   "mimetype": "text/x-python",
   "name": "python",
   "nbconvert_exporter": "python",
   "pygments_lexer": "ipython3",
   "version": "3.10.12"
  }
 },
 "nbformat": 4,
 "nbformat_minor": 5
}
