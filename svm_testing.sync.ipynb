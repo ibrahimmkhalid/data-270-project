{
 "cells": [
  {
   "cell_type": "code",
   "execution_count": null,
   "id": "4a0089b1",
   "metadata": {},
   "outputs": [],
   "source": [
    "import pandas as pd\n",
    "import nltk\n",
    "import re\n",
    "import random\n",
    "import numpy as np\n",
    "from nltk.stem import PorterStemmer, WordNetLemmatizer\n",
    "from sklearn.model_selection import train_test_split\n",
    "from sklearn.feature_extraction.text import TfidfVectorizer, CountVectorizer\n",
    "from sklearn.svm import SVC\n",
    "from sklearn.metrics import (\n",
    "    classification_report,\n",
    "    accuracy_score,\n",
    "    f1_score,\n",
    "    precision_score,\n",
    "    recall_score,\n",
    ")\n",
    "from sklearn.model_selection import GridSearchCV\n",
    "from nltk.corpus import stopwords\n",
    "from scipy.sparse import hstack\n",
    "\n",
    "nltk.download(\"punkt\")\n",
    "nltk.download(\"stopwords\")\n",
    "nltk.download(\"wordnet\")"
   ]
  },
  {
   "cell_type": "code",
   "execution_count": null,
   "id": "7abc39e7",
   "metadata": {},
   "outputs": [],
   "source": [
    "baseline = \"baseline\"\n",
    "stem = \"stem\"\n",
    "lem = \"lem\"\n",
    "bow = \"bow\"\n",
    "tfidf = \"tfidf\"\n",
    "random_state = 42\n",
    "small_n = 5000\n",
    "large_n = 40000\n",
    "random.seed(random_state)\n",
    "data_path = \"./data/combined.csv\""
   ]
  },
  {
   "cell_type": "markdown",
   "id": "275246d9",
   "metadata": {},
   "source": [
    "# EDA and simple preprocessing"
   ]
  },
  {
   "cell_type": "code",
   "execution_count": null,
   "id": "659411f8",
   "metadata": {},
   "outputs": [],
   "source": [
    "df = pd.read_csv(data_path, low_memory=False)\n",
    "print(df.isna().sum() / len(df) * 100)"
   ]
  },
  {
   "cell_type": "code",
   "execution_count": null,
   "id": "91610b45",
   "metadata": {},
   "outputs": [],
   "source": [
    "print(df.isna().sum())"
   ]
  },
  {
   "cell_type": "code",
   "execution_count": null,
   "id": "aed7e73b",
   "metadata": {},
   "outputs": [],
   "source": [
    "shpae = df.shape\n",
    "print(df.isna().sum().sum() / (shpae[0] * shpae[1]) * 100)"
   ]
  },
  {
   "cell_type": "code",
   "execution_count": null,
   "id": "63c344f7",
   "metadata": {},
   "outputs": [],
   "source": [
    "df.head()"
   ]
  },
  {
   "cell_type": "code",
   "execution_count": null,
   "id": "bd8cb098",
   "metadata": {},
   "outputs": [],
   "source": [
    "df = df[[\"overall\", \"reviewText\", \"summary\", \"verified\"]]"
   ]
  },
  {
   "cell_type": "code",
   "execution_count": null,
   "id": "c8406fde",
   "metadata": {},
   "outputs": [],
   "source": [
    "print(df.isna().sum() / len(df) * 100)"
   ]
  },
  {
   "cell_type": "code",
   "execution_count": null,
   "id": "44456fba",
   "metadata": {},
   "outputs": [],
   "source": [
    "df = df.dropna()"
   ]
  },
  {
   "cell_type": "code",
   "execution_count": null,
   "id": "aba2c603",
   "metadata": {
    "scrolled": true
   },
   "outputs": [],
   "source": [
    "print(df.isna().sum() / len(df) * 100)"
   ]
  },
  {
   "cell_type": "code",
   "execution_count": null,
   "id": "3321b122",
   "metadata": {},
   "outputs": [],
   "source": [
    "df[\"sentiment\"] = df[\"overall\"].apply(lambda x: 1 if x > 3 else -1 if x < 3 else 0)\n",
    "df[\"reviewTextWithSummary\"] = df[\"summary\"] + \" \" + df[\"reviewText\"]\n",
    "df.drop([\"overall\", \"summary\"], axis=1, inplace=True)\n",
    "df.head()"
   ]
  },
  {
   "cell_type": "code",
   "execution_count": null,
   "id": "3fbace13",
   "metadata": {},
   "outputs": [],
   "source": [
    "df[\"sentiment\"].value_counts()"
   ]
  },
  {
   "cell_type": "code",
   "execution_count": null,
   "id": "6dd5e0a9",
   "metadata": {},
   "outputs": [],
   "source": [
    "df.head()"
   ]
  },
  {
   "cell_type": "markdown",
   "id": "f57e7bdc",
   "metadata": {},
   "source": [
    "# Model experimentation"
   ]
  },
  {
   "cell_type": "code",
   "execution_count": null,
   "id": "a98d2c13",
   "metadata": {},
   "outputs": [],
   "source": [
    "df_balanced_small = (\n",
    "    df.groupby(\"sentiment\")\n",
    "    .apply(lambda x: x.sample(n=small_n, random_state=random_state, replace=True))\n",
    "    .reset_index(drop=True)\n",
    ")\n",
    "df_balanced_small[\"sentiment\"].value_counts()"
   ]
  },
  {
   "cell_type": "code",
   "execution_count": null,
   "id": "128a6242",
   "metadata": {},
   "outputs": [],
   "source": [
    "df_balanced_small.head()"
   ]
  },
  {
   "cell_type": "code",
   "execution_count": null,
   "id": "c6d3a442",
   "metadata": {},
   "outputs": [],
   "source": [
    "STOP_WORDS = set(stopwords.words(\"english\"))"
   ]
  },
  {
   "cell_type": "code",
   "execution_count": null,
   "id": "e24c7eb7",
   "metadata": {},
   "outputs": [],
   "source": [
    "def preprocess_text(sentence, stop, type_proc=None):\n",
    "    words = []\n",
    "    for word in sentence.lower().strip().split():\n",
    "\n",
    "        word = re.sub(\"\\d\", \"\", word)\n",
    "        word = re.sub(\"[^\\w\\s]\", \"\", word)\n",
    "\n",
    "        if word not in stop and word != \"\":\n",
    "            words.append(preprocess_type(word, type_proc))\n",
    "\n",
    "    return \" \".join(words)"
   ]
  },
  {
   "cell_type": "code",
   "execution_count": null,
   "id": "83b1d6e3",
   "metadata": {},
   "outputs": [],
   "source": [
    "def preprocess_type(word, type_proc):\n",
    "    if type_proc == baseline:\n",
    "        return word\n",
    "    elif type_proc == stem:\n",
    "        return PorterStemmer().stem(word)\n",
    "    elif type_proc == lem:\n",
    "        return WordNetLemmatizer().lemmatize(word)\n",
    "    else:\n",
    "        raise ValueError(\"Invalid Preprocessing Type\")"
   ]
  },
  {
   "cell_type": "code",
   "execution_count": null,
   "id": "a4dc149e",
   "metadata": {},
   "outputs": [],
   "source": [
    "def my_train_test_split(cols, test_size, df=df, random_state=random_state):\n",
    "    x_train, x_test, y_train, y_test = train_test_split(\n",
    "        df[cols], df[\"sentiment\"], test_size=test_size, random_state=random_state\n",
    "    )\n",
    "    return x_train, x_test, y_train, y_test"
   ]
  },
  {
   "cell_type": "code",
   "execution_count": null,
   "id": "c5f55ddf",
   "metadata": {},
   "outputs": [],
   "source": [
    "def apply_preprocessing(proc, x_train, x_test):\n",
    "    if proc is None:\n",
    "        return x_train, x_test\n",
    "    cols = x_train.columns\n",
    "\n",
    "    textcol = \"reviewText\"\n",
    "    if \"reviewText\" not in cols and \"reviewTextWithSummary\" in cols:\n",
    "        textcol = \"reviewTextWithSummary\"\n",
    "    x_train[textcol] = x_train[textcol].apply(\n",
    "        lambda x: preprocess_text(x, STOP_WORDS, proc)\n",
    "    )\n",
    "    x_test[textcol] = x_test[textcol].apply(\n",
    "        lambda x: preprocess_text(x, STOP_WORDS, proc)\n",
    "    )\n",
    "    return x_train, x_test"
   ]
  },
  {
   "cell_type": "code",
   "execution_count": null,
   "id": "d2c21d45",
   "metadata": {},
   "outputs": [],
   "source": [
    "def add_col(x, col):\n",
    "    col = np.array([col]).T\n",
    "    return hstack([x, col])"
   ]
  },
  {
   "cell_type": "code",
   "execution_count": null,
   "id": "c1687cbf",
   "metadata": {},
   "outputs": [],
   "source": [
    "def pipeline(cols, test_size, proc, vectorizer, df=df, random_state=random_state):\n",
    "    if \"reviewText\" not in cols and \"reviewTextWithSummary\" not in cols:\n",
    "        raise ValueError(\"Must contain reviewText or reviewTextWithSummary\")\n",
    "\n",
    "    textcol = \"reviewText\"\n",
    "    if \"reviewText\" not in cols and \"reviewTextWithSummary\" in cols:\n",
    "        textcol = \"reviewTextWithSummary\"\n",
    "    x_train, x_test, y_train, y_test = my_train_test_split(\n",
    "        cols, test_size, df, random_state\n",
    "    )\n",
    "    x_train, x_test = apply_preprocessing(proc, x_train, x_test)\n",
    "    if vectorizer == bow:\n",
    "        vectorizer = CountVectorizer()\n",
    "    elif vectorizer == tfidf:\n",
    "        vectorizer = TfidfVectorizer()\n",
    "    else:\n",
    "        raise ValueError(\"Invalid Vectorizer\")\n",
    "    x_train_ = vectorizer.fit_transform(x_train[textcol])\n",
    "    x_test_ = vectorizer.transform(x_test[textcol])\n",
    "    \n",
    "    if \"verified\" in cols:\n",
    "        x_train = add_col(x_train_, x_train[\"verified\"])\n",
    "        x_test = add_col(x_test_, x_test[\"verified\"])\n",
    "    else:\n",
    "        x_train = x_train_\n",
    "        x_test = x_test_\n",
    "    return x_train, x_test, y_train, y_test"
   ]
  },
  {
   "cell_type": "markdown",
   "id": "7b6539f9",
   "metadata": {},
   "source": [
    "## Small Balanced Dataset"
   ]
  },
  {
   "cell_type": "code",
   "execution_count": null,
   "id": "d66ed88b",
   "metadata": {},
   "outputs": [],
   "source": [
    "param_grid = {\n",
    "    \"C\": [0.1, 1, 10, 100, 1000],\n",
    "    \"gamma\": [1, 0.1, 0.01, 0.001, 0.0001],\n",
    "    \"kernel\": [\"rbf\", \"linear\"],\n",
    "}\n",
    "n_jobs = -1\n",
    "verbose = 0\n",
    "cv = 3"
   ]
  },
  {
   "cell_type": "code",
   "execution_count": null,
   "id": "127f4f84",
   "metadata": {},
   "outputs": [],
   "source": [
    "compare_list = pd.DataFrame(columns=[\"Params\", \"Config\", \"Accuracy Score\"])"
   ]
  },
  {
   "cell_type": "code",
   "execution_count": null,
   "id": "fd80adab",
   "metadata": {},
   "outputs": [],
   "source": [
    "code_gen = False\n",
    "col_comb = [\n",
    "    [\"reviewText\"],\n",
    "    [\"reviewText\", \"verified\"],\n",
    "    [\"reviewTextWithSummary\"],\n",
    "    [\"reviewTextWithSummary\", \"verified\"],\n",
    "]\n",
    "proc_comb = [None, baseline, stem, lem]\n",
    "vectorizer_comb = [bow, tfidf]\n",
    "if code_gen:\n",
    "    for col in col_comb:\n",
    "        for proc in proc_comb:\n",
    "            for vectorizer in vectorizer_comb:\n",
    "                params = {\n",
    "                    \"col\": col,\n",
    "                    \"test_size\": 0.25,\n",
    "                    \"proc\": proc,\n",
    "                    \"vectorizer\": vectorizer,\n",
    "                }\n",
    "                print(\n",
    "                    f\"\"\"\n",
    "# %%\n",
    "x_train, x_test, y_train, y_test = pipeline({col}, 0.25, {proc}, {vectorizer}, df_balanced_small)\n",
    "grid = GridSearchCV(SVC(), param_grid, refit=True, verbose=verbose, n_jobs=n_jobs, cv=cv)\n",
    "grid.fit(x_train, y_train)\n",
    "y_pred = grid.predict(x_test)\n",
    "print(classification_report(y_test, y_pred))\n",
    "accuracy = grid.score(x_test, y_test)\n",
    "compare_list.loc[len(compare_list)] = [grid.best_params_, {params}, accuracy]\n",
    "\"\"\"\n",
    "                )"
   ]
  },
  {
   "cell_type": "code",
   "execution_count": null,
   "id": "4a550869",
   "metadata": {},
   "outputs": [],
   "source": [
    "# below is code genderated by above cell, to make changes to the code, edit the\n",
    "# above cell and run it, pasting its contents between the markers"
   ]
  },
  {
   "cell_type": "code",
   "execution_count": null,
   "id": "2b3f056a",
   "metadata": {},
   "outputs": [],
   "source": [
    "####### START OF GENERATED CODE #######\n",
    "x_train, x_test, y_train, y_test = pipeline(['reviewText'], 0.25, None, bow, df_balanced_small)\n",
    "grid = GridSearchCV(SVC(), param_grid, refit=True, verbose=verbose, n_jobs=n_jobs, cv=cv)\n",
    "grid.fit(x_train, y_train)\n",
    "y_pred = grid.predict(x_test)\n",
    "print(classification_report(y_test, y_pred))\n",
    "accuracy = grid.score(x_test, y_test)\n",
    "compare_list.loc[len(compare_list)] = [grid.best_params_, {'col': ['reviewText'], 'test_size': 0.25, 'proc': None, 'vectorizer': 'bow'}, accuracy]"
   ]
  },
  {
   "cell_type": "code",
   "execution_count": null,
   "id": "d9a3bb11",
   "metadata": {},
   "outputs": [],
   "source": [
    "x_train, x_test, y_train, y_test = pipeline(['reviewText'], 0.25, None, tfidf, df_balanced_small)\n",
    "grid = GridSearchCV(SVC(), param_grid, refit=True, verbose=verbose, n_jobs=n_jobs, cv=cv)\n",
    "grid.fit(x_train, y_train)\n",
    "y_pred = grid.predict(x_test)\n",
    "print(classification_report(y_test, y_pred))\n",
    "accuracy = grid.score(x_test, y_test)\n",
    "compare_list.loc[len(compare_list)] = [grid.best_params_, {'col': ['reviewText'], 'test_size': 0.25, 'proc': None, 'vectorizer': 'tfidf'}, accuracy]"
   ]
  },
  {
   "cell_type": "code",
   "execution_count": null,
   "id": "1ca7c0e9",
   "metadata": {},
   "outputs": [],
   "source": [
    "x_train, x_test, y_train, y_test = pipeline(['reviewText'], 0.25, baseline, bow, df_balanced_small)\n",
    "grid = GridSearchCV(SVC(), param_grid, refit=True, verbose=verbose, n_jobs=n_jobs, cv=cv)\n",
    "grid.fit(x_train, y_train)\n",
    "y_pred = grid.predict(x_test)\n",
    "print(classification_report(y_test, y_pred))\n",
    "accuracy = grid.score(x_test, y_test)\n",
    "compare_list.loc[len(compare_list)] = [grid.best_params_, {'col': ['reviewText'], 'test_size': 0.25, 'proc': 'baseline', 'vectorizer': 'bow'}, accuracy]"
   ]
  },
  {
   "cell_type": "code",
   "execution_count": null,
   "id": "08d70fb9",
   "metadata": {},
   "outputs": [],
   "source": [
    "x_train, x_test, y_train, y_test = pipeline(['reviewText'], 0.25, baseline, tfidf, df_balanced_small)\n",
    "grid = GridSearchCV(SVC(), param_grid, refit=True, verbose=verbose, n_jobs=n_jobs, cv=cv)\n",
    "grid.fit(x_train, y_train)\n",
    "y_pred = grid.predict(x_test)\n",
    "print(classification_report(y_test, y_pred))\n",
    "accuracy = grid.score(x_test, y_test)\n",
    "compare_list.loc[len(compare_list)] = [grid.best_params_, {'col': ['reviewText'], 'test_size': 0.25, 'proc': 'baseline', 'vectorizer': 'tfidf'}, accuracy]"
   ]
  },
  {
   "cell_type": "code",
   "execution_count": null,
   "id": "f7c52848",
   "metadata": {},
   "outputs": [],
   "source": [
    "x_train, x_test, y_train, y_test = pipeline(['reviewText'], 0.25, stem, bow, df_balanced_small)\n",
    "grid = GridSearchCV(SVC(), param_grid, refit=True, verbose=verbose, n_jobs=n_jobs, cv=cv)\n",
    "grid.fit(x_train, y_train)\n",
    "y_pred = grid.predict(x_test)\n",
    "print(classification_report(y_test, y_pred))\n",
    "accuracy = grid.score(x_test, y_test)\n",
    "compare_list.loc[len(compare_list)] = [grid.best_params_, {'col': ['reviewText'], 'test_size': 0.25, 'proc': 'stem', 'vectorizer': 'bow'}, accuracy]"
   ]
  },
  {
   "cell_type": "code",
   "execution_count": null,
   "id": "f373e118",
   "metadata": {},
   "outputs": [],
   "source": [
    "x_train, x_test, y_train, y_test = pipeline(['reviewText'], 0.25, stem, tfidf, df_balanced_small)\n",
    "grid = GridSearchCV(SVC(), param_grid, refit=True, verbose=verbose, n_jobs=n_jobs, cv=cv)\n",
    "grid.fit(x_train, y_train)\n",
    "y_pred = grid.predict(x_test)\n",
    "print(classification_report(y_test, y_pred))\n",
    "accuracy = grid.score(x_test, y_test)\n",
    "compare_list.loc[len(compare_list)] = [grid.best_params_, {'col': ['reviewText'], 'test_size': 0.25, 'proc': 'stem', 'vectorizer': 'tfidf'}, accuracy]"
   ]
  },
  {
   "cell_type": "code",
   "execution_count": null,
   "id": "61ec9b62",
   "metadata": {},
   "outputs": [],
   "source": [
    "x_train, x_test, y_train, y_test = pipeline(['reviewText'], 0.25, lem, bow, df_balanced_small)\n",
    "grid = GridSearchCV(SVC(), param_grid, refit=True, verbose=verbose, n_jobs=n_jobs, cv=cv)\n",
    "grid.fit(x_train, y_train)\n",
    "y_pred = grid.predict(x_test)\n",
    "print(classification_report(y_test, y_pred))\n",
    "accuracy = grid.score(x_test, y_test)\n",
    "compare_list.loc[len(compare_list)] = [grid.best_params_, {'col': ['reviewText'], 'test_size': 0.25, 'proc': 'lem', 'vectorizer': 'bow'}, accuracy]"
   ]
  },
  {
   "cell_type": "code",
   "execution_count": null,
   "id": "c0c58b32",
   "metadata": {},
   "outputs": [],
   "source": [
    "x_train, x_test, y_train, y_test = pipeline(['reviewText'], 0.25, lem, tfidf, df_balanced_small)\n",
    "grid = GridSearchCV(SVC(), param_grid, refit=True, verbose=verbose, n_jobs=n_jobs, cv=cv)\n",
    "grid.fit(x_train, y_train)\n",
    "y_pred = grid.predict(x_test)\n",
    "print(classification_report(y_test, y_pred))\n",
    "accuracy = grid.score(x_test, y_test)\n",
    "compare_list.loc[len(compare_list)] = [grid.best_params_, {'col': ['reviewText'], 'test_size': 0.25, 'proc': 'lem', 'vectorizer': 'tfidf'}, accuracy]"
   ]
  },
  {
   "cell_type": "code",
   "execution_count": null,
   "id": "425a73bc",
   "metadata": {},
   "outputs": [],
   "source": [
    "x_train, x_test, y_train, y_test = pipeline(['reviewText', 'verified'], 0.25, None, bow, df_balanced_small)\n",
    "grid = GridSearchCV(SVC(), param_grid, refit=True, verbose=verbose, n_jobs=n_jobs, cv=cv)\n",
    "grid.fit(x_train, y_train)\n",
    "y_pred = grid.predict(x_test)\n",
    "print(classification_report(y_test, y_pred))\n",
    "accuracy = grid.score(x_test, y_test)\n",
    "compare_list.loc[len(compare_list)] = [grid.best_params_, {'col': ['reviewText', 'verified'], 'test_size': 0.25, 'proc': None, 'vectorizer': 'bow'}, accuracy]"
   ]
  },
  {
   "cell_type": "code",
   "execution_count": null,
   "id": "10af055d",
   "metadata": {},
   "outputs": [],
   "source": [
    "x_train, x_test, y_train, y_test = pipeline(['reviewText', 'verified'], 0.25, None, tfidf, df_balanced_small)\n",
    "grid = GridSearchCV(SVC(), param_grid, refit=True, verbose=verbose, n_jobs=n_jobs, cv=cv)\n",
    "grid.fit(x_train, y_train)\n",
    "y_pred = grid.predict(x_test)\n",
    "print(classification_report(y_test, y_pred))\n",
    "accuracy = grid.score(x_test, y_test)\n",
    "compare_list.loc[len(compare_list)] = [grid.best_params_, {'col': ['reviewText', 'verified'], 'test_size': 0.25, 'proc': None, 'vectorizer': 'tfidf'}, accuracy]"
   ]
  },
  {
   "cell_type": "code",
   "execution_count": null,
   "id": "56fd2536",
   "metadata": {},
   "outputs": [],
   "source": [
    "x_train, x_test, y_train, y_test = pipeline(['reviewText', 'verified'], 0.25, baseline, bow, df_balanced_small)\n",
    "grid = GridSearchCV(SVC(), param_grid, refit=True, verbose=verbose, n_jobs=n_jobs, cv=cv)\n",
    "grid.fit(x_train, y_train)\n",
    "y_pred = grid.predict(x_test)\n",
    "print(classification_report(y_test, y_pred))\n",
    "accuracy = grid.score(x_test, y_test)\n",
    "compare_list.loc[len(compare_list)] = [grid.best_params_, {'col': ['reviewText', 'verified'], 'test_size': 0.25, 'proc': 'baseline', 'vectorizer': 'bow'}, accuracy]"
   ]
  },
  {
   "cell_type": "code",
   "execution_count": null,
   "id": "f73f9ce3",
   "metadata": {},
   "outputs": [],
   "source": [
    "x_train, x_test, y_train, y_test = pipeline(['reviewText', 'verified'], 0.25, baseline, tfidf, df_balanced_small)\n",
    "grid = GridSearchCV(SVC(), param_grid, refit=True, verbose=verbose, n_jobs=n_jobs, cv=cv)\n",
    "grid.fit(x_train, y_train)\n",
    "y_pred = grid.predict(x_test)\n",
    "print(classification_report(y_test, y_pred))\n",
    "accuracy = grid.score(x_test, y_test)\n",
    "compare_list.loc[len(compare_list)] = [grid.best_params_, {'col': ['reviewText', 'verified'], 'test_size': 0.25, 'proc': 'baseline', 'vectorizer': 'tfidf'}, accuracy]"
   ]
  },
  {
   "cell_type": "code",
   "execution_count": null,
   "id": "1a6d680f",
   "metadata": {},
   "outputs": [],
   "source": [
    "x_train, x_test, y_train, y_test = pipeline(['reviewText', 'verified'], 0.25, stem, bow, df_balanced_small)\n",
    "grid = GridSearchCV(SVC(), param_grid, refit=True, verbose=verbose, n_jobs=n_jobs, cv=cv)\n",
    "grid.fit(x_train, y_train)\n",
    "y_pred = grid.predict(x_test)\n",
    "print(classification_report(y_test, y_pred))\n",
    "accuracy = grid.score(x_test, y_test)\n",
    "compare_list.loc[len(compare_list)] = [grid.best_params_, {'col': ['reviewText', 'verified'], 'test_size': 0.25, 'proc': 'stem', 'vectorizer': 'bow'}, accuracy]"
   ]
  },
  {
   "cell_type": "code",
   "execution_count": null,
   "id": "90d6ca82",
   "metadata": {},
   "outputs": [],
   "source": [
    "x_train, x_test, y_train, y_test = pipeline(['reviewText', 'verified'], 0.25, stem, tfidf, df_balanced_small)\n",
    "grid = GridSearchCV(SVC(), param_grid, refit=True, verbose=verbose, n_jobs=n_jobs, cv=cv)\n",
    "grid.fit(x_train, y_train)\n",
    "y_pred = grid.predict(x_test)\n",
    "print(classification_report(y_test, y_pred))\n",
    "accuracy = grid.score(x_test, y_test)\n",
    "compare_list.loc[len(compare_list)] = [grid.best_params_, {'col': ['reviewText', 'verified'], 'test_size': 0.25, 'proc': 'stem', 'vectorizer': 'tfidf'}, accuracy]"
   ]
  },
  {
   "cell_type": "code",
   "execution_count": null,
   "id": "0bbb3ed4",
   "metadata": {},
   "outputs": [],
   "source": [
    "x_train, x_test, y_train, y_test = pipeline(['reviewText', 'verified'], 0.25, lem, bow, df_balanced_small)\n",
    "grid = GridSearchCV(SVC(), param_grid, refit=True, verbose=verbose, n_jobs=n_jobs, cv=cv)\n",
    "grid.fit(x_train, y_train)\n",
    "y_pred = grid.predict(x_test)\n",
    "print(classification_report(y_test, y_pred))\n",
    "accuracy = grid.score(x_test, y_test)\n",
    "compare_list.loc[len(compare_list)] = [grid.best_params_, {'col': ['reviewText', 'verified'], 'test_size': 0.25, 'proc': 'lem', 'vectorizer': 'bow'}, accuracy]"
   ]
  },
  {
   "cell_type": "code",
   "execution_count": null,
   "id": "39b6deec",
   "metadata": {},
   "outputs": [],
   "source": [
    "x_train, x_test, y_train, y_test = pipeline(['reviewText', 'verified'], 0.25, lem, tfidf, df_balanced_small)\n",
    "grid = GridSearchCV(SVC(), param_grid, refit=True, verbose=verbose, n_jobs=n_jobs, cv=cv)\n",
    "grid.fit(x_train, y_train)\n",
    "y_pred = grid.predict(x_test)\n",
    "print(classification_report(y_test, y_pred))\n",
    "accuracy = grid.score(x_test, y_test)\n",
    "compare_list.loc[len(compare_list)] = [grid.best_params_, {'col': ['reviewText', 'verified'], 'test_size': 0.25, 'proc': 'lem', 'vectorizer': 'tfidf'}, accuracy]"
   ]
  },
  {
   "cell_type": "code",
   "execution_count": null,
   "id": "ff77f8d6",
   "metadata": {},
   "outputs": [],
   "source": [
    "x_train, x_test, y_train, y_test = pipeline(['reviewTextWithSummary'], 0.25, None, bow, df_balanced_small)\n",
    "grid = GridSearchCV(SVC(), param_grid, refit=True, verbose=verbose, n_jobs=n_jobs, cv=cv)\n",
    "grid.fit(x_train, y_train)\n",
    "y_pred = grid.predict(x_test)\n",
    "print(classification_report(y_test, y_pred))\n",
    "accuracy = grid.score(x_test, y_test)\n",
    "compare_list.loc[len(compare_list)] = [grid.best_params_, {'col': ['reviewTextWithSummary'], 'test_size': 0.25, 'proc': None, 'vectorizer': 'bow'}, accuracy]"
   ]
  },
  {
   "cell_type": "code",
   "execution_count": null,
   "id": "bc45db27",
   "metadata": {},
   "outputs": [],
   "source": [
    "x_train, x_test, y_train, y_test = pipeline(['reviewTextWithSummary'], 0.25, None, tfidf, df_balanced_small)\n",
    "grid = GridSearchCV(SVC(), param_grid, refit=True, verbose=verbose, n_jobs=n_jobs, cv=cv)\n",
    "grid.fit(x_train, y_train)\n",
    "y_pred = grid.predict(x_test)\n",
    "print(classification_report(y_test, y_pred))\n",
    "accuracy = grid.score(x_test, y_test)\n",
    "compare_list.loc[len(compare_list)] = [grid.best_params_, {'col': ['reviewTextWithSummary'], 'test_size': 0.25, 'proc': None, 'vectorizer': 'tfidf'}, accuracy]"
   ]
  },
  {
   "cell_type": "code",
   "execution_count": null,
   "id": "e214d850",
   "metadata": {},
   "outputs": [],
   "source": [
    "x_train, x_test, y_train, y_test = pipeline(['reviewTextWithSummary'], 0.25, baseline, bow, df_balanced_small)\n",
    "grid = GridSearchCV(SVC(), param_grid, refit=True, verbose=verbose, n_jobs=n_jobs, cv=cv)\n",
    "grid.fit(x_train, y_train)\n",
    "y_pred = grid.predict(x_test)\n",
    "print(classification_report(y_test, y_pred))\n",
    "accuracy = grid.score(x_test, y_test)\n",
    "compare_list.loc[len(compare_list)] = [grid.best_params_, {'col': ['reviewTextWithSummary'], 'test_size': 0.25, 'proc': 'baseline', 'vectorizer': 'bow'}, accuracy]"
   ]
  },
  {
   "cell_type": "code",
   "execution_count": null,
   "id": "361bc934",
   "metadata": {},
   "outputs": [],
   "source": [
    "x_train, x_test, y_train, y_test = pipeline(['reviewTextWithSummary'], 0.25, baseline, tfidf, df_balanced_small)\n",
    "grid = GridSearchCV(SVC(), param_grid, refit=True, verbose=verbose, n_jobs=n_jobs, cv=cv)\n",
    "grid.fit(x_train, y_train)\n",
    "y_pred = grid.predict(x_test)\n",
    "print(classification_report(y_test, y_pred))\n",
    "accuracy = grid.score(x_test, y_test)\n",
    "compare_list.loc[len(compare_list)] = [grid.best_params_, {'col': ['reviewTextWithSummary'], 'test_size': 0.25, 'proc': 'baseline', 'vectorizer': 'tfidf'}, accuracy]"
   ]
  },
  {
   "cell_type": "code",
   "execution_count": null,
   "id": "89a715d6",
   "metadata": {},
   "outputs": [],
   "source": [
    "x_train, x_test, y_train, y_test = pipeline(['reviewTextWithSummary'], 0.25, stem, bow, df_balanced_small)\n",
    "grid = GridSearchCV(SVC(), param_grid, refit=True, verbose=verbose, n_jobs=n_jobs, cv=cv)\n",
    "grid.fit(x_train, y_train)\n",
    "y_pred = grid.predict(x_test)\n",
    "print(classification_report(y_test, y_pred))\n",
    "accuracy = grid.score(x_test, y_test)\n",
    "compare_list.loc[len(compare_list)] = [grid.best_params_, {'col': ['reviewTextWithSummary'], 'test_size': 0.25, 'proc': 'stem', 'vectorizer': 'bow'}, accuracy]"
   ]
  },
  {
   "cell_type": "code",
   "execution_count": null,
   "id": "bb8f00ed",
   "metadata": {},
   "outputs": [],
   "source": [
    "x_train, x_test, y_train, y_test = pipeline(['reviewTextWithSummary'], 0.25, stem, tfidf, df_balanced_small)\n",
    "grid = GridSearchCV(SVC(), param_grid, refit=True, verbose=verbose, n_jobs=n_jobs, cv=cv)\n",
    "grid.fit(x_train, y_train)\n",
    "y_pred = grid.predict(x_test)\n",
    "print(classification_report(y_test, y_pred))\n",
    "accuracy = grid.score(x_test, y_test)\n",
    "compare_list.loc[len(compare_list)] = [grid.best_params_, {'col': ['reviewTextWithSummary'], 'test_size': 0.25, 'proc': 'stem', 'vectorizer': 'tfidf'}, accuracy]"
   ]
  },
  {
   "cell_type": "code",
   "execution_count": null,
   "id": "e215e516",
   "metadata": {},
   "outputs": [],
   "source": [
    "x_train, x_test, y_train, y_test = pipeline(['reviewTextWithSummary'], 0.25, lem, bow, df_balanced_small)\n",
    "grid = GridSearchCV(SVC(), param_grid, refit=True, verbose=verbose, n_jobs=n_jobs, cv=cv)\n",
    "grid.fit(x_train, y_train)\n",
    "y_pred = grid.predict(x_test)\n",
    "print(classification_report(y_test, y_pred))\n",
    "accuracy = grid.score(x_test, y_test)\n",
    "compare_list.loc[len(compare_list)] = [grid.best_params_, {'col': ['reviewTextWithSummary'], 'test_size': 0.25, 'proc': 'lem', 'vectorizer': 'bow'}, accuracy]"
   ]
  },
  {
   "cell_type": "code",
   "execution_count": null,
   "id": "c848f1f2",
   "metadata": {},
   "outputs": [],
   "source": [
    "x_train, x_test, y_train, y_test = pipeline(['reviewTextWithSummary'], 0.25, lem, tfidf, df_balanced_small)\n",
    "grid = GridSearchCV(SVC(), param_grid, refit=True, verbose=verbose, n_jobs=n_jobs, cv=cv)\n",
    "grid.fit(x_train, y_train)\n",
    "y_pred = grid.predict(x_test)\n",
    "print(classification_report(y_test, y_pred))\n",
    "accuracy = grid.score(x_test, y_test)\n",
    "compare_list.loc[len(compare_list)] = [grid.best_params_, {'col': ['reviewTextWithSummary'], 'test_size': 0.25, 'proc': 'lem', 'vectorizer': 'tfidf'}, accuracy]"
   ]
  },
  {
   "cell_type": "code",
   "execution_count": null,
   "id": "494df2d0",
   "metadata": {},
   "outputs": [],
   "source": [
    "x_train, x_test, y_train, y_test = pipeline(['reviewTextWithSummary', 'verified'], 0.25, None, bow, df_balanced_small)\n",
    "grid = GridSearchCV(SVC(), param_grid, refit=True, verbose=verbose, n_jobs=n_jobs, cv=cv)\n",
    "grid.fit(x_train, y_train)\n",
    "y_pred = grid.predict(x_test)\n",
    "print(classification_report(y_test, y_pred))\n",
    "accuracy = grid.score(x_test, y_test)\n",
    "compare_list.loc[len(compare_list)] = [grid.best_params_, {'col': ['reviewTextWithSummary', 'verified'], 'test_size': 0.25, 'proc': None, 'vectorizer': 'bow'}, accuracy]"
   ]
  },
  {
   "cell_type": "code",
   "execution_count": null,
   "id": "37520614",
   "metadata": {},
   "outputs": [],
   "source": [
    "x_train, x_test, y_train, y_test = pipeline(['reviewTextWithSummary', 'verified'], 0.25, None, tfidf, df_balanced_small)\n",
    "grid = GridSearchCV(SVC(), param_grid, refit=True, verbose=verbose, n_jobs=n_jobs, cv=cv)\n",
    "grid.fit(x_train, y_train)\n",
    "y_pred = grid.predict(x_test)\n",
    "print(classification_report(y_test, y_pred))\n",
    "accuracy = grid.score(x_test, y_test)\n",
    "compare_list.loc[len(compare_list)] = [grid.best_params_, {'col': ['reviewTextWithSummary', 'verified'], 'test_size': 0.25, 'proc': None, 'vectorizer': 'tfidf'}, accuracy]"
   ]
  },
  {
   "cell_type": "code",
   "execution_count": null,
   "id": "83cc9029",
   "metadata": {},
   "outputs": [],
   "source": [
    "x_train, x_test, y_train, y_test = pipeline(['reviewTextWithSummary', 'verified'], 0.25, baseline, bow, df_balanced_small)\n",
    "grid = GridSearchCV(SVC(), param_grid, refit=True, verbose=verbose, n_jobs=n_jobs, cv=cv)\n",
    "grid.fit(x_train, y_train)\n",
    "y_pred = grid.predict(x_test)\n",
    "print(classification_report(y_test, y_pred))\n",
    "accuracy = grid.score(x_test, y_test)\n",
    "compare_list.loc[len(compare_list)] = [grid.best_params_, {'col': ['reviewTextWithSummary', 'verified'], 'test_size': 0.25, 'proc': 'baseline', 'vectorizer': 'bow'}, accuracy]"
   ]
  },
  {
   "cell_type": "code",
   "execution_count": null,
   "id": "a3114dd0",
   "metadata": {},
   "outputs": [],
   "source": [
    "x_train, x_test, y_train, y_test = pipeline(['reviewTextWithSummary', 'verified'], 0.25, baseline, tfidf, df_balanced_small)\n",
    "grid = GridSearchCV(SVC(), param_grid, refit=True, verbose=verbose, n_jobs=n_jobs, cv=cv)\n",
    "grid.fit(x_train, y_train)\n",
    "y_pred = grid.predict(x_test)\n",
    "print(classification_report(y_test, y_pred))\n",
    "accuracy = grid.score(x_test, y_test)\n",
    "compare_list.loc[len(compare_list)] = [grid.best_params_, {'col': ['reviewTextWithSummary', 'verified'], 'test_size': 0.25, 'proc': 'baseline', 'vectorizer': 'tfidf'}, accuracy]"
   ]
  },
  {
   "cell_type": "code",
   "execution_count": null,
   "id": "a6a1200f",
   "metadata": {},
   "outputs": [],
   "source": [
    "x_train, x_test, y_train, y_test = pipeline(['reviewTextWithSummary', 'verified'], 0.25, stem, bow, df_balanced_small)\n",
    "grid = GridSearchCV(SVC(), param_grid, refit=True, verbose=verbose, n_jobs=n_jobs, cv=cv)\n",
    "grid.fit(x_train, y_train)\n",
    "y_pred = grid.predict(x_test)\n",
    "print(classification_report(y_test, y_pred))\n",
    "accuracy = grid.score(x_test, y_test)\n",
    "compare_list.loc[len(compare_list)] = [grid.best_params_, {'col': ['reviewTextWithSummary', 'verified'], 'test_size': 0.25, 'proc': 'stem', 'vectorizer': 'bow'}, accuracy]"
   ]
  },
  {
   "cell_type": "code",
   "execution_count": null,
   "id": "33904f89",
   "metadata": {},
   "outputs": [],
   "source": [
    "x_train, x_test, y_train, y_test = pipeline(['reviewTextWithSummary', 'verified'], 0.25, stem, tfidf, df_balanced_small)\n",
    "grid = GridSearchCV(SVC(), param_grid, refit=True, verbose=verbose, n_jobs=n_jobs, cv=cv)\n",
    "grid.fit(x_train, y_train)\n",
    "y_pred = grid.predict(x_test)\n",
    "print(classification_report(y_test, y_pred))\n",
    "accuracy = grid.score(x_test, y_test)\n",
    "compare_list.loc[len(compare_list)] = [grid.best_params_, {'col': ['reviewTextWithSummary', 'verified'], 'test_size': 0.25, 'proc': 'stem', 'vectorizer': 'tfidf'}, accuracy]"
   ]
  },
  {
   "cell_type": "code",
   "execution_count": null,
   "id": "a8dfdf47",
   "metadata": {},
   "outputs": [],
   "source": [
    "x_train, x_test, y_train, y_test = pipeline(['reviewTextWithSummary', 'verified'], 0.25, lem, bow, df_balanced_small)\n",
    "grid = GridSearchCV(SVC(), param_grid, refit=True, verbose=verbose, n_jobs=n_jobs, cv=cv)\n",
    "grid.fit(x_train, y_train)\n",
    "y_pred = grid.predict(x_test)\n",
    "print(classification_report(y_test, y_pred))\n",
    "accuracy = grid.score(x_test, y_test)\n",
    "compare_list.loc[len(compare_list)] = [grid.best_params_, {'col': ['reviewTextWithSummary', 'verified'], 'test_size': 0.25, 'proc': 'lem', 'vectorizer': 'bow'}, accuracy]"
   ]
  },
  {
   "cell_type": "code",
   "execution_count": null,
   "id": "b7e8f7c1",
   "metadata": {},
   "outputs": [],
   "source": [
    "x_train, x_test, y_train, y_test = pipeline(['reviewTextWithSummary', 'verified'], 0.25, lem, tfidf, df_balanced_small)\n",
    "grid = GridSearchCV(SVC(), param_grid, refit=True, verbose=verbose, n_jobs=n_jobs, cv=cv)\n",
    "grid.fit(x_train, y_train)\n",
    "y_pred = grid.predict(x_test)\n",
    "print(classification_report(y_test, y_pred))\n",
    "accuracy = grid.score(x_test, y_test)\n",
    "compare_list.loc[len(compare_list)] = [grid.best_params_, {'col': ['reviewTextWithSummary', 'verified'], 'test_size': 0.25, 'proc': 'lem', 'vectorizer': 'tfidf'}, accuracy]\n",
    "#######  END OF GENERATED CODE  #######"
   ]
  },
  {
   "cell_type": "code",
   "execution_count": null,
   "id": "970d6740",
   "metadata": {},
   "outputs": [],
   "source": [
    "compare_list = compare_list.sort_values(\n",
    "    by=\"Accuracy Score\", ascending=False\n",
    ").reset_index(drop=True)\n",
    "display(compare_list)"
   ]
  },
  {
   "cell_type": "code",
   "execution_count": null,
   "id": "ca0bb895",
   "metadata": {},
   "outputs": [],
   "source": [
    "print(\"Best Configuration on small balnaced dataset\")\n",
    "print(\"Score :: \", compare_list.loc[0][\"Accuracy Score\"])\n",
    "print(\"SVC   :: \", compare_list.loc[0][\"Params\"])\n",
    "print(\"data  :: \", compare_list.loc[0][\"Config\"])"
   ]
  },
  {
   "cell_type": "code",
   "execution_count": null,
   "id": "069469a2",
   "metadata": {},
   "outputs": [],
   "source": [
    "compare_list.to_csv(\"./results/svm_compare_list_small_balanced.csv\", index=False)"
   ]
  },
  {
   "cell_type": "markdown",
   "id": "3f5a88de",
   "metadata": {},
   "source": [
    "- Across all tests, reviewText with summary performed better than without summary.\n",
    "- Whether the verified column was included or not did not have any significant impact on the accuracy.\n",
    "- The RBF kernel performed better than the linear kernel in almost all cases.\n",
    "- Models performed better when the C value was = 1"
   ]
  },
  {
   "cell_type": "code",
   "execution_count": null,
   "id": "a5f2490d",
   "metadata": {},
   "outputs": [],
   "source": [
    "# 3 times the small_n to create an unbalanced dataset of the same size as the balanced dataset\n",
    "df_unbalanced_small = df.sample(n=3 * small_n, random_state=random_state, replace=True)\n",
    "df_unbalanced_small[\"sentiment\"].value_counts()"
   ]
  },
  {
   "cell_type": "markdown",
   "id": "54930ce6",
   "metadata": {},
   "source": [
    "## Small Unbalanced Dataset"
   ]
  },
  {
   "cell_type": "code",
   "execution_count": null,
   "id": "d9c9fc69",
   "metadata": {},
   "outputs": [],
   "source": [
    "param_grid = {\n",
    "    \"C\": [0.1, 1, 10, 100, 1000],\n",
    "    \"gamma\": [1, 0.1, 0.01, 0.001, 0.0001],\n",
    "    \"kernel\": [\"rbf\", \"linear\"],\n",
    "}\n",
    "n_jobs = -1\n",
    "verbose = 0\n",
    "cv = 3"
   ]
  },
  {
   "cell_type": "code",
   "execution_count": null,
   "id": "8ade2ce9",
   "metadata": {},
   "outputs": [],
   "source": [
    "compare_list = pd.DataFrame(columns=[\"Params\", \"Config\", \"Accuracy Score\"])"
   ]
  },
  {
   "cell_type": "code",
   "execution_count": null,
   "id": "5e58af62",
   "metadata": {},
   "outputs": [],
   "source": [
    "code_gen = False\n",
    "col_comb = [\n",
    "    [\"reviewText\"],\n",
    "    [\"reviewText\", \"verified\"],\n",
    "    [\"reviewTextWithSummary\"],\n",
    "    [\"reviewTextWithSummary\", \"verified\"],\n",
    "]\n",
    "proc_comb = [None, baseline, stem, lem]\n",
    "vectorizer_comb = [bow, tfidf]\n",
    "if code_gen:\n",
    "    for col in col_comb:\n",
    "        for proc in proc_comb:\n",
    "            for vectorizer in vectorizer_comb:\n",
    "                params = {\n",
    "                    \"col\": col,\n",
    "                    \"test_size\": 0.25,\n",
    "                    \"proc\": proc,\n",
    "                    \"vectorizer\": vectorizer,\n",
    "                }\n",
    "                print(\n",
    "                    f\"\"\"\n",
    "# %%\n",
    "x_train, x_test, y_train, y_test = pipeline({col}, 0.25, {proc}, {vectorizer}, df_unbalanced_small)\n",
    "grid = GridSearchCV(SVC(), param_grid, refit=True, verbose=verbose, n_jobs=n_jobs, cv=cv)\n",
    "grid.fit(x_train, y_train)\n",
    "y_pred = grid.predict(x_test)\n",
    "print(classification_report(y_test, y_pred))\n",
    "accuracy = grid.score(x_test, y_test)\n",
    "compare_list.loc[len(compare_list)] = [grid.best_params_, {params}, accuracy]\n",
    "\"\"\"\n",
    "                )"
   ]
  },
  {
   "cell_type": "code",
   "execution_count": null,
   "id": "bfbaf1f3",
   "metadata": {},
   "outputs": [],
   "source": [
    "# below is code genderated by above cell, to make changes to the code, edit the\n",
    "# above cell and run it, pasting its contents between the markers"
   ]
  },
  {
   "cell_type": "code",
   "execution_count": null,
   "id": "aab98d07",
   "metadata": {},
   "outputs": [],
   "source": [
    "\n",
    "####### START OF GENERATED CODE #######\n",
    "x_train, x_test, y_train, y_test = pipeline(['reviewText'], 0.25, None, bow, df_unbalanced_small)\n",
    "grid = GridSearchCV(SVC(), param_grid, refit=True, verbose=verbose, n_jobs=n_jobs, cv=cv)\n",
    "grid.fit(x_train, y_train)\n",
    "y_pred = grid.predict(x_test)\n",
    "print(classification_report(y_test, y_pred))\n",
    "accuracy = grid.score(x_test, y_test)\n",
    "compare_list.loc[len(compare_list)] = [grid.best_params_, {'col': ['reviewText'], 'test_size': 0.25, 'proc': None, 'vectorizer': 'bow'}, accuracy]"
   ]
  },
  {
   "cell_type": "code",
   "execution_count": null,
   "id": "18a1f6e7",
   "metadata": {},
   "outputs": [],
   "source": [
    "x_train, x_test, y_train, y_test = pipeline(['reviewText'], 0.25, None, tfidf, df_unbalanced_small)\n",
    "grid = GridSearchCV(SVC(), param_grid, refit=True, verbose=verbose, n_jobs=n_jobs, cv=cv)\n",
    "grid.fit(x_train, y_train)\n",
    "y_pred = grid.predict(x_test)\n",
    "print(classification_report(y_test, y_pred))\n",
    "accuracy = grid.score(x_test, y_test)\n",
    "compare_list.loc[len(compare_list)] = [grid.best_params_, {'col': ['reviewText'], 'test_size': 0.25, 'proc': None, 'vectorizer': 'tfidf'}, accuracy]"
   ]
  },
  {
   "cell_type": "code",
   "execution_count": null,
   "id": "b6f07fab",
   "metadata": {},
   "outputs": [],
   "source": [
    "x_train, x_test, y_train, y_test = pipeline(['reviewText'], 0.25, baseline, bow, df_unbalanced_small)\n",
    "grid = GridSearchCV(SVC(), param_grid, refit=True, verbose=verbose, n_jobs=n_jobs, cv=cv)\n",
    "grid.fit(x_train, y_train)\n",
    "y_pred = grid.predict(x_test)\n",
    "print(classification_report(y_test, y_pred))\n",
    "accuracy = grid.score(x_test, y_test)\n",
    "compare_list.loc[len(compare_list)] = [grid.best_params_, {'col': ['reviewText'], 'test_size': 0.25, 'proc': 'baseline', 'vectorizer': 'bow'}, accuracy]"
   ]
  },
  {
   "cell_type": "code",
   "execution_count": null,
   "id": "69856e1b",
   "metadata": {},
   "outputs": [],
   "source": [
    "x_train, x_test, y_train, y_test = pipeline(['reviewText'], 0.25, baseline, tfidf, df_unbalanced_small)\n",
    "grid = GridSearchCV(SVC(), param_grid, refit=True, verbose=verbose, n_jobs=n_jobs, cv=cv)\n",
    "grid.fit(x_train, y_train)\n",
    "y_pred = grid.predict(x_test)\n",
    "print(classification_report(y_test, y_pred))\n",
    "accuracy = grid.score(x_test, y_test)\n",
    "compare_list.loc[len(compare_list)] = [grid.best_params_, {'col': ['reviewText'], 'test_size': 0.25, 'proc': 'baseline', 'vectorizer': 'tfidf'}, accuracy]"
   ]
  },
  {
   "cell_type": "code",
   "execution_count": null,
   "id": "0c6fe1ee",
   "metadata": {},
   "outputs": [],
   "source": [
    "x_train, x_test, y_train, y_test = pipeline(['reviewText'], 0.25, stem, bow, df_unbalanced_small)\n",
    "grid = GridSearchCV(SVC(), param_grid, refit=True, verbose=verbose, n_jobs=n_jobs, cv=cv)\n",
    "grid.fit(x_train, y_train)\n",
    "y_pred = grid.predict(x_test)\n",
    "print(classification_report(y_test, y_pred))\n",
    "accuracy = grid.score(x_test, y_test)\n",
    "compare_list.loc[len(compare_list)] = [grid.best_params_, {'col': ['reviewText'], 'test_size': 0.25, 'proc': 'stem', 'vectorizer': 'bow'}, accuracy]"
   ]
  },
  {
   "cell_type": "code",
   "execution_count": null,
   "id": "6cbbdd88",
   "metadata": {},
   "outputs": [],
   "source": [
    "x_train, x_test, y_train, y_test = pipeline(['reviewText'], 0.25, stem, tfidf, df_unbalanced_small)\n",
    "grid = GridSearchCV(SVC(), param_grid, refit=True, verbose=verbose, n_jobs=n_jobs, cv=cv)\n",
    "grid.fit(x_train, y_train)\n",
    "y_pred = grid.predict(x_test)\n",
    "print(classification_report(y_test, y_pred))\n",
    "accuracy = grid.score(x_test, y_test)\n",
    "compare_list.loc[len(compare_list)] = [grid.best_params_, {'col': ['reviewText'], 'test_size': 0.25, 'proc': 'stem', 'vectorizer': 'tfidf'}, accuracy]"
   ]
  },
  {
   "cell_type": "code",
   "execution_count": null,
   "id": "b7c8060e",
   "metadata": {},
   "outputs": [],
   "source": [
    "x_train, x_test, y_train, y_test = pipeline(['reviewText'], 0.25, lem, bow, df_unbalanced_small)\n",
    "grid = GridSearchCV(SVC(), param_grid, refit=True, verbose=verbose, n_jobs=n_jobs, cv=cv)\n",
    "grid.fit(x_train, y_train)\n",
    "y_pred = grid.predict(x_test)\n",
    "print(classification_report(y_test, y_pred))\n",
    "accuracy = grid.score(x_test, y_test)\n",
    "compare_list.loc[len(compare_list)] = [grid.best_params_, {'col': ['reviewText'], 'test_size': 0.25, 'proc': 'lem', 'vectorizer': 'bow'}, accuracy]"
   ]
  },
  {
   "cell_type": "code",
   "execution_count": null,
   "id": "b574a32d",
   "metadata": {},
   "outputs": [],
   "source": [
    "x_train, x_test, y_train, y_test = pipeline(['reviewText'], 0.25, lem, tfidf, df_unbalanced_small)\n",
    "grid = GridSearchCV(SVC(), param_grid, refit=True, verbose=verbose, n_jobs=n_jobs, cv=cv)\n",
    "grid.fit(x_train, y_train)\n",
    "y_pred = grid.predict(x_test)\n",
    "print(classification_report(y_test, y_pred))\n",
    "accuracy = grid.score(x_test, y_test)\n",
    "compare_list.loc[len(compare_list)] = [grid.best_params_, {'col': ['reviewText'], 'test_size': 0.25, 'proc': 'lem', 'vectorizer': 'tfidf'}, accuracy]"
   ]
  },
  {
   "cell_type": "code",
   "execution_count": null,
   "id": "ce40a097",
   "metadata": {},
   "outputs": [],
   "source": [
    "x_train, x_test, y_train, y_test = pipeline(['reviewText', 'verified'], 0.25, None, bow, df_unbalanced_small)\n",
    "grid = GridSearchCV(SVC(), param_grid, refit=True, verbose=verbose, n_jobs=n_jobs, cv=cv)\n",
    "grid.fit(x_train, y_train)\n",
    "y_pred = grid.predict(x_test)\n",
    "print(classification_report(y_test, y_pred))\n",
    "accuracy = grid.score(x_test, y_test)\n",
    "compare_list.loc[len(compare_list)] = [grid.best_params_, {'col': ['reviewText', 'verified'], 'test_size': 0.25, 'proc': None, 'vectorizer': 'bow'}, accuracy]"
   ]
  },
  {
   "cell_type": "code",
   "execution_count": null,
   "id": "84f5e1fa",
   "metadata": {},
   "outputs": [],
   "source": [
    "x_train, x_test, y_train, y_test = pipeline(['reviewText', 'verified'], 0.25, None, tfidf, df_unbalanced_small)\n",
    "grid = GridSearchCV(SVC(), param_grid, refit=True, verbose=verbose, n_jobs=n_jobs, cv=cv)\n",
    "grid.fit(x_train, y_train)\n",
    "y_pred = grid.predict(x_test)\n",
    "print(classification_report(y_test, y_pred))\n",
    "accuracy = grid.score(x_test, y_test)\n",
    "compare_list.loc[len(compare_list)] = [grid.best_params_, {'col': ['reviewText', 'verified'], 'test_size': 0.25, 'proc': None, 'vectorizer': 'tfidf'}, accuracy]"
   ]
  },
  {
   "cell_type": "code",
   "execution_count": null,
   "id": "a613f076",
   "metadata": {},
   "outputs": [],
   "source": [
    "x_train, x_test, y_train, y_test = pipeline(['reviewText', 'verified'], 0.25, baseline, bow, df_unbalanced_small)\n",
    "grid = GridSearchCV(SVC(), param_grid, refit=True, verbose=verbose, n_jobs=n_jobs, cv=cv)\n",
    "grid.fit(x_train, y_train)\n",
    "y_pred = grid.predict(x_test)\n",
    "print(classification_report(y_test, y_pred))\n",
    "accuracy = grid.score(x_test, y_test)\n",
    "compare_list.loc[len(compare_list)] = [grid.best_params_, {'col': ['reviewText', 'verified'], 'test_size': 0.25, 'proc': 'baseline', 'vectorizer': 'bow'}, accuracy]"
   ]
  },
  {
   "cell_type": "code",
   "execution_count": null,
   "id": "3b31574c",
   "metadata": {},
   "outputs": [],
   "source": [
    "x_train, x_test, y_train, y_test = pipeline(['reviewText', 'verified'], 0.25, baseline, tfidf, df_unbalanced_small)\n",
    "grid = GridSearchCV(SVC(), param_grid, refit=True, verbose=verbose, n_jobs=n_jobs, cv=cv)\n",
    "grid.fit(x_train, y_train)\n",
    "y_pred = grid.predict(x_test)\n",
    "print(classification_report(y_test, y_pred))\n",
    "accuracy = grid.score(x_test, y_test)\n",
    "compare_list.loc[len(compare_list)] = [grid.best_params_, {'col': ['reviewText', 'verified'], 'test_size': 0.25, 'proc': 'baseline', 'vectorizer': 'tfidf'}, accuracy]"
   ]
  },
  {
   "cell_type": "code",
   "execution_count": null,
   "id": "10295522",
   "metadata": {},
   "outputs": [],
   "source": [
    "x_train, x_test, y_train, y_test = pipeline(['reviewText', 'verified'], 0.25, stem, bow, df_unbalanced_small)\n",
    "grid = GridSearchCV(SVC(), param_grid, refit=True, verbose=verbose, n_jobs=n_jobs, cv=cv)\n",
    "grid.fit(x_train, y_train)\n",
    "y_pred = grid.predict(x_test)\n",
    "print(classification_report(y_test, y_pred))\n",
    "accuracy = grid.score(x_test, y_test)\n",
    "compare_list.loc[len(compare_list)] = [grid.best_params_, {'col': ['reviewText', 'verified'], 'test_size': 0.25, 'proc': 'stem', 'vectorizer': 'bow'}, accuracy]"
   ]
  },
  {
   "cell_type": "code",
   "execution_count": null,
   "id": "d3ca004a",
   "metadata": {},
   "outputs": [],
   "source": [
    "x_train, x_test, y_train, y_test = pipeline(['reviewText', 'verified'], 0.25, stem, tfidf, df_unbalanced_small)\n",
    "grid = GridSearchCV(SVC(), param_grid, refit=True, verbose=verbose, n_jobs=n_jobs, cv=cv)\n",
    "grid.fit(x_train, y_train)\n",
    "y_pred = grid.predict(x_test)\n",
    "print(classification_report(y_test, y_pred))\n",
    "accuracy = grid.score(x_test, y_test)\n",
    "compare_list.loc[len(compare_list)] = [grid.best_params_, {'col': ['reviewText', 'verified'], 'test_size': 0.25, 'proc': 'stem', 'vectorizer': 'tfidf'}, accuracy]"
   ]
  },
  {
   "cell_type": "code",
   "execution_count": null,
   "id": "591824f0",
   "metadata": {},
   "outputs": [],
   "source": [
    "x_train, x_test, y_train, y_test = pipeline(['reviewText', 'verified'], 0.25, lem, bow, df_unbalanced_small)\n",
    "grid = GridSearchCV(SVC(), param_grid, refit=True, verbose=verbose, n_jobs=n_jobs, cv=cv)\n",
    "grid.fit(x_train, y_train)\n",
    "y_pred = grid.predict(x_test)\n",
    "print(classification_report(y_test, y_pred))\n",
    "accuracy = grid.score(x_test, y_test)\n",
    "compare_list.loc[len(compare_list)] = [grid.best_params_, {'col': ['reviewText', 'verified'], 'test_size': 0.25, 'proc': 'lem', 'vectorizer': 'bow'}, accuracy]"
   ]
  },
  {
   "cell_type": "code",
   "execution_count": null,
   "id": "5ddcfa6c",
   "metadata": {},
   "outputs": [],
   "source": [
    "x_train, x_test, y_train, y_test = pipeline(['reviewText', 'verified'], 0.25, lem, tfidf, df_unbalanced_small)\n",
    "grid = GridSearchCV(SVC(), param_grid, refit=True, verbose=verbose, n_jobs=n_jobs, cv=cv)\n",
    "grid.fit(x_train, y_train)\n",
    "y_pred = grid.predict(x_test)\n",
    "print(classification_report(y_test, y_pred))\n",
    "accuracy = grid.score(x_test, y_test)\n",
    "compare_list.loc[len(compare_list)] = [grid.best_params_, {'col': ['reviewText', 'verified'], 'test_size': 0.25, 'proc': 'lem', 'vectorizer': 'tfidf'}, accuracy]"
   ]
  },
  {
   "cell_type": "code",
   "execution_count": null,
   "id": "8f06ed2c",
   "metadata": {},
   "outputs": [],
   "source": [
    "x_train, x_test, y_train, y_test = pipeline(['reviewTextWithSummary'], 0.25, None, bow, df_unbalanced_small)\n",
    "grid = GridSearchCV(SVC(), param_grid, refit=True, verbose=verbose, n_jobs=n_jobs, cv=cv)\n",
    "grid.fit(x_train, y_train)\n",
    "y_pred = grid.predict(x_test)\n",
    "print(classification_report(y_test, y_pred))\n",
    "accuracy = grid.score(x_test, y_test)\n",
    "compare_list.loc[len(compare_list)] = [grid.best_params_, {'col': ['reviewTextWithSummary'], 'test_size': 0.25, 'proc': None, 'vectorizer': 'bow'}, accuracy]"
   ]
  },
  {
   "cell_type": "code",
   "execution_count": null,
   "id": "6dd01aac",
   "metadata": {},
   "outputs": [],
   "source": [
    "x_train, x_test, y_train, y_test = pipeline(['reviewTextWithSummary'], 0.25, None, tfidf, df_unbalanced_small)\n",
    "grid = GridSearchCV(SVC(), param_grid, refit=True, verbose=verbose, n_jobs=n_jobs, cv=cv)\n",
    "grid.fit(x_train, y_train)\n",
    "y_pred = grid.predict(x_test)\n",
    "print(classification_report(y_test, y_pred))\n",
    "accuracy = grid.score(x_test, y_test)\n",
    "compare_list.loc[len(compare_list)] = [grid.best_params_, {'col': ['reviewTextWithSummary'], 'test_size': 0.25, 'proc': None, 'vectorizer': 'tfidf'}, accuracy]"
   ]
  },
  {
   "cell_type": "code",
   "execution_count": null,
   "id": "a2f3f0a4",
   "metadata": {},
   "outputs": [],
   "source": [
    "x_train, x_test, y_train, y_test = pipeline(['reviewTextWithSummary'], 0.25, baseline, bow, df_unbalanced_small)\n",
    "grid = GridSearchCV(SVC(), param_grid, refit=True, verbose=verbose, n_jobs=n_jobs, cv=cv)\n",
    "grid.fit(x_train, y_train)\n",
    "y_pred = grid.predict(x_test)\n",
    "print(classification_report(y_test, y_pred))\n",
    "accuracy = grid.score(x_test, y_test)\n",
    "compare_list.loc[len(compare_list)] = [grid.best_params_, {'col': ['reviewTextWithSummary'], 'test_size': 0.25, 'proc': 'baseline', 'vectorizer': 'bow'}, accuracy]"
   ]
  },
  {
   "cell_type": "code",
   "execution_count": null,
   "id": "8c9a8faf",
   "metadata": {},
   "outputs": [],
   "source": [
    "x_train, x_test, y_train, y_test = pipeline(['reviewTextWithSummary'], 0.25, baseline, tfidf, df_unbalanced_small)\n",
    "grid = GridSearchCV(SVC(), param_grid, refit=True, verbose=verbose, n_jobs=n_jobs, cv=cv)\n",
    "grid.fit(x_train, y_train)\n",
    "y_pred = grid.predict(x_test)\n",
    "print(classification_report(y_test, y_pred))\n",
    "accuracy = grid.score(x_test, y_test)\n",
    "compare_list.loc[len(compare_list)] = [grid.best_params_, {'col': ['reviewTextWithSummary'], 'test_size': 0.25, 'proc': 'baseline', 'vectorizer': 'tfidf'}, accuracy]"
   ]
  },
  {
   "cell_type": "code",
   "execution_count": null,
   "id": "52f4acb3",
   "metadata": {},
   "outputs": [],
   "source": [
    "x_train, x_test, y_train, y_test = pipeline(['reviewTextWithSummary'], 0.25, stem, bow, df_unbalanced_small)\n",
    "grid = GridSearchCV(SVC(), param_grid, refit=True, verbose=verbose, n_jobs=n_jobs, cv=cv)\n",
    "grid.fit(x_train, y_train)\n",
    "y_pred = grid.predict(x_test)\n",
    "print(classification_report(y_test, y_pred))\n",
    "accuracy = grid.score(x_test, y_test)\n",
    "compare_list.loc[len(compare_list)] = [grid.best_params_, {'col': ['reviewTextWithSummary'], 'test_size': 0.25, 'proc': 'stem', 'vectorizer': 'bow'}, accuracy]"
   ]
  },
  {
   "cell_type": "code",
   "execution_count": null,
   "id": "2f41c924",
   "metadata": {},
   "outputs": [],
   "source": [
    "x_train, x_test, y_train, y_test = pipeline(['reviewTextWithSummary'], 0.25, stem, tfidf, df_unbalanced_small)\n",
    "grid = GridSearchCV(SVC(), param_grid, refit=True, verbose=verbose, n_jobs=n_jobs, cv=cv)\n",
    "grid.fit(x_train, y_train)\n",
    "y_pred = grid.predict(x_test)\n",
    "print(classification_report(y_test, y_pred))\n",
    "accuracy = grid.score(x_test, y_test)\n",
    "compare_list.loc[len(compare_list)] = [grid.best_params_, {'col': ['reviewTextWithSummary'], 'test_size': 0.25, 'proc': 'stem', 'vectorizer': 'tfidf'}, accuracy]"
   ]
  },
  {
   "cell_type": "code",
   "execution_count": null,
   "id": "e4cce711",
   "metadata": {},
   "outputs": [],
   "source": [
    "x_train, x_test, y_train, y_test = pipeline(['reviewTextWithSummary'], 0.25, lem, bow, df_unbalanced_small)\n",
    "grid = GridSearchCV(SVC(), param_grid, refit=True, verbose=verbose, n_jobs=n_jobs, cv=cv)\n",
    "grid.fit(x_train, y_train)\n",
    "y_pred = grid.predict(x_test)\n",
    "print(classification_report(y_test, y_pred))\n",
    "accuracy = grid.score(x_test, y_test)\n",
    "compare_list.loc[len(compare_list)] = [grid.best_params_, {'col': ['reviewTextWithSummary'], 'test_size': 0.25, 'proc': 'lem', 'vectorizer': 'bow'}, accuracy]"
   ]
  },
  {
   "cell_type": "code",
   "execution_count": null,
   "id": "682495df",
   "metadata": {},
   "outputs": [],
   "source": [
    "x_train, x_test, y_train, y_test = pipeline(['reviewTextWithSummary'], 0.25, lem, tfidf, df_unbalanced_small)\n",
    "grid = GridSearchCV(SVC(), param_grid, refit=True, verbose=verbose, n_jobs=n_jobs, cv=cv)\n",
    "grid.fit(x_train, y_train)\n",
    "y_pred = grid.predict(x_test)\n",
    "print(classification_report(y_test, y_pred))\n",
    "accuracy = grid.score(x_test, y_test)\n",
    "compare_list.loc[len(compare_list)] = [grid.best_params_, {'col': ['reviewTextWithSummary'], 'test_size': 0.25, 'proc': 'lem', 'vectorizer': 'tfidf'}, accuracy]"
   ]
  },
  {
   "cell_type": "code",
   "execution_count": null,
   "id": "8e9ac4c0",
   "metadata": {},
   "outputs": [],
   "source": [
    "x_train, x_test, y_train, y_test = pipeline(['reviewTextWithSummary', 'verified'], 0.25, None, bow, df_unbalanced_small)\n",
    "grid = GridSearchCV(SVC(), param_grid, refit=True, verbose=verbose, n_jobs=n_jobs, cv=cv)\n",
    "grid.fit(x_train, y_train)\n",
    "y_pred = grid.predict(x_test)\n",
    "print(classification_report(y_test, y_pred))\n",
    "accuracy = grid.score(x_test, y_test)\n",
    "compare_list.loc[len(compare_list)] = [grid.best_params_, {'col': ['reviewTextWithSummary', 'verified'], 'test_size': 0.25, 'proc': None, 'vectorizer': 'bow'}, accuracy]"
   ]
  },
  {
   "cell_type": "code",
   "execution_count": null,
   "id": "0ad6f54a",
   "metadata": {},
   "outputs": [],
   "source": [
    "x_train, x_test, y_train, y_test = pipeline(['reviewTextWithSummary', 'verified'], 0.25, None, tfidf, df_unbalanced_small)\n",
    "grid = GridSearchCV(SVC(), param_grid, refit=True, verbose=verbose, n_jobs=n_jobs, cv=cv)\n",
    "grid.fit(x_train, y_train)\n",
    "y_pred = grid.predict(x_test)\n",
    "print(classification_report(y_test, y_pred))\n",
    "accuracy = grid.score(x_test, y_test)\n",
    "compare_list.loc[len(compare_list)] = [grid.best_params_, {'col': ['reviewTextWithSummary', 'verified'], 'test_size': 0.25, 'proc': None, 'vectorizer': 'tfidf'}, accuracy]"
   ]
  },
  {
   "cell_type": "code",
   "execution_count": null,
   "id": "7b5f4c5e",
   "metadata": {},
   "outputs": [],
   "source": [
    "x_train, x_test, y_train, y_test = pipeline(['reviewTextWithSummary', 'verified'], 0.25, baseline, bow, df_unbalanced_small)\n",
    "grid = GridSearchCV(SVC(), param_grid, refit=True, verbose=verbose, n_jobs=n_jobs, cv=cv)\n",
    "grid.fit(x_train, y_train)\n",
    "y_pred = grid.predict(x_test)\n",
    "print(classification_report(y_test, y_pred))\n",
    "accuracy = grid.score(x_test, y_test)\n",
    "compare_list.loc[len(compare_list)] = [grid.best_params_, {'col': ['reviewTextWithSummary', 'verified'], 'test_size': 0.25, 'proc': 'baseline', 'vectorizer': 'bow'}, accuracy]"
   ]
  },
  {
   "cell_type": "code",
   "execution_count": null,
   "id": "d9050d0f",
   "metadata": {},
   "outputs": [],
   "source": [
    "x_train, x_test, y_train, y_test = pipeline(['reviewTextWithSummary', 'verified'], 0.25, baseline, tfidf, df_unbalanced_small)\n",
    "grid = GridSearchCV(SVC(), param_grid, refit=True, verbose=verbose, n_jobs=n_jobs, cv=cv)\n",
    "grid.fit(x_train, y_train)\n",
    "y_pred = grid.predict(x_test)\n",
    "print(classification_report(y_test, y_pred))\n",
    "accuracy = grid.score(x_test, y_test)\n",
    "compare_list.loc[len(compare_list)] = [grid.best_params_, {'col': ['reviewTextWithSummary', 'verified'], 'test_size': 0.25, 'proc': 'baseline', 'vectorizer': 'tfidf'}, accuracy]"
   ]
  },
  {
   "cell_type": "code",
   "execution_count": null,
   "id": "692a3215",
   "metadata": {},
   "outputs": [],
   "source": [
    "x_train, x_test, y_train, y_test = pipeline(['reviewTextWithSummary', 'verified'], 0.25, stem, bow, df_unbalanced_small)\n",
    "grid = GridSearchCV(SVC(), param_grid, refit=True, verbose=verbose, n_jobs=n_jobs, cv=cv)\n",
    "grid.fit(x_train, y_train)\n",
    "y_pred = grid.predict(x_test)\n",
    "print(classification_report(y_test, y_pred))\n",
    "accuracy = grid.score(x_test, y_test)\n",
    "compare_list.loc[len(compare_list)] = [grid.best_params_, {'col': ['reviewTextWithSummary', 'verified'], 'test_size': 0.25, 'proc': 'stem', 'vectorizer': 'bow'}, accuracy]"
   ]
  },
  {
   "cell_type": "code",
   "execution_count": null,
   "id": "053ffb69",
   "metadata": {},
   "outputs": [],
   "source": [
    "x_train, x_test, y_train, y_test = pipeline(['reviewTextWithSummary', 'verified'], 0.25, stem, tfidf, df_unbalanced_small)\n",
    "grid = GridSearchCV(SVC(), param_grid, refit=True, verbose=verbose, n_jobs=n_jobs, cv=cv)\n",
    "grid.fit(x_train, y_train)\n",
    "y_pred = grid.predict(x_test)\n",
    "print(classification_report(y_test, y_pred))\n",
    "accuracy = grid.score(x_test, y_test)\n",
    "compare_list.loc[len(compare_list)] = [grid.best_params_, {'col': ['reviewTextWithSummary', 'verified'], 'test_size': 0.25, 'proc': 'stem', 'vectorizer': 'tfidf'}, accuracy]"
   ]
  },
  {
   "cell_type": "code",
   "execution_count": null,
   "id": "c0cad1bc",
   "metadata": {},
   "outputs": [],
   "source": [
    "x_train, x_test, y_train, y_test = pipeline(['reviewTextWithSummary', 'verified'], 0.25, lem, bow, df_unbalanced_small)\n",
    "grid = GridSearchCV(SVC(), param_grid, refit=True, verbose=verbose, n_jobs=n_jobs, cv=cv)\n",
    "grid.fit(x_train, y_train)\n",
    "y_pred = grid.predict(x_test)\n",
    "print(classification_report(y_test, y_pred))\n",
    "accuracy = grid.score(x_test, y_test)\n",
    "compare_list.loc[len(compare_list)] = [grid.best_params_, {'col': ['reviewTextWithSummary', 'verified'], 'test_size': 0.25, 'proc': 'lem', 'vectorizer': 'bow'}, accuracy]"
   ]
  },
  {
   "cell_type": "code",
   "execution_count": null,
   "id": "d9d4f680",
   "metadata": {},
   "outputs": [],
   "source": [
    "x_train, x_test, y_train, y_test = pipeline(['reviewTextWithSummary', 'verified'], 0.25, lem, tfidf, df_unbalanced_small)\n",
    "grid = GridSearchCV(SVC(), param_grid, refit=True, verbose=verbose, n_jobs=n_jobs, cv=cv)\n",
    "grid.fit(x_train, y_train)\n",
    "y_pred = grid.predict(x_test)\n",
    "print(classification_report(y_test, y_pred))\n",
    "accuracy = grid.score(x_test, y_test)\n",
    "compare_list.loc[len(compare_list)] = [grid.best_params_, {'col': ['reviewTextWithSummary', 'verified'], 'test_size': 0.25, 'proc': 'lem', 'vectorizer': 'tfidf'}, accuracy]\n",
    "#######  END OF GENERATED CODE  #######"
   ]
  },
  {
   "cell_type": "code",
   "execution_count": null,
   "id": "328aa190",
   "metadata": {},
   "outputs": [],
   "source": [
    "compare_list = compare_list.sort_values(\n",
    "    by=\"Accuracy Score\", ascending=False\n",
    ").reset_index(drop=True)\n",
    "display(compare_list)"
   ]
  },
  {
   "cell_type": "code",
   "execution_count": null,
   "id": "aa1a6ab8",
   "metadata": {},
   "outputs": [],
   "source": [
    "compare_list.to_csv(\"./results/svm_compare_list_small_unbalanced.csv\", index=False)"
   ]
  },
  {
   "cell_type": "code",
   "execution_count": null,
   "id": "2065ef07",
   "metadata": {},
   "outputs": [],
   "source": [
    "print(\"Best Configuration on small unbalanced dataset\")\n",
    "print(\"Score :: \", compare_list.loc[0][\"Accuracy Score\"])\n",
    "print(\"SVC   :: \", compare_list.loc[0][\"Params\"])\n",
    "print(\"data  :: \", compare_list.loc[0][\"Config\"])"
   ]
  },
  {
   "cell_type": "markdown",
   "id": "c5a1dbd1",
   "metadata": {},
   "source": [
    "..."
   ]
  },
  {
   "cell_type": "markdown",
   "id": "5a635cf2",
   "metadata": {},
   "source": [
    "## Comparing the best models from each experiment on the full dataset"
   ]
  },
  {
   "cell_type": "code",
   "execution_count": null,
   "id": "bf0a3fc8",
   "metadata": {},
   "outputs": [],
   "source": [
    "df_balanced_large = (\n",
    "    df.groupby(\"sentiment\")\n",
    "    .apply(lambda x: x.sample(n=large_n, random_state=random_state, replace=True))\n",
    "    .reset_index(drop=True)\n",
    ")"
   ]
  },
  {
   "cell_type": "code",
   "execution_count": null,
   "id": "794fa2ad",
   "metadata": {},
   "outputs": [],
   "source": [
    "svc_balanced_small = SVC(C=1, gamma=1, kernel=\"rbf\")\n",
    "x_train, x_test, y_train, y_test = pipeline(\n",
    "    [\"reviewTextWithSummary\"], 0.25, None, tfidf, df_balanced_large\n",
    ")\n",
    "svc_balanced_small.fit(x_train, y_train)\n",
    "y_pred = svc_balanced_small.predict(x_test)\n",
    "print(classification_report(y_test, y_pred))\n",
    "accuracy = accuracy_score(y_test, y_pred)\n",
    "precision = precision_score(y_test, y_pred, average=\"weighted\")\n",
    "recall = recall_score(y_test, y_pred, average=\"weighted\")\n",
    "f1 = f1_score(y_test, y_pred, average=\"weighted\")"
   ]
  },
  {
   "cell_type": "code",
   "execution_count": null,
   "id": "c9edc0f9",
   "metadata": {},
   "outputs": [],
   "source": [
    "df_unbalanced_large = df.sample(n=3 * large_n, random_state=random_state, replace=True)"
   ]
  },
  {
   "cell_type": "code",
   "execution_count": null,
   "id": "0bb64b10",
   "metadata": {},
   "outputs": [],
   "source": [
    "svc_unbalanced_small = SVC(C=10, gamma=0.01, kernel=\"rbf\")\n",
    "x_train, x_test, y_train, y_test = pipeline(\n",
    "    [\"reviewTextWithSummary\"], 0.25, None, bow, df_unbalanced_large\n",
    ")\n",
    "svc_unbalanced_small.fit(x_train, y_train)\n",
    "y_pred = svc_unbalanced_small.predict(x_test)\n",
    "print(classification_report(y_test, y_pred))\n",
    "accuracy = accuracy_score(y_test, y_pred)\n",
    "precision = precision_score(y_test, y_pred, average=\"weighted\")\n",
    "recall = recall_score(y_test, y_pred, average=\"weighted\")\n",
    "f1 = f1_score(y_test, y_pred, average=\"weighted\")\n",
    "\n",
    "# # %% [markdown]\n",
    "# # Using svc_balanced_small\n",
    "#\n",
    "# # %%\n",
    "# x_train, x_test, y_train, y_test = my_train_test_split([\"reviewTextWithSummary\"], 0.25, df, random_state)\n",
    "# vectorizer = TfidfVectorizer()\n",
    "# x_train = vectorizer.fit_transform(x_train)\n",
    "# x_test = vectorizer.transform(x_test)"
   ]
  }
 ],
 "metadata": {
  "kernelspec": {
   "display_name": "Python 3 (ipykernel)",
   "language": "python",
   "name": "python3"
  },
  "language_info": {
   "codemirror_mode": {
    "name": "ipython",
    "version": 3
   },
   "file_extension": ".py",
   "mimetype": "text/x-python",
   "name": "python",
   "nbconvert_exporter": "python",
   "pygments_lexer": "ipython3",
   "version": "3.10.12"
  }
 },
 "nbformat": 4,
 "nbformat_minor": 5
}
